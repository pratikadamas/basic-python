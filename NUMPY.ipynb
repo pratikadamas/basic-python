{
 "cells": [
  {
   "cell_type": "code",
   "execution_count": 1,
   "id": "initial_id",
   "metadata": {
    "collapsed": true,
    "ExecuteTime": {
     "end_time": "2025-03-13T18:54:36.582719Z",
     "start_time": "2025-03-13T18:54:36.577752Z"
    }
   },
   "outputs": [],
   "source": [
    "# ARRAY NUMPY"
   ]
  },
  {
   "cell_type": "code",
   "outputs": [],
   "source": [
    "import numpy as np\n",
    "import matplotlib.pyplot as plt\n",
    "import seaborn as sns\n",
    "\n",
    "\n",
    "\n",
    "\n"
   ],
   "metadata": {
    "collapsed": false,
    "ExecuteTime": {
     "end_time": "2025-03-13T20:12:45.280048Z",
     "start_time": "2025-03-13T20:12:43.207645Z"
    }
   },
   "id": "cb9cb017ef5617b3",
   "execution_count": 36
  },
  {
   "cell_type": "code",
   "outputs": [],
   "source": [
    " # LIST VSNUMPY ARRAY"
   ],
   "metadata": {
    "collapsed": false,
    "ExecuteTime": {
     "end_time": "2025-03-13T18:54:37.626634Z",
     "start_time": "2025-03-13T18:54:37.622985Z"
    }
   },
   "id": "931093cca5000b9e",
   "execution_count": 3
  },
  {
   "cell_type": "code",
   "outputs": [
    {
     "name": "stdout",
     "output_type": "stream",
     "text": [
      "list multiplication  [1, 2, 3, 1, 2, 3]\n",
      "numpy array multiplication  [2 4 6]\n"
     ]
    }
   ],
   "source": [
    "List = [1,2,3]\n",
    "print(\"list multiplication \",List*2)\n",
    "print(\"numpy array multiplication \",np.array(List)*2)"
   ],
   "metadata": {
    "collapsed": false,
    "ExecuteTime": {
     "end_time": "2025-03-13T18:54:37.636295Z",
     "start_time": "2025-03-13T18:54:37.627785Z"
    }
   },
   "id": "bc5c062497b0174f",
   "execution_count": 4
  },
  {
   "cell_type": "code",
   "outputs": [],
   "source": [
    "# creating array from scratch"
   ],
   "metadata": {
    "collapsed": false,
    "ExecuteTime": {
     "end_time": "2025-03-13T18:54:37.643016Z",
     "start_time": "2025-03-13T18:54:37.638483Z"
    }
   },
   "id": "f39dbdf33a63dd81",
   "execution_count": 5
  },
  {
   "cell_type": "code",
   "outputs": [
    {
     "name": "stdout",
     "output_type": "stream",
     "text": [
      "[[1. 1. 1.]\n",
      " [1. 1. 1.]]\n",
      "[0 1 2 3 4 5 6 7 8 9]\n"
     ]
    }
   ],
   "source": [
    "ones =np.ones((2,3))\n",
    "print(ones)\n",
    "sequence = np.arange(0,10,1)\n",
    "print(sequence)"
   ],
   "metadata": {
    "collapsed": false,
    "ExecuteTime": {
     "end_time": "2025-03-13T18:54:37.651996Z",
     "start_time": "2025-03-13T18:54:37.645411Z"
    }
   },
   "id": "d0ab0309f5866e08",
   "execution_count": 6
  },
  {
   "cell_type": "code",
   "outputs": [],
   "source": [
    "    # Vector -1D array ,Matrics -2 D arary  ,Tecsor - more than 2 D array"
   ],
   "metadata": {
    "collapsed": false,
    "ExecuteTime": {
     "end_time": "2025-03-13T18:54:37.657751Z",
     "start_time": "2025-03-13T18:54:37.654092Z"
    }
   },
   "id": "156b7b3174baae53",
   "execution_count": 7
  },
  {
   "cell_type": "code",
   "outputs": [
    {
     "name": "stdout",
     "output_type": "stream",
     "text": [
      "[1 2 3] \n",
      "\n",
      "[[1 2 3]\n",
      " [4 5 6]] \n",
      "\n",
      "[[[1 2]\n",
      "  [4 5]]\n",
      "\n",
      " [[5 6]\n",
      "  [7 9]]]\n"
     ]
    }
   ],
   "source": [
    "vactor = [1,2,3]\n",
    "print(np.array(vactor),\"\\n\")\n",
    "\n",
    "matrix = [[1,2,3],[4,5,6]]\n",
    "print(np.array(matrix),\"\\n\")\n",
    "\n",
    "tensor =[[[1,2],[4,5]],[[5,6],[7,9]]]\n",
    "print(np.array(tensor))"
   ],
   "metadata": {
    "collapsed": false,
    "ExecuteTime": {
     "end_time": "2025-03-13T18:54:37.666096Z",
     "start_time": "2025-03-13T18:54:37.658811Z"
    }
   },
   "id": "84c46a6ceb35cac8",
   "execution_count": 8
  },
  {
   "cell_type": "code",
   "outputs": [],
   "source": [
    "# Array properties"
   ],
   "metadata": {
    "collapsed": false,
    "ExecuteTime": {
     "end_time": "2025-03-13T18:54:37.672704Z",
     "start_time": "2025-03-13T18:54:37.668458Z"
    }
   },
   "id": "6a2dd1386f6fe4d8",
   "execution_count": 9
  },
  {
   "cell_type": "code",
   "outputs": [
    {
     "name": "stdout",
     "output_type": "stream",
     "text": [
      "[ 0  1  2  3  4  5  6  7  8  9 10 11]\n",
      "(12,)\n",
      "int64\n",
      "8\n",
      "12\n",
      "[[ 0  1  2]\n",
      " [ 3  4  5]\n",
      " [ 6  7  8]\n",
      " [ 9 10 11]]\n",
      "[ 0  1  2  3  4  5  6  7  8  9 10 11]\n",
      "[ 0  1  2  3  4  5  6  7  8  9 10 11]\n",
      "[[ 0  3  6  9]\n",
      " [ 1  4  7 10]\n",
      " [ 2  5  8 11]]\n"
     ]
    }
   ],
   "source": [
    "arr = np.arange(12)\n",
    "print(arr)\n",
    "\n",
    "print(arr.shape)\n",
    "print(arr.dtype)\n",
    "print(arr.itemsize)\n",
    "print(arr.size)\n",
    "\n",
    "reshaped = arr.reshape((4,3))\n",
    "print(reshaped)\n",
    "\n",
    "# print(reshaped.shape)\n",
    "\n",
    "# create a copy\n",
    "flattend = arr.flatten()\n",
    "print(flattend)\n",
    "\n",
    "\n",
    "# change in original copy\n",
    "raveld = arr.ravel()\n",
    "print(raveld)\n",
    "\n",
    "transposed = reshaped.T\n",
    "print(transposed)\n"
   ],
   "metadata": {
    "collapsed": false,
    "ExecuteTime": {
     "end_time": "2025-03-13T18:54:37.680222Z",
     "start_time": "2025-03-13T18:54:37.673900Z"
    }
   },
   "id": "3e6dc111828317b9",
   "execution_count": 10
  },
  {
   "cell_type": "code",
   "outputs": [],
   "source": [
    "# Sorting arary"
   ],
   "metadata": {
    "collapsed": false,
    "ExecuteTime": {
     "end_time": "2025-03-13T18:54:37.686205Z",
     "start_time": "2025-03-13T18:54:37.682825Z"
    }
   },
   "id": "68c9f88f9afc07f5",
   "execution_count": 11
  },
  {
   "cell_type": "code",
   "outputs": [
    {
     "name": "stdout",
     "output_type": "stream",
     "text": [
      "sorted 1 D array  [-7  0  1  2  5  6  8]\n",
      "unsorted 2D array by columns \n",
      " [[ 1 -7]\n",
      " [ 4  3]\n",
      " [ 7  8]]\n",
      "unsorted 2D array  by rows\n",
      " [[ 1  3]\n",
      " [ 4  8]\n",
      " [-7  7]]\n"
     ]
    }
   ],
   "source": [
    "unsorted_1D =[1,8,-7,5,2,0,6]\n",
    "print(\"sorted 1 D array \",np.sort(unsorted_1D))\n",
    "\n",
    "unsorted_2D =[[1,3],[4,8],[7,-7]]\n",
    "print(\"unsorted 2D array by columns \\n\",np.sort(unsorted_2D,axis=0))  #column wise all values sorted\n",
    "\n",
    "\n",
    "print(\"unsorted 2D array  by rows\\n\",np.sort(unsorted_2D,axis=1)) # row wise all values sorted"
   ],
   "metadata": {
    "collapsed": false,
    "ExecuteTime": {
     "end_time": "2025-03-13T18:54:37.695172Z",
     "start_time": "2025-03-13T18:54:37.688326Z"
    }
   },
   "id": "fb5aec504a72e548",
   "execution_count": 12
  },
  {
   "cell_type": "code",
   "outputs": [],
   "source": [
    "    # Filters"
   ],
   "metadata": {
    "collapsed": false,
    "ExecuteTime": {
     "end_time": "2025-03-13T18:54:37.701498Z",
     "start_time": "2025-03-13T18:54:37.696539Z"
    }
   },
   "id": "b3243e57c427483",
   "execution_count": 13
  },
  {
   "cell_type": "code",
   "outputs": [
    {
     "name": "stdout",
     "output_type": "stream",
     "text": [
      "[ 1  2  3  4  5  6  7  8  9 10 11 12]\n",
      "[False  True False  True False  True False  True False  True False  True]\n",
      "[ 2  4  6  8 10 12]\n"
     ]
    }
   ],
   "source": [
    "numbers= np.arange(1,13)\n",
    "print(numbers)\n",
    "nums = numbers % 2==0\n",
    "print(nums)\n",
    "\n",
    "evens =numbers[numbers % 2==0]\n",
    "print(evens)\n",
    "\n"
   ],
   "metadata": {
    "collapsed": false,
    "ExecuteTime": {
     "end_time": "2025-03-13T18:54:37.710066Z",
     "start_time": "2025-03-13T18:54:37.704174Z"
    }
   },
   "id": "29bf6f8f181ca42f",
   "execution_count": 14
  },
  {
   "cell_type": "code",
   "outputs": [],
   "source": [
    "# Delete element"
   ],
   "metadata": {
    "collapsed": false,
    "ExecuteTime": {
     "end_time": "2025-03-13T18:54:37.716402Z",
     "start_time": "2025-03-13T18:54:37.711835Z"
    }
   },
   "id": "f968830f555c0ae5",
   "execution_count": 15
  },
  {
   "cell_type": "code",
   "outputs": [
    {
     "name": "stdout",
     "output_type": "stream",
     "text": [
      "[ 1  2  3  4  5  7  8  9 10]\n"
     ]
    }
   ],
   "source": [
    "arr = [1,2,3,4,5,6,7,8,9,10]\n",
    "deleted = np.delete(arr, 5)\n",
    "print(deleted)"
   ],
   "metadata": {
    "collapsed": false,
    "ExecuteTime": {
     "end_time": "2025-03-13T18:54:37.722847Z",
     "start_time": "2025-03-13T18:54:37.717848Z"
    }
   },
   "id": "a547f97d8d3f5b82",
   "execution_count": 16
  },
  {
   "cell_type": "code",
   "outputs": [],
   "source": [
    "# RANDOM"
   ],
   "metadata": {
    "collapsed": false,
    "ExecuteTime": {
     "end_time": "2025-03-13T18:54:37.728756Z",
     "start_time": "2025-03-13T18:54:37.724935Z"
    }
   },
   "id": "b89ea15446c32945",
   "execution_count": 17
  },
  {
   "cell_type": "code",
   "outputs": [
    {
     "name": "stdout",
     "output_type": "stream",
     "text": [
      "0.5435881326658519\n"
     ]
    }
   ],
   "source": [
    "any_num = np.random.rand()\n",
    "print(any_num)"
   ],
   "metadata": {
    "collapsed": false,
    "ExecuteTime": {
     "end_time": "2025-03-13T18:54:38.112749Z",
     "start_time": "2025-03-13T18:54:37.730875Z"
    }
   },
   "id": "9edb68651efbfaa4",
   "execution_count": 18
  },
  {
   "cell_type": "code",
   "outputs": [
    {
     "name": "stdout",
     "output_type": "stream",
     "text": [
      "[[0.78867264 0.68501828 0.64552428 0.71023282 0.22769605 0.89936759]\n",
      " [0.75394286 0.67279214 0.35628999 0.74760965 0.037153   0.44140264]\n",
      " [0.89532007 0.26943767 0.93165756 0.46598356 0.55257981 0.23038802]\n",
      " [0.74124096 0.38318289 0.70251217 0.83247732 0.37741071 0.29969885]\n",
      " [0.10955202 0.91030673 0.42290399 0.61321214 0.87451843 0.14988953]]\n"
     ]
    }
   ],
   "source": [
    "any_num = np.random.rand(5,6)\n",
    "print(any_num)"
   ],
   "metadata": {
    "collapsed": false,
    "ExecuteTime": {
     "end_time": "2025-03-13T18:54:38.120390Z",
     "start_time": "2025-03-13T18:54:38.114959Z"
    }
   },
   "id": "1f0a50815194e594",
   "execution_count": 19
  },
  {
   "cell_type": "code",
   "outputs": [
    {
     "name": "stdout",
     "output_type": "stream",
     "text": [
      "[[ 2 59 92 18 18 32]\n",
      " [28 45 65 97 52 63]\n",
      " [57 33  2 95 83 44]\n",
      " [77 76 20 88 34 90]\n",
      " [ 5 84  3  6 76 19]]\n"
     ]
    }
   ],
   "source": [
    "any_num = np.random.randint(100, size=(5,6))\n",
    "print(any_num)"
   ],
   "metadata": {
    "collapsed": false,
    "ExecuteTime": {
     "end_time": "2025-03-13T18:54:38.128779Z",
     "start_time": "2025-03-13T18:54:38.123041Z"
    }
   },
   "id": "4531a641bafe90d",
   "execution_count": 20
  },
  {
   "cell_type": "code",
   "outputs": [],
   "source": [
    "# arthmatic function"
   ],
   "metadata": {
    "collapsed": false,
    "ExecuteTime": {
     "end_time": "2025-03-13T18:54:38.135320Z",
     "start_time": "2025-03-13T18:54:38.129891Z"
    }
   },
   "id": "92b9c20ea68034e9",
   "execution_count": 21
  },
  {
   "cell_type": "code",
   "outputs": [
    {
     "name": "stdout",
     "output_type": "stream",
     "text": [
      "5 4\n",
      "1\n",
      "[ 0.54030231 -0.41614684 -0.9899925  -0.65364362  0.28366219]\n"
     ]
    }
   ],
   "source": [
    "arr = np.array([1,2,3,4,5])\n",
    "print(np.max(arr), np.argmax(arr1))\n",
    "print(np.min(arr))\n",
    "print(np.cos(arr))"
   ],
   "metadata": {
    "collapsed": false,
    "ExecuteTime": {
     "end_time": "2025-03-13T18:54:38.143322Z",
     "start_time": "2025-03-13T18:54:38.136376Z"
    }
   },
   "id": "84105920a3eaa3e0",
   "execution_count": 22
  },
  {
   "cell_type": "code",
   "outputs": [],
   "source": [
    "# cumulitive sum"
   ],
   "metadata": {
    "collapsed": false,
    "ExecuteTime": {
     "end_time": "2025-03-13T18:54:38.148707Z",
     "start_time": "2025-03-13T18:54:38.144332Z"
    }
   },
   "id": "a8c602659d4c04e5",
   "execution_count": 23
  },
  {
   "cell_type": "code",
   "outputs": [
    {
     "name": "stdout",
     "output_type": "stream",
     "text": [
      "[ 1  3  6 10 15]\n"
     ]
    }
   ],
   "source": [
    "arr = np.array([1,2,3,4,5])\n",
    "print(np.cumsum(arr))"
   ],
   "metadata": {
    "collapsed": false,
    "ExecuteTime": {
     "end_time": "2025-03-13T18:54:38.156804Z",
     "start_time": "2025-03-13T18:54:38.150843Z"
    }
   },
   "id": "f689b567f44bf301",
   "execution_count": 24
  },
  {
   "cell_type": "code",
   "outputs": [
    {
     "name": "stdout",
     "output_type": "stream",
     "text": [
      "(4,)\n",
      "[2 3 4 5]\n",
      "\n",
      "(5, 1)\n",
      "[[1]\n",
      " [2]\n",
      " [3]\n",
      " [4]\n",
      " [5]]\n",
      "\n",
      "[[ 3  4  5  6]\n",
      " [ 4  5  6  7]\n",
      " [ 5  6  7  8]\n",
      " [ 6  7  8  9]\n",
      " [ 7  8  9 10]]\n",
      "(5, 4)\n"
     ]
    }
   ],
   "source": [
    "arr1= np.array([2,3,4,5])\n",
    "print(arr1.shape)\n",
    "print(arr1)\n",
    "print()\n",
    "arr2= np.array([[1],[2],[3],[4],[5]])\n",
    "print(arr2.shape)\n",
    "print(arr2)\n",
    "print()\n",
    "arr3= arr1+arr2\n",
    "print(arr3)\n",
    "print(arr3.shape)"
   ],
   "metadata": {
    "collapsed": false,
    "ExecuteTime": {
     "end_time": "2025-03-13T18:54:38.165145Z",
     "start_time": "2025-03-13T18:54:38.158896Z"
    }
   },
   "id": "a4382264e6e8a6ce",
   "execution_count": 25
  },
  {
   "cell_type": "code",
   "outputs": [],
   "source": [
    "# join and split\n"
   ],
   "metadata": {
    "collapsed": false,
    "ExecuteTime": {
     "end_time": "2025-03-13T18:54:38.169819Z",
     "start_time": "2025-03-13T18:54:38.166264Z"
    }
   },
   "id": "98ad58530b05804b",
   "execution_count": 25
  },
  {
   "cell_type": "code",
   "outputs": [
    {
     "name": "stdout",
     "output_type": "stream",
     "text": [
      "[[1 2]\n",
      " [3 4]\n",
      " [1 8]\n",
      " [3 7]]\n",
      "\n",
      "[[1 2 1 8]\n",
      " [3 4 3 7]]\n"
     ]
    }
   ],
   "source": [
    "var =np.array([[1,2],[3,4]])\n",
    "var2 = np.array([[1,8],[3,7]])\n",
    "z=np.concatenate((var,var2),axis=0)\n",
    "print(z)\n",
    "print()\n",
    "z1=np.concatenate((var,var2),axis=1)\n",
    "print(z1)"
   ],
   "metadata": {
    "collapsed": false,
    "ExecuteTime": {
     "end_time": "2025-03-13T19:14:06.151315Z",
     "start_time": "2025-03-13T19:14:06.144641Z"
    }
   },
   "id": "326f083fb7e16d71",
   "execution_count": 35
  },
  {
   "cell_type": "code",
   "outputs": [],
   "source": [
    "# matrix"
   ],
   "metadata": {
    "collapsed": false,
    "ExecuteTime": {
     "end_time": "2025-03-13T19:12:01.883835Z",
     "start_time": "2025-03-13T19:12:01.880396Z"
    }
   },
   "id": "f6729398fb5a4014",
   "execution_count": 30
  },
  {
   "cell_type": "code",
   "outputs": [],
   "source": [
    "x = np.array([[1,2,3],[8,5,6]])\n",
    "y=np.array([[1,2,3],[4,5,6]])\n",
    "\n"
   ],
   "metadata": {
    "collapsed": false
   },
   "id": "86eb29bc7bc09d95"
  },
  {
   "cell_type": "code",
   "outputs": [
    {
     "name": "stderr",
     "output_type": "stream",
     "text": [
      "C:\\Users\\Pratik Giri\\AppData\\Local\\Temp\\ipykernel_7776\\547205000.py:1: UserWarning: \n",
      "\n",
      "`distplot` is a deprecated function and will be removed in seaborn v0.14.0.\n",
      "\n",
      "Please adapt your code to use either `displot` (a figure-level function with\n",
      "similar flexibility) or `histplot` (an axes-level function for histograms).\n",
      "\n",
      "For a guide to updating your code to use the new functions, please see\n",
      "https://gist.github.com/mwaskom/de44147ed2974457ad6372750bbe5751\n",
      "\n",
      "  sns.distplot([0, 1, 2, 3, 4, 5])\n"
     ]
    },
    {
     "data": {
      "text/plain": "<Figure size 640x480 with 1 Axes>",
      "image/png": "[encoded data removed]"
     },
     "metadata": {},
     "output_type": "display_data"
    }
   ],
   "source": [
    "sns.distplot([0, 1, 2, 3, 4, 5])\n",
    "\n",
    "plt.show()"
   ],
   "metadata": {
    "collapsed": false,
    "ExecuteTime": {
     "end_time": "2025-03-13T20:15:47.421392Z",
     "start_time": "2025-03-13T20:15:47.237497Z"
    }
   },
   "id": "5434ceadcc934b90",
   "execution_count": 37
  },
  {
   "cell_type": "code",
   "outputs": [],
   "source": [],
   "metadata": {
    "collapsed": false
   },
   "id": "97b2f011653d53cc"
  }
 ],
 "metadata": {
  "kernelspec": {
   "display_name": "Python 3",
   "language": "python",
   "name": "python3"
  },
  "language_info": {
   "codemirror_mode": {
    "name": "ipython",
    "version": 2
   },
   "file_extension": ".py",
   "mimetype": "text/x-python",
   "name": "python",
   "nbconvert_exporter": "python",
   "pygments_lexer": "ipython2",
   "version": "2.7.6"
  }
 },
 "nbformat": 4,
 "nbformat_minor": 5
}
