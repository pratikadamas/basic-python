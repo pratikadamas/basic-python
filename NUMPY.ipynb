{
 "cells": [
  {
   "cell_type": "code",
   "execution_count": null,
   "id": "initial_id",
   "metadata": {
    "collapsed": true
   },
   "outputs": [],
   "source": [
    "# ARRAY NUMPY"
   ]
  },
  {
   "cell_type": "code",
   "outputs": [
    {
     "name": "stdout",
     "output_type": "stream",
     "text": [
      "[1 2 3 4 5]\n"
     ]
    }
   ],
   "source": [
    "import numpy as np\n",
    "arr1 = np.array([1,2,3,4,5])\n",
    "print(arr1)\n",
    "\n"
   ],
   "metadata": {
    "collapsed": false,
    "ExecuteTime": {
     "end_time": "2025-03-12T19:24:16.954834Z",
     "start_time": "2025-03-12T19:24:16.826340Z"
    }
   },
   "id": "cb9cb017ef5617b3",
   "execution_count": 2
  },
  {
   "cell_type": "code",
   "outputs": [],
   "source": [
    " # LIST VSNUMPY ARRAY"
   ],
   "metadata": {
    "collapsed": false
   },
   "id": "931093cca5000b9e"
  },
  {
   "cell_type": "code",
   "outputs": [
    {
     "name": "stdout",
     "output_type": "stream",
     "text": [
      "list multiplication  [1, 2, 3, 1, 2, 3]\n",
      "numpy array multiplication  [2 4 6]\n"
     ]
    }
   ],
   "source": [
    "List = [1,2,3]\n",
    "print(\"list multiplication \",List*2)\n",
    "print(\"numpy array multiplication \",np.array(List)*2)"
   ],
   "metadata": {
    "collapsed": false,
    "ExecuteTime": {
     "end_time": "2025-03-12T19:29:03.960193Z",
     "start_time": "2025-03-12T19:29:03.952143Z"
    }
   },
   "id": "bc5c062497b0174f",
   "execution_count": 3
  },
  {
   "cell_type": "code",
   "outputs": [],
   "source": [
    "# creating array from scratch"
   ],
   "metadata": {
    "collapsed": false
   },
   "id": "f39dbdf33a63dd81"
  },
  {
   "cell_type": "code",
   "outputs": [
    {
     "name": "stdout",
     "output_type": "stream",
     "text": [
      "[[1. 1. 1.]\n",
      " [1. 1. 1.]]\n",
      "[0 1 2 3 4 5 6 7 8 9]\n"
     ]
    }
   ],
   "source": [
    "ones =np.ones((2,3))\n",
    "print(ones)\n",
    "sequence = np.arange(0,10,1)\n",
    "print(sequence)"
   ],
   "metadata": {
    "collapsed": false,
    "ExecuteTime": {
     "end_time": "2025-03-12T19:38:44.871243Z",
     "start_time": "2025-03-12T19:38:44.865411Z"
    }
   },
   "id": "d0ab0309f5866e08",
   "execution_count": 6
  },
  {
   "cell_type": "code",
   "outputs": [],
   "source": [
    "    # Vector -1D array ,Matrics -2 D arary  ,Tecsor - more than 2 D array"
   ],
   "metadata": {
    "collapsed": false
   },
   "id": "156b7b3174baae53"
  },
  {
   "cell_type": "code",
   "outputs": [
    {
     "name": "stdout",
     "output_type": "stream",
     "text": [
      "[1 2 3] \n",
      "\n",
      "[[1 2 3]\n",
      " [4 5 6]] \n",
      "\n",
      "[[[1 2]\n",
      "  [4 5]]\n",
      "\n",
      " [[5 6]\n",
      "  [7 9]]]\n"
     ]
    }
   ],
   "source": [
    "vactor = [1,2,3]\n",
    "print(np.array(vactor),\"\\n\")\n",
    "\n",
    "matrix = [[1,2,3],[4,5,6]]\n",
    "print(np.array(matrix),\"\\n\")\n",
    "\n",
    "tensor =[[[1,2],[4,5]],[[5,6],[7,9]]]\n",
    "print(np.array(tensor))"
   ],
   "metadata": {
    "collapsed": false,
    "ExecuteTime": {
     "end_time": "2025-03-12T19:48:17.783242Z",
     "start_time": "2025-03-12T19:48:17.776392Z"
    }
   },
   "id": "84c46a6ceb35cac8",
   "execution_count": 8
  },
  {
   "cell_type": "code",
   "outputs": [],
   "source": [
    "# Array properties"
   ],
   "metadata": {
    "collapsed": false
   },
   "id": "6a2dd1386f6fe4d8"
  },
  {
   "cell_type": "code",
   "outputs": [
    {
     "name": "stdout",
     "output_type": "stream",
     "text": [
      "[ 0  1  2  3  4  5  6  7  8  9 10 11]\n",
      "(12,)\n",
      "int64\n",
      "8\n",
      "12\n",
      "[[ 0  1  2]\n",
      " [ 3  4  5]\n",
      " [ 6  7  8]\n",
      " [ 9 10 11]]\n",
      "[ 0  1  2  3  4  5  6  7  8  9 10 11]\n",
      "[ 0  1  2  3  4  5  6  7  8  9 10 11]\n",
      "[[ 0  3  6  9]\n",
      " [ 1  4  7 10]\n",
      " [ 2  5  8 11]]\n"
     ]
    }
   ],
   "source": [
    "arr = np.arange(12)\n",
    "print(arr)\n",
    "\n",
    "print(arr.shape)\n",
    "print(arr.dtype)\n",
    "print(arr.itemsize)\n",
    "print(arr.size)\n",
    "\n",
    "reshaped = arr.reshape((4,3))\n",
    "print(reshaped)\n",
    "\n",
    "# print(reshaped.shape)\n",
    "\n",
    "# create a copy\n",
    "flattend = arr.flatten()\n",
    "print(flattend)\n",
    "\n",
    "\n",
    "# change in original copy\n",
    "raveld = arr.ravel()\n",
    "print(raveld)\n",
    "\n",
    "transposed = reshaped.T\n",
    "print(transposed)\n"
   ],
   "metadata": {
    "collapsed": false,
    "ExecuteTime": {
     "end_time": "2025-03-12T20:35:36.939890Z",
     "start_time": "2025-03-12T20:35:36.933900Z"
    }
   },
   "id": "3e6dc111828317b9",
   "execution_count": 24
  },
  {
   "cell_type": "code",
   "outputs": [],
   "source": [
    "# Sorting arary"
   ],
   "metadata": {
    "collapsed": false
   },
   "id": "68c9f88f9afc07f5"
  },
  {
   "cell_type": "code",
   "outputs": [
    {
     "name": "stdout",
     "output_type": "stream",
     "text": [
      "sorted 1 D array  [-7  0  1  2  5  6  8]\n",
      "unsorted 2D array by columns \n",
      " [[ 1 -7]\n",
      " [ 4  3]\n",
      " [ 7  8]]\n",
      "unsorted 2D array  by rows\n",
      " [[ 1  3]\n",
      " [ 4  8]\n",
      " [-7  7]]\n"
     ]
    }
   ],
   "source": [
    "unsorted_1D =[1,8,-7,5,2,0,6]\n",
    "print(\"sorted 1 D array \",np.sort(unsorted_1D))\n",
    "\n",
    "unsorted_2D =[[1,3],[4,8],[7,-7]]\n",
    "print(\"unsorted 2D array by columns \\n\",np.sort(unsorted_2D,axis=0))  #column wise all values sorted\n",
    "\n",
    "\n",
    "print(\"unsorted 2D array  by rows\\n\",np.sort(unsorted_2D,axis=1)) # row wise all values sorted"
   ],
   "metadata": {
    "collapsed": false,
    "ExecuteTime": {
     "end_time": "2025-03-12T20:36:36.508551Z",
     "start_time": "2025-03-12T20:36:36.502923Z"
    }
   },
   "id": "fb5aec504a72e548",
   "execution_count": 25
  },
  {
   "cell_type": "code",
   "outputs": [],
   "source": [
    "    # Filters"
   ],
   "metadata": {
    "collapsed": false
   },
   "id": "b3243e57c427483"
  },
  {
   "cell_type": "code",
   "outputs": [
    {
     "name": "stdout",
     "output_type": "stream",
     "text": [
      "[ 1  2  3  4  5  6  7  8  9 10 11 12]\n",
      "[False  True False  True False  True False  True False  True False  True]\n",
      "[ 2  4  6  8 10 12]\n"
     ]
    }
   ],
   "source": [
    "numbers= np.arange(1,13)\n",
    "print(numbers)\n",
    "nums = numbers % 2==0\n",
    "print(nums)\n",
    "\n",
    "evens =numbers[numbers % 2==0]\n",
    "print(evens)\n",
    "\n"
   ],
   "metadata": {
    "collapsed": false,
    "ExecuteTime": {
     "end_time": "2025-03-12T20:42:01.426064Z",
     "start_time": "2025-03-12T20:42:01.421595Z"
    }
   },
   "id": "29bf6f8f181ca42f",
   "execution_count": 28
  },
  {
   "cell_type": "code",
   "outputs": [],
   "source": [],
   "metadata": {
    "collapsed": false
   },
   "id": "f968830f555c0ae5"
  }
 ],
 "metadata": {
  "kernelspec": {
   "display_name": "Python 3",
   "language": "python",
   "name": "python3"
  },
  "language_info": {
   "codemirror_mode": {
    "name": "ipython",
    "version": 2
   },
   "file_extension": ".py",
   "mimetype": "text/x-python",
   "name": "python",
   "nbconvert_exporter": "python",
   "pygments_lexer": "ipython2",
   "version": "2.7.6"
  }
 },
 "nbformat": 4,
 "nbformat_minor": 5
}
