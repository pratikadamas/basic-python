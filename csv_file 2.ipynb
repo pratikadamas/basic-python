{
 "cells": [
  {
   "cell_type": "code",
   "execution_count": 1,
   "id": "initial_id",
   "metadata": {
    "collapsed": true,
    "ExecuteTime": {
     "end_time": "2025-02-22T05:32:26.235212400Z",
     "start_time": "2025-02-22T05:32:24.658367700Z"
    }
   },
   "outputs": [
    {
     "data": {
      "text/plain": "         lesion_id      image_id     dx dx_type   age     sex localization\n0      HAM_0000118           NaN    NaN     NaN   NaN     NaN          NaN\n1      HAM_0000118  ISIC_0025030    bkl   histo  80.0    male        scalp\n2      HAM_0002730  ISIC_0026769    bkl   histo  80.0    male        scalp\n3      HAM_0002730  ISIC_0025661    bkl     NaN  80.0    male        scalp\n4      HAM_0001466  ISIC_0031633    bkl   histo  75.0    male          NaN\n...            ...           ...    ...     ...   ...     ...          ...\n10010  HAM_0002867  ISIC_0033084  akiec   histo  40.0    male      abdomen\n10011  HAM_0002867  ISIC_0033550  akiec   histo  40.0    male      abdomen\n10012  HAM_0002867  ISIC_0033536  akiec   histo  40.0    male      abdomen\n10013  HAM_0000239  ISIC_0032854  akiec   histo  80.0    male         face\n10014  HAM_0003521  ISIC_0032258    mel   histo  70.0  female         back\n\n[10015 rows x 7 columns]",
      "text/html": "<div>\n<style scoped>\n    .dataframe tbody tr th:only-of-type {\n        vertical-align: middle;\n    }\n\n    .dataframe tbody tr th {\n        vertical-align: top;\n    }\n\n    .dataframe thead th {\n        text-align: right;\n    }\n</style>\n<table border=\"1\" class=\"dataframe\">\n  <thead>\n    <tr style=\"text-align: right;\">\n      <th></th>\n      <th>lesion_id</th>\n      <th>image_id</th>\n      <th>dx</th>\n      <th>dx_type</th>\n      <th>age</th>\n      <th>sex</th>\n      <th>localization</th>\n    </tr>\n  </thead>\n  <tbody>\n    <tr>\n      <th>0</th>\n      <td>HAM_0000118</td>\n      <td>NaN</td>\n      <td>NaN</td>\n      <td>NaN</td>\n      <td>NaN</td>\n      <td>NaN</td>\n      <td>NaN</td>\n    </tr>\n    <tr>\n      <th>1</th>\n      <td>HAM_0000118</td>\n      <td>ISIC_0025030</td>\n      <td>bkl</td>\n      <td>histo</td>\n      <td>80.0</td>\n      <td>male</td>\n      <td>scalp</td>\n    </tr>\n    <tr>\n      <th>2</th>\n      <td>HAM_0002730</td>\n      <td>ISIC_0026769</td>\n      <td>bkl</td>\n      <td>histo</td>\n      <td>80.0</td>\n      <td>male</td>\n      <td>scalp</td>\n    </tr>\n    <tr>\n      <th>3</th>\n      <td>HAM_0002730</td>\n      <td>ISIC_0025661</td>\n      <td>bkl</td>\n      <td>NaN</td>\n      <td>80.0</td>\n      <td>male</td>\n      <td>scalp</td>\n    </tr>\n    <tr>\n      <th>4</th>\n      <td>HAM_0001466</td>\n      <td>ISIC_0031633</td>\n      <td>bkl</td>\n      <td>histo</td>\n      <td>75.0</td>\n      <td>male</td>\n      <td>NaN</td>\n    </tr>\n    <tr>\n      <th>...</th>\n      <td>...</td>\n      <td>...</td>\n      <td>...</td>\n      <td>...</td>\n      <td>...</td>\n      <td>...</td>\n      <td>...</td>\n    </tr>\n    <tr>\n      <th>10010</th>\n      <td>HAM_0002867</td>\n      <td>ISIC_0033084</td>\n      <td>akiec</td>\n      <td>histo</td>\n      <td>40.0</td>\n      <td>male</td>\n      <td>abdomen</td>\n    </tr>\n    <tr>\n      <th>10011</th>\n      <td>HAM_0002867</td>\n      <td>ISIC_0033550</td>\n      <td>akiec</td>\n      <td>histo</td>\n      <td>40.0</td>\n      <td>male</td>\n      <td>abdomen</td>\n    </tr>\n    <tr>\n      <th>10012</th>\n      <td>HAM_0002867</td>\n      <td>ISIC_0033536</td>\n      <td>akiec</td>\n      <td>histo</td>\n      <td>40.0</td>\n      <td>male</td>\n      <td>abdomen</td>\n    </tr>\n    <tr>\n      <th>10013</th>\n      <td>HAM_0000239</td>\n      <td>ISIC_0032854</td>\n      <td>akiec</td>\n      <td>histo</td>\n      <td>80.0</td>\n      <td>male</td>\n      <td>face</td>\n    </tr>\n    <tr>\n      <th>10014</th>\n      <td>HAM_0003521</td>\n      <td>ISIC_0032258</td>\n      <td>mel</td>\n      <td>histo</td>\n      <td>70.0</td>\n      <td>female</td>\n      <td>back</td>\n    </tr>\n  </tbody>\n</table>\n<p>10015 rows × 7 columns</p>\n</div>"
     },
     "execution_count": 1,
     "metadata": {},
     "output_type": "execute_result"
    }
   ],
   "source": [
    "import pandas as pd\n",
    "csv_file =pd.read_csv(r\"E:\\basic python\\HAM10000_metadata.csv\")\n",
    "csv_file"
   ]
  },
  {
   "cell_type": "code",
   "outputs": [
    {
     "data": {
      "text/plain": "         lesion_id      image_id     dx dx_type   age     sex localization\n0      HAM_0000118           NaN    NaN     NaN   NaN     NaN          NaN\n1      HAM_0000118  ISIC_0025030    bkl   histo  80.0    male        scalp\n2      HAM_0002730  ISIC_0026769    bkl   histo  80.0    male        scalp\n3      HAM_0002730  ISIC_0025661    bkl     NaN  80.0    male        scalp\n4      HAM_0001466  ISIC_0031633    bkl   histo  75.0    male          NaN\n...            ...           ...    ...     ...   ...     ...          ...\n10010  HAM_0002867  ISIC_0033084  akiec   histo  40.0    male      abdomen\n10011  HAM_0002867  ISIC_0033550  akiec   histo  40.0    male      abdomen\n10012  HAM_0002867  ISIC_0033536  akiec   histo  40.0    male      abdomen\n10013  HAM_0000239  ISIC_0032854  akiec   histo  80.0    male         face\n10014  HAM_0003521  ISIC_0032258    mel   histo  70.0  female         back\n\n[10015 rows x 7 columns]",
      "text/html": "<div>\n<style scoped>\n    .dataframe tbody tr th:only-of-type {\n        vertical-align: middle;\n    }\n\n    .dataframe tbody tr th {\n        vertical-align: top;\n    }\n\n    .dataframe thead th {\n        text-align: right;\n    }\n</style>\n<table border=\"1\" class=\"dataframe\">\n  <thead>\n    <tr style=\"text-align: right;\">\n      <th></th>\n      <th>lesion_id</th>\n      <th>image_id</th>\n      <th>dx</th>\n      <th>dx_type</th>\n      <th>age</th>\n      <th>sex</th>\n      <th>localization</th>\n    </tr>\n  </thead>\n  <tbody>\n    <tr>\n      <th>0</th>\n      <td>HAM_0000118</td>\n      <td>NaN</td>\n      <td>NaN</td>\n      <td>NaN</td>\n      <td>NaN</td>\n      <td>NaN</td>\n      <td>NaN</td>\n    </tr>\n    <tr>\n      <th>1</th>\n      <td>HAM_0000118</td>\n      <td>ISIC_0025030</td>\n      <td>bkl</td>\n      <td>histo</td>\n      <td>80.0</td>\n      <td>male</td>\n      <td>scalp</td>\n    </tr>\n    <tr>\n      <th>2</th>\n      <td>HAM_0002730</td>\n      <td>ISIC_0026769</td>\n      <td>bkl</td>\n      <td>histo</td>\n      <td>80.0</td>\n      <td>male</td>\n      <td>scalp</td>\n    </tr>\n    <tr>\n      <th>3</th>\n      <td>HAM_0002730</td>\n      <td>ISIC_0025661</td>\n      <td>bkl</td>\n      <td>NaN</td>\n      <td>80.0</td>\n      <td>male</td>\n      <td>scalp</td>\n    </tr>\n    <tr>\n      <th>4</th>\n      <td>HAM_0001466</td>\n      <td>ISIC_0031633</td>\n      <td>bkl</td>\n      <td>histo</td>\n      <td>75.0</td>\n      <td>male</td>\n      <td>NaN</td>\n    </tr>\n    <tr>\n      <th>...</th>\n      <td>...</td>\n      <td>...</td>\n      <td>...</td>\n      <td>...</td>\n      <td>...</td>\n      <td>...</td>\n      <td>...</td>\n    </tr>\n    <tr>\n      <th>10010</th>\n      <td>HAM_0002867</td>\n      <td>ISIC_0033084</td>\n      <td>akiec</td>\n      <td>histo</td>\n      <td>40.0</td>\n      <td>male</td>\n      <td>abdomen</td>\n    </tr>\n    <tr>\n      <th>10011</th>\n      <td>HAM_0002867</td>\n      <td>ISIC_0033550</td>\n      <td>akiec</td>\n      <td>histo</td>\n      <td>40.0</td>\n      <td>male</td>\n      <td>abdomen</td>\n    </tr>\n    <tr>\n      <th>10012</th>\n      <td>HAM_0002867</td>\n      <td>ISIC_0033536</td>\n      <td>akiec</td>\n      <td>histo</td>\n      <td>40.0</td>\n      <td>male</td>\n      <td>abdomen</td>\n    </tr>\n    <tr>\n      <th>10013</th>\n      <td>HAM_0000239</td>\n      <td>ISIC_0032854</td>\n      <td>akiec</td>\n      <td>histo</td>\n      <td>80.0</td>\n      <td>male</td>\n      <td>face</td>\n    </tr>\n    <tr>\n      <th>10014</th>\n      <td>HAM_0003521</td>\n      <td>ISIC_0032258</td>\n      <td>mel</td>\n      <td>histo</td>\n      <td>70.0</td>\n      <td>female</td>\n      <td>back</td>\n    </tr>\n  </tbody>\n</table>\n<p>10015 rows × 7 columns</p>\n</div>"
     },
     "execution_count": 2,
     "metadata": {},
     "output_type": "execute_result"
    }
   ],
   "source": [
    "csv_file.dropna(thresh=1)"
   ],
   "metadata": {
    "collapsed": false,
    "ExecuteTime": {
     "end_time": "2025-02-22T05:32:26.283860600Z",
     "start_time": "2025-02-22T05:32:26.236236800Z"
    }
   },
   "id": "4ff5ebfd420e5afe",
   "execution_count": 2
  },
  {
   "cell_type": "code",
   "outputs": [
    {
     "data": {
      "text/plain": "         lesion_id      image_id     dx dx_type   age     sex localization\n1      HAM_0000118  ISIC_0025030    bkl   histo  80.0    male        scalp\n2      HAM_0002730  ISIC_0026769    bkl   histo  80.0    male        scalp\n3      HAM_0002730  ISIC_0025661    bkl     NaN  80.0    male        scalp\n5      HAM_0001466  ISIC_0027850    bkl   histo  75.0     NaN          ear\n6      HAM_0002761  ISIC_0029176    bkl     NaN  60.0    male         face\n...            ...           ...    ...     ...   ...     ...          ...\n10010  HAM_0002867  ISIC_0033084  akiec   histo  40.0    male      abdomen\n10011  HAM_0002867  ISIC_0033550  akiec   histo  40.0    male      abdomen\n10012  HAM_0002867  ISIC_0033536  akiec   histo  40.0    male      abdomen\n10013  HAM_0000239  ISIC_0032854  akiec   histo  80.0    male         face\n10014  HAM_0003521  ISIC_0032258    mel   histo  70.0  female         back\n\n[10010 rows x 7 columns]",
      "text/html": "<div>\n<style scoped>\n    .dataframe tbody tr th:only-of-type {\n        vertical-align: middle;\n    }\n\n    .dataframe tbody tr th {\n        vertical-align: top;\n    }\n\n    .dataframe thead th {\n        text-align: right;\n    }\n</style>\n<table border=\"1\" class=\"dataframe\">\n  <thead>\n    <tr style=\"text-align: right;\">\n      <th></th>\n      <th>lesion_id</th>\n      <th>image_id</th>\n      <th>dx</th>\n      <th>dx_type</th>\n      <th>age</th>\n      <th>sex</th>\n      <th>localization</th>\n    </tr>\n  </thead>\n  <tbody>\n    <tr>\n      <th>1</th>\n      <td>HAM_0000118</td>\n      <td>ISIC_0025030</td>\n      <td>bkl</td>\n      <td>histo</td>\n      <td>80.0</td>\n      <td>male</td>\n      <td>scalp</td>\n    </tr>\n    <tr>\n      <th>2</th>\n      <td>HAM_0002730</td>\n      <td>ISIC_0026769</td>\n      <td>bkl</td>\n      <td>histo</td>\n      <td>80.0</td>\n      <td>male</td>\n      <td>scalp</td>\n    </tr>\n    <tr>\n      <th>3</th>\n      <td>HAM_0002730</td>\n      <td>ISIC_0025661</td>\n      <td>bkl</td>\n      <td>NaN</td>\n      <td>80.0</td>\n      <td>male</td>\n      <td>scalp</td>\n    </tr>\n    <tr>\n      <th>5</th>\n      <td>HAM_0001466</td>\n      <td>ISIC_0027850</td>\n      <td>bkl</td>\n      <td>histo</td>\n      <td>75.0</td>\n      <td>NaN</td>\n      <td>ear</td>\n    </tr>\n    <tr>\n      <th>6</th>\n      <td>HAM_0002761</td>\n      <td>ISIC_0029176</td>\n      <td>bkl</td>\n      <td>NaN</td>\n      <td>60.0</td>\n      <td>male</td>\n      <td>face</td>\n    </tr>\n    <tr>\n      <th>...</th>\n      <td>...</td>\n      <td>...</td>\n      <td>...</td>\n      <td>...</td>\n      <td>...</td>\n      <td>...</td>\n      <td>...</td>\n    </tr>\n    <tr>\n      <th>10010</th>\n      <td>HAM_0002867</td>\n      <td>ISIC_0033084</td>\n      <td>akiec</td>\n      <td>histo</td>\n      <td>40.0</td>\n      <td>male</td>\n      <td>abdomen</td>\n    </tr>\n    <tr>\n      <th>10011</th>\n      <td>HAM_0002867</td>\n      <td>ISIC_0033550</td>\n      <td>akiec</td>\n      <td>histo</td>\n      <td>40.0</td>\n      <td>male</td>\n      <td>abdomen</td>\n    </tr>\n    <tr>\n      <th>10012</th>\n      <td>HAM_0002867</td>\n      <td>ISIC_0033536</td>\n      <td>akiec</td>\n      <td>histo</td>\n      <td>40.0</td>\n      <td>male</td>\n      <td>abdomen</td>\n    </tr>\n    <tr>\n      <th>10013</th>\n      <td>HAM_0000239</td>\n      <td>ISIC_0032854</td>\n      <td>akiec</td>\n      <td>histo</td>\n      <td>80.0</td>\n      <td>male</td>\n      <td>face</td>\n    </tr>\n    <tr>\n      <th>10014</th>\n      <td>HAM_0003521</td>\n      <td>ISIC_0032258</td>\n      <td>mel</td>\n      <td>histo</td>\n      <td>70.0</td>\n      <td>female</td>\n      <td>back</td>\n    </tr>\n  </tbody>\n</table>\n<p>10010 rows × 7 columns</p>\n</div>"
     },
     "execution_count": 3,
     "metadata": {},
     "output_type": "execute_result"
    }
   ],
   "source": [
    "csv_file.dropna(subset=[\"localization\"])"
   ],
   "metadata": {
    "collapsed": false,
    "ExecuteTime": {
     "end_time": "2025-02-22T05:32:26.372783800Z",
     "start_time": "2025-02-22T05:32:26.252680500Z"
    }
   },
   "id": "cb6b0140321a8bd3",
   "execution_count": 3
  },
  {
   "cell_type": "code",
   "outputs": [
    {
     "data": {
      "text/plain": "         lesion_id      image_id     dx dx_type   age     sex localization\n0      HAM_0000118           NaN    NaN     NaN   0.0    male          NaN\n1      HAM_0000118  ISIC_0025030    bkl   histo  80.0    male        scalp\n2      HAM_0002730  ISIC_0026769    bkl   histo  80.0    male        scalp\n3      HAM_0002730  ISIC_0025661    bkl     NaN  80.0    male        scalp\n4      HAM_0001466  ISIC_0031633    bkl   histo  75.0    male          NaN\n...            ...           ...    ...     ...   ...     ...          ...\n10010  HAM_0002867  ISIC_0033084  akiec   histo  40.0    male      abdomen\n10011  HAM_0002867  ISIC_0033550  akiec   histo  40.0    male      abdomen\n10012  HAM_0002867  ISIC_0033536  akiec   histo  40.0    male      abdomen\n10013  HAM_0000239  ISIC_0032854  akiec   histo  80.0    male         face\n10014  HAM_0003521  ISIC_0032258    mel   histo  70.0  female         back\n\n[10015 rows x 7 columns]",
      "text/html": "<div>\n<style scoped>\n    .dataframe tbody tr th:only-of-type {\n        vertical-align: middle;\n    }\n\n    .dataframe tbody tr th {\n        vertical-align: top;\n    }\n\n    .dataframe thead th {\n        text-align: right;\n    }\n</style>\n<table border=\"1\" class=\"dataframe\">\n  <thead>\n    <tr style=\"text-align: right;\">\n      <th></th>\n      <th>lesion_id</th>\n      <th>image_id</th>\n      <th>dx</th>\n      <th>dx_type</th>\n      <th>age</th>\n      <th>sex</th>\n      <th>localization</th>\n    </tr>\n  </thead>\n  <tbody>\n    <tr>\n      <th>0</th>\n      <td>HAM_0000118</td>\n      <td>NaN</td>\n      <td>NaN</td>\n      <td>NaN</td>\n      <td>0.0</td>\n      <td>male</td>\n      <td>NaN</td>\n    </tr>\n    <tr>\n      <th>1</th>\n      <td>HAM_0000118</td>\n      <td>ISIC_0025030</td>\n      <td>bkl</td>\n      <td>histo</td>\n      <td>80.0</td>\n      <td>male</td>\n      <td>scalp</td>\n    </tr>\n    <tr>\n      <th>2</th>\n      <td>HAM_0002730</td>\n      <td>ISIC_0026769</td>\n      <td>bkl</td>\n      <td>histo</td>\n      <td>80.0</td>\n      <td>male</td>\n      <td>scalp</td>\n    </tr>\n    <tr>\n      <th>3</th>\n      <td>HAM_0002730</td>\n      <td>ISIC_0025661</td>\n      <td>bkl</td>\n      <td>NaN</td>\n      <td>80.0</td>\n      <td>male</td>\n      <td>scalp</td>\n    </tr>\n    <tr>\n      <th>4</th>\n      <td>HAM_0001466</td>\n      <td>ISIC_0031633</td>\n      <td>bkl</td>\n      <td>histo</td>\n      <td>75.0</td>\n      <td>male</td>\n      <td>NaN</td>\n    </tr>\n    <tr>\n      <th>...</th>\n      <td>...</td>\n      <td>...</td>\n      <td>...</td>\n      <td>...</td>\n      <td>...</td>\n      <td>...</td>\n      <td>...</td>\n    </tr>\n    <tr>\n      <th>10010</th>\n      <td>HAM_0002867</td>\n      <td>ISIC_0033084</td>\n      <td>akiec</td>\n      <td>histo</td>\n      <td>40.0</td>\n      <td>male</td>\n      <td>abdomen</td>\n    </tr>\n    <tr>\n      <th>10011</th>\n      <td>HAM_0002867</td>\n      <td>ISIC_0033550</td>\n      <td>akiec</td>\n      <td>histo</td>\n      <td>40.0</td>\n      <td>male</td>\n      <td>abdomen</td>\n    </tr>\n    <tr>\n      <th>10012</th>\n      <td>HAM_0002867</td>\n      <td>ISIC_0033536</td>\n      <td>akiec</td>\n      <td>histo</td>\n      <td>40.0</td>\n      <td>male</td>\n      <td>abdomen</td>\n    </tr>\n    <tr>\n      <th>10013</th>\n      <td>HAM_0000239</td>\n      <td>ISIC_0032854</td>\n      <td>akiec</td>\n      <td>histo</td>\n      <td>80.0</td>\n      <td>male</td>\n      <td>face</td>\n    </tr>\n    <tr>\n      <th>10014</th>\n      <td>HAM_0003521</td>\n      <td>ISIC_0032258</td>\n      <td>mel</td>\n      <td>histo</td>\n      <td>70.0</td>\n      <td>female</td>\n      <td>back</td>\n    </tr>\n  </tbody>\n</table>\n<p>10015 rows × 7 columns</p>\n</div>"
     },
     "execution_count": 4,
     "metadata": {},
     "output_type": "execute_result"
    }
   ],
   "source": [
    "csv_file.fillna({\"age\":0.,'sex':\"male\"})"
   ],
   "metadata": {
    "collapsed": false,
    "ExecuteTime": {
     "end_time": "2025-02-22T05:32:26.375056400Z",
     "start_time": "2025-02-22T05:32:26.277092800Z"
    }
   },
   "id": "bf96967c0e591ad2",
   "execution_count": 4
  },
  {
   "cell_type": "code",
   "outputs": [
    {
     "name": "stderr",
     "output_type": "stream",
     "text": [
      "C:\\Users\\Pratik Giri\\AppData\\Local\\Temp\\ipykernel_22288\\210809585.py:1: FutureWarning: DataFrame.fillna with 'method' is deprecated and will raise in a future version. Use obj.ffill() or obj.bfill() instead.\n",
      "  csv_file.fillna(method=\"bfill\")\n"
     ]
    },
    {
     "data": {
      "text/plain": "         lesion_id      image_id     dx dx_type   age     sex localization\n0      HAM_0000118  ISIC_0025030    bkl   histo  80.0    male        scalp\n1      HAM_0000118  ISIC_0025030    bkl   histo  80.0    male        scalp\n2      HAM_0002730  ISIC_0026769    bkl   histo  80.0    male        scalp\n3      HAM_0002730  ISIC_0025661    bkl   histo  80.0    male        scalp\n4      HAM_0001466  ISIC_0031633    bkl   histo  75.0    male          ear\n...            ...           ...    ...     ...   ...     ...          ...\n10010  HAM_0002867  ISIC_0033084  akiec   histo  40.0    male      abdomen\n10011  HAM_0002867  ISIC_0033550  akiec   histo  40.0    male      abdomen\n10012  HAM_0002867  ISIC_0033536  akiec   histo  40.0    male      abdomen\n10013  HAM_0000239  ISIC_0032854  akiec   histo  80.0    male         face\n10014  HAM_0003521  ISIC_0032258    mel   histo  70.0  female         back\n\n[10015 rows x 7 columns]",
      "text/html": "<div>\n<style scoped>\n    .dataframe tbody tr th:only-of-type {\n        vertical-align: middle;\n    }\n\n    .dataframe tbody tr th {\n        vertical-align: top;\n    }\n\n    .dataframe thead th {\n        text-align: right;\n    }\n</style>\n<table border=\"1\" class=\"dataframe\">\n  <thead>\n    <tr style=\"text-align: right;\">\n      <th></th>\n      <th>lesion_id</th>\n      <th>image_id</th>\n      <th>dx</th>\n      <th>dx_type</th>\n      <th>age</th>\n      <th>sex</th>\n      <th>localization</th>\n    </tr>\n  </thead>\n  <tbody>\n    <tr>\n      <th>0</th>\n      <td>HAM_0000118</td>\n      <td>ISIC_0025030</td>\n      <td>bkl</td>\n      <td>histo</td>\n      <td>80.0</td>\n      <td>male</td>\n      <td>scalp</td>\n    </tr>\n    <tr>\n      <th>1</th>\n      <td>HAM_0000118</td>\n      <td>ISIC_0025030</td>\n      <td>bkl</td>\n      <td>histo</td>\n      <td>80.0</td>\n      <td>male</td>\n      <td>scalp</td>\n    </tr>\n    <tr>\n      <th>2</th>\n      <td>HAM_0002730</td>\n      <td>ISIC_0026769</td>\n      <td>bkl</td>\n      <td>histo</td>\n      <td>80.0</td>\n      <td>male</td>\n      <td>scalp</td>\n    </tr>\n    <tr>\n      <th>3</th>\n      <td>HAM_0002730</td>\n      <td>ISIC_0025661</td>\n      <td>bkl</td>\n      <td>histo</td>\n      <td>80.0</td>\n      <td>male</td>\n      <td>scalp</td>\n    </tr>\n    <tr>\n      <th>4</th>\n      <td>HAM_0001466</td>\n      <td>ISIC_0031633</td>\n      <td>bkl</td>\n      <td>histo</td>\n      <td>75.0</td>\n      <td>male</td>\n      <td>ear</td>\n    </tr>\n    <tr>\n      <th>...</th>\n      <td>...</td>\n      <td>...</td>\n      <td>...</td>\n      <td>...</td>\n      <td>...</td>\n      <td>...</td>\n      <td>...</td>\n    </tr>\n    <tr>\n      <th>10010</th>\n      <td>HAM_0002867</td>\n      <td>ISIC_0033084</td>\n      <td>akiec</td>\n      <td>histo</td>\n      <td>40.0</td>\n      <td>male</td>\n      <td>abdomen</td>\n    </tr>\n    <tr>\n      <th>10011</th>\n      <td>HAM_0002867</td>\n      <td>ISIC_0033550</td>\n      <td>akiec</td>\n      <td>histo</td>\n      <td>40.0</td>\n      <td>male</td>\n      <td>abdomen</td>\n    </tr>\n    <tr>\n      <th>10012</th>\n      <td>HAM_0002867</td>\n      <td>ISIC_0033536</td>\n      <td>akiec</td>\n      <td>histo</td>\n      <td>40.0</td>\n      <td>male</td>\n      <td>abdomen</td>\n    </tr>\n    <tr>\n      <th>10013</th>\n      <td>HAM_0000239</td>\n      <td>ISIC_0032854</td>\n      <td>akiec</td>\n      <td>histo</td>\n      <td>80.0</td>\n      <td>male</td>\n      <td>face</td>\n    </tr>\n    <tr>\n      <th>10014</th>\n      <td>HAM_0003521</td>\n      <td>ISIC_0032258</td>\n      <td>mel</td>\n      <td>histo</td>\n      <td>70.0</td>\n      <td>female</td>\n      <td>back</td>\n    </tr>\n  </tbody>\n</table>\n<p>10015 rows × 7 columns</p>\n</div>"
     },
     "execution_count": 6,
     "metadata": {},
     "output_type": "execute_result"
    }
   ],
   "source": [
    "csv_file.fillna(method=\"bfill\")"
   ],
   "metadata": {
    "collapsed": false,
    "ExecuteTime": {
     "end_time": "2025-02-22T05:41:20.011570900Z",
     "start_time": "2025-02-22T05:41:19.981653600Z"
    }
   },
   "id": "9cceb2185543293f",
   "execution_count": 6
  },
  {
   "cell_type": "code",
   "outputs": [
    {
     "data": {
      "text/plain": "         lesion_id      image_id     dx dx_type   age     sex localization\n0      HAM_0000118           NaN    NaN     NaN   NaN     NaN          NaN\n1      HAM_0000118  ISIC_0025030    bkl   histo  21.0    male        scalp\n2      HAM_0002730  ISIC_0026769    bkl   histo  21.0    male        scalp\n3      HAM_0002730  ISIC_0025661    bkl     NaN  21.0    male        scalp\n4      HAM_0001466  ISIC_0031633    bkl   histo  75.0    male          NaN\n...            ...           ...    ...     ...   ...     ...          ...\n10010  HAM_0002867  ISIC_0033084  akiec   histo  40.0    male      abdomen\n10011  HAM_0002867  ISIC_0033550  akiec   histo  40.0    male      abdomen\n10012  HAM_0002867  ISIC_0033536  akiec   histo  40.0    male      abdomen\n10013  HAM_0000239  ISIC_0032854  akiec   histo  21.0    male         face\n10014  HAM_0003521  ISIC_0032258    mel   histo  70.0  female         back\n\n[10015 rows x 7 columns]",
      "text/html": "<div>\n<style scoped>\n    .dataframe tbody tr th:only-of-type {\n        vertical-align: middle;\n    }\n\n    .dataframe tbody tr th {\n        vertical-align: top;\n    }\n\n    .dataframe thead th {\n        text-align: right;\n    }\n</style>\n<table border=\"1\" class=\"dataframe\">\n  <thead>\n    <tr style=\"text-align: right;\">\n      <th></th>\n      <th>lesion_id</th>\n      <th>image_id</th>\n      <th>dx</th>\n      <th>dx_type</th>\n      <th>age</th>\n      <th>sex</th>\n      <th>localization</th>\n    </tr>\n  </thead>\n  <tbody>\n    <tr>\n      <th>0</th>\n      <td>HAM_0000118</td>\n      <td>NaN</td>\n      <td>NaN</td>\n      <td>NaN</td>\n      <td>NaN</td>\n      <td>NaN</td>\n      <td>NaN</td>\n    </tr>\n    <tr>\n      <th>1</th>\n      <td>HAM_0000118</td>\n      <td>ISIC_0025030</td>\n      <td>bkl</td>\n      <td>histo</td>\n      <td>21.0</td>\n      <td>male</td>\n      <td>scalp</td>\n    </tr>\n    <tr>\n      <th>2</th>\n      <td>HAM_0002730</td>\n      <td>ISIC_0026769</td>\n      <td>bkl</td>\n      <td>histo</td>\n      <td>21.0</td>\n      <td>male</td>\n      <td>scalp</td>\n    </tr>\n    <tr>\n      <th>3</th>\n      <td>HAM_0002730</td>\n      <td>ISIC_0025661</td>\n      <td>bkl</td>\n      <td>NaN</td>\n      <td>21.0</td>\n      <td>male</td>\n      <td>scalp</td>\n    </tr>\n    <tr>\n      <th>4</th>\n      <td>HAM_0001466</td>\n      <td>ISIC_0031633</td>\n      <td>bkl</td>\n      <td>histo</td>\n      <td>75.0</td>\n      <td>male</td>\n      <td>NaN</td>\n    </tr>\n    <tr>\n      <th>...</th>\n      <td>...</td>\n      <td>...</td>\n      <td>...</td>\n      <td>...</td>\n      <td>...</td>\n      <td>...</td>\n      <td>...</td>\n    </tr>\n    <tr>\n      <th>10010</th>\n      <td>HAM_0002867</td>\n      <td>ISIC_0033084</td>\n      <td>akiec</td>\n      <td>histo</td>\n      <td>40.0</td>\n      <td>male</td>\n      <td>abdomen</td>\n    </tr>\n    <tr>\n      <th>10011</th>\n      <td>HAM_0002867</td>\n      <td>ISIC_0033550</td>\n      <td>akiec</td>\n      <td>histo</td>\n      <td>40.0</td>\n      <td>male</td>\n      <td>abdomen</td>\n    </tr>\n    <tr>\n      <th>10012</th>\n      <td>HAM_0002867</td>\n      <td>ISIC_0033536</td>\n      <td>akiec</td>\n      <td>histo</td>\n      <td>40.0</td>\n      <td>male</td>\n      <td>abdomen</td>\n    </tr>\n    <tr>\n      <th>10013</th>\n      <td>HAM_0000239</td>\n      <td>ISIC_0032854</td>\n      <td>akiec</td>\n      <td>histo</td>\n      <td>21.0</td>\n      <td>male</td>\n      <td>face</td>\n    </tr>\n    <tr>\n      <th>10014</th>\n      <td>HAM_0003521</td>\n      <td>ISIC_0032258</td>\n      <td>mel</td>\n      <td>histo</td>\n      <td>70.0</td>\n      <td>female</td>\n      <td>back</td>\n    </tr>\n  </tbody>\n</table>\n<p>10015 rows × 7 columns</p>\n</div>"
     },
     "execution_count": 7,
     "metadata": {},
     "output_type": "execute_result"
    }
   ],
   "source": [
    "csv_file.replace(to_replace=80,value=21)"
   ],
   "metadata": {
    "collapsed": false,
    "ExecuteTime": {
     "end_time": "2025-02-22T06:17:09.660824900Z",
     "start_time": "2025-02-22T06:17:09.636683600Z"
    }
   },
   "id": "21846374febb67af",
   "execution_count": 7
  },
  {
   "cell_type": "code",
   "outputs": [
    {
     "data": {
      "text/plain": "         lesion_id      image_id      dx dx_type   age     sex localization\n0      HAM_0000118           NaN     NaN     NaN   NaN     NaN          NaN\n1      HAM_0000118  ISIC_0025030  pratik   histo  80.0    male        scalp\n2      HAM_0002730  ISIC_0026769  pratik   histo  80.0    male        scalp\n3      HAM_0002730  ISIC_0025661  pratik     NaN  80.0    male        scalp\n4      HAM_0001466  ISIC_0031633  pratik   histo  75.0    male          NaN\n...            ...           ...     ...     ...   ...     ...          ...\n10010  HAM_0002867  ISIC_0033084   akiec   histo  40.0    male      abdomen\n10011  HAM_0002867  ISIC_0033550   akiec   histo  40.0    male      abdomen\n10012  HAM_0002867  ISIC_0033536   akiec   histo  40.0    male      abdomen\n10013  HAM_0000239  ISIC_0032854   akiec   histo  80.0    male         face\n10014  HAM_0003521  ISIC_0032258     mel   histo  70.0  female         back\n\n[10015 rows x 7 columns]",
      "text/html": "<div>\n<style scoped>\n    .dataframe tbody tr th:only-of-type {\n        vertical-align: middle;\n    }\n\n    .dataframe tbody tr th {\n        vertical-align: top;\n    }\n\n    .dataframe thead th {\n        text-align: right;\n    }\n</style>\n<table border=\"1\" class=\"dataframe\">\n  <thead>\n    <tr style=\"text-align: right;\">\n      <th></th>\n      <th>lesion_id</th>\n      <th>image_id</th>\n      <th>dx</th>\n      <th>dx_type</th>\n      <th>age</th>\n      <th>sex</th>\n      <th>localization</th>\n    </tr>\n  </thead>\n  <tbody>\n    <tr>\n      <th>0</th>\n      <td>HAM_0000118</td>\n      <td>NaN</td>\n      <td>NaN</td>\n      <td>NaN</td>\n      <td>NaN</td>\n      <td>NaN</td>\n      <td>NaN</td>\n    </tr>\n    <tr>\n      <th>1</th>\n      <td>HAM_0000118</td>\n      <td>ISIC_0025030</td>\n      <td>pratik</td>\n      <td>histo</td>\n      <td>80.0</td>\n      <td>male</td>\n      <td>scalp</td>\n    </tr>\n    <tr>\n      <th>2</th>\n      <td>HAM_0002730</td>\n      <td>ISIC_0026769</td>\n      <td>pratik</td>\n      <td>histo</td>\n      <td>80.0</td>\n      <td>male</td>\n      <td>scalp</td>\n    </tr>\n    <tr>\n      <th>3</th>\n      <td>HAM_0002730</td>\n      <td>ISIC_0025661</td>\n      <td>pratik</td>\n      <td>NaN</td>\n      <td>80.0</td>\n      <td>male</td>\n      <td>scalp</td>\n    </tr>\n    <tr>\n      <th>4</th>\n      <td>HAM_0001466</td>\n      <td>ISIC_0031633</td>\n      <td>pratik</td>\n      <td>histo</td>\n      <td>75.0</td>\n      <td>male</td>\n      <td>NaN</td>\n    </tr>\n    <tr>\n      <th>...</th>\n      <td>...</td>\n      <td>...</td>\n      <td>...</td>\n      <td>...</td>\n      <td>...</td>\n      <td>...</td>\n      <td>...</td>\n    </tr>\n    <tr>\n      <th>10010</th>\n      <td>HAM_0002867</td>\n      <td>ISIC_0033084</td>\n      <td>akiec</td>\n      <td>histo</td>\n      <td>40.0</td>\n      <td>male</td>\n      <td>abdomen</td>\n    </tr>\n    <tr>\n      <th>10011</th>\n      <td>HAM_0002867</td>\n      <td>ISIC_0033550</td>\n      <td>akiec</td>\n      <td>histo</td>\n      <td>40.0</td>\n      <td>male</td>\n      <td>abdomen</td>\n    </tr>\n    <tr>\n      <th>10012</th>\n      <td>HAM_0002867</td>\n      <td>ISIC_0033536</td>\n      <td>akiec</td>\n      <td>histo</td>\n      <td>40.0</td>\n      <td>male</td>\n      <td>abdomen</td>\n    </tr>\n    <tr>\n      <th>10013</th>\n      <td>HAM_0000239</td>\n      <td>ISIC_0032854</td>\n      <td>akiec</td>\n      <td>histo</td>\n      <td>80.0</td>\n      <td>male</td>\n      <td>face</td>\n    </tr>\n    <tr>\n      <th>10014</th>\n      <td>HAM_0003521</td>\n      <td>ISIC_0032258</td>\n      <td>mel</td>\n      <td>histo</td>\n      <td>70.0</td>\n      <td>female</td>\n      <td>back</td>\n    </tr>\n  </tbody>\n</table>\n<p>10015 rows × 7 columns</p>\n</div>"
     },
     "execution_count": 8,
     "metadata": {},
     "output_type": "execute_result"
    }
   ],
   "source": [
    " csv_file.replace(to_replace=\"bkl\",value=\"pratik\")"
   ],
   "metadata": {
    "collapsed": false,
    "ExecuteTime": {
     "end_time": "2025-02-22T06:19:41.915461700Z",
     "start_time": "2025-02-22T06:19:41.885836600Z"
    }
   },
   "id": "62bf9c82b288bc2d",
   "execution_count": 8
  },
  {
   "cell_type": "code",
   "outputs": [
    {
     "data": {
      "text/plain": "         lesion_id      image_id     dx dx_type   age     sex localization\n0              NaN           NaN    NaN     NaN   NaN     NaN          NaN\n1      HAM_0000118  ISIC_0025030    bkl   histo  80.0    male        scalp\n2      HAM_0002730  ISIC_0026769    bkl   histo  80.0    male        scalp\n3              NaN  ISIC_0025661    bkl   histo  80.0    male        scalp\n4      HAM_0001466  ISIC_0031633    bkl     NaN  75.0    male          ear\n...            ...           ...    ...     ...   ...     ...          ...\n10010  HAM_0002867  ISIC_0033084  akiec   histo  40.0    male      abdomen\n10011  HAM_0002867  ISIC_0033550  akiec   histo  40.0    male      abdomen\n10012  HAM_0002867  ISIC_0033536  akiec   histo  40.0    male      abdomen\n10013  HAM_0000239  ISIC_0032854  akiec   histo  80.0    male         face\n10014  HAM_0003521  ISIC_0032258    mel   histo  70.0  female         back\n\n[10015 rows x 7 columns]",
      "text/html": "<div>\n<style scoped>\n    .dataframe tbody tr th:only-of-type {\n        vertical-align: middle;\n    }\n\n    .dataframe tbody tr th {\n        vertical-align: top;\n    }\n\n    .dataframe thead th {\n        text-align: right;\n    }\n</style>\n<table border=\"1\" class=\"dataframe\">\n  <thead>\n    <tr style=\"text-align: right;\">\n      <th></th>\n      <th>lesion_id</th>\n      <th>image_id</th>\n      <th>dx</th>\n      <th>dx_type</th>\n      <th>age</th>\n      <th>sex</th>\n      <th>localization</th>\n    </tr>\n  </thead>\n  <tbody>\n    <tr>\n      <th>0</th>\n      <td>NaN</td>\n      <td>NaN</td>\n      <td>NaN</td>\n      <td>NaN</td>\n      <td>NaN</td>\n      <td>NaN</td>\n      <td>NaN</td>\n    </tr>\n    <tr>\n      <th>1</th>\n      <td>HAM_0000118</td>\n      <td>ISIC_0025030</td>\n      <td>bkl</td>\n      <td>histo</td>\n      <td>80.0</td>\n      <td>male</td>\n      <td>scalp</td>\n    </tr>\n    <tr>\n      <th>2</th>\n      <td>HAM_0002730</td>\n      <td>ISIC_0026769</td>\n      <td>bkl</td>\n      <td>histo</td>\n      <td>80.0</td>\n      <td>male</td>\n      <td>scalp</td>\n    </tr>\n    <tr>\n      <th>3</th>\n      <td>NaN</td>\n      <td>ISIC_0025661</td>\n      <td>bkl</td>\n      <td>histo</td>\n      <td>80.0</td>\n      <td>male</td>\n      <td>scalp</td>\n    </tr>\n    <tr>\n      <th>4</th>\n      <td>HAM_0001466</td>\n      <td>ISIC_0031633</td>\n      <td>bkl</td>\n      <td>NaN</td>\n      <td>75.0</td>\n      <td>male</td>\n      <td>ear</td>\n    </tr>\n    <tr>\n      <th>...</th>\n      <td>...</td>\n      <td>...</td>\n      <td>...</td>\n      <td>...</td>\n      <td>...</td>\n      <td>...</td>\n      <td>...</td>\n    </tr>\n    <tr>\n      <th>10010</th>\n      <td>HAM_0002867</td>\n      <td>ISIC_0033084</td>\n      <td>akiec</td>\n      <td>histo</td>\n      <td>40.0</td>\n      <td>male</td>\n      <td>abdomen</td>\n    </tr>\n    <tr>\n      <th>10011</th>\n      <td>HAM_0002867</td>\n      <td>ISIC_0033550</td>\n      <td>akiec</td>\n      <td>histo</td>\n      <td>40.0</td>\n      <td>male</td>\n      <td>abdomen</td>\n    </tr>\n    <tr>\n      <th>10012</th>\n      <td>HAM_0002867</td>\n      <td>ISIC_0033536</td>\n      <td>akiec</td>\n      <td>histo</td>\n      <td>40.0</td>\n      <td>male</td>\n      <td>abdomen</td>\n    </tr>\n    <tr>\n      <th>10013</th>\n      <td>HAM_0000239</td>\n      <td>ISIC_0032854</td>\n      <td>akiec</td>\n      <td>histo</td>\n      <td>80.0</td>\n      <td>male</td>\n      <td>face</td>\n    </tr>\n    <tr>\n      <th>10014</th>\n      <td>HAM_0003521</td>\n      <td>ISIC_0032258</td>\n      <td>mel</td>\n      <td>histo</td>\n      <td>70.0</td>\n      <td>female</td>\n      <td>back</td>\n    </tr>\n  </tbody>\n</table>\n<p>10015 rows × 7 columns</p>\n</div>"
     },
     "execution_count": 12,
     "metadata": {},
     "output_type": "execute_result"
    }
   ],
   "source": [
    " csv_1=pd.read_csv(r\"C:\\Users\\Pratik Giri\\OneDrive\\Desktop\\HAM10000_metadata.csv\")\n",
    " csv_1"
   ],
   "metadata": {
    "collapsed": false,
    "ExecuteTime": {
     "end_time": "2025-02-22T10:27:46.825107600Z",
     "start_time": "2025-02-22T10:27:46.788426100Z"
    }
   },
   "id": "26a0f0bc56c2b3c",
   "execution_count": 12
  },
  {
   "cell_type": "code",
   "outputs": [],
   "source": [
    "# INTERPOLATE"
   ],
   "metadata": {
    "collapsed": false
   },
   "id": "9ce62d48fb7afb1e"
  },
  {
   "cell_type": "code",
   "outputs": [
    {
     "name": "stderr",
     "output_type": "stream",
     "text": [
      "C:\\Users\\Pratik Giri\\AppData\\Local\\Temp\\ipykernel_22288\\4135698201.py:1: FutureWarning: DataFrame.interpolate with object dtype is deprecated and will raise in a future version. Call obj.infer_objects(copy=False) before interpolating instead.\n",
      "  csv_1.interpolate(limit=2)\n"
     ]
    },
    {
     "data": {
      "text/plain": "         lesion_id      image_id     dx dx_type   age     sex localization\n0              NaN           NaN    NaN     NaN   NaN     NaN          NaN\n1      HAM_0000118  ISIC_0025030    bkl   histo  80.0    male        scalp\n2      HAM_0002730  ISIC_0026769    bkl   histo  80.0    male        scalp\n3              NaN  ISIC_0025661    bkl   histo  80.0    male        scalp\n4      HAM_0001466  ISIC_0031633    bkl     NaN  75.0    male          ear\n...            ...           ...    ...     ...   ...     ...          ...\n10010  HAM_0002867  ISIC_0033084  akiec   histo  40.0    male      abdomen\n10011  HAM_0002867  ISIC_0033550  akiec   histo  40.0    male      abdomen\n10012  HAM_0002867  ISIC_0033536  akiec   histo  40.0    male      abdomen\n10013  HAM_0000239  ISIC_0032854  akiec   histo  80.0    male         face\n10014  HAM_0003521  ISIC_0032258    mel   histo  70.0  female         back\n\n[10015 rows x 7 columns]",
      "text/html": "<div>\n<style scoped>\n    .dataframe tbody tr th:only-of-type {\n        vertical-align: middle;\n    }\n\n    .dataframe tbody tr th {\n        vertical-align: top;\n    }\n\n    .dataframe thead th {\n        text-align: right;\n    }\n</style>\n<table border=\"1\" class=\"dataframe\">\n  <thead>\n    <tr style=\"text-align: right;\">\n      <th></th>\n      <th>lesion_id</th>\n      <th>image_id</th>\n      <th>dx</th>\n      <th>dx_type</th>\n      <th>age</th>\n      <th>sex</th>\n      <th>localization</th>\n    </tr>\n  </thead>\n  <tbody>\n    <tr>\n      <th>0</th>\n      <td>NaN</td>\n      <td>NaN</td>\n      <td>NaN</td>\n      <td>NaN</td>\n      <td>NaN</td>\n      <td>NaN</td>\n      <td>NaN</td>\n    </tr>\n    <tr>\n      <th>1</th>\n      <td>HAM_0000118</td>\n      <td>ISIC_0025030</td>\n      <td>bkl</td>\n      <td>histo</td>\n      <td>80.0</td>\n      <td>male</td>\n      <td>scalp</td>\n    </tr>\n    <tr>\n      <th>2</th>\n      <td>HAM_0002730</td>\n      <td>ISIC_0026769</td>\n      <td>bkl</td>\n      <td>histo</td>\n      <td>80.0</td>\n      <td>male</td>\n      <td>scalp</td>\n    </tr>\n    <tr>\n      <th>3</th>\n      <td>NaN</td>\n      <td>ISIC_0025661</td>\n      <td>bkl</td>\n      <td>histo</td>\n      <td>80.0</td>\n      <td>male</td>\n      <td>scalp</td>\n    </tr>\n    <tr>\n      <th>4</th>\n      <td>HAM_0001466</td>\n      <td>ISIC_0031633</td>\n      <td>bkl</td>\n      <td>NaN</td>\n      <td>75.0</td>\n      <td>male</td>\n      <td>ear</td>\n    </tr>\n    <tr>\n      <th>...</th>\n      <td>...</td>\n      <td>...</td>\n      <td>...</td>\n      <td>...</td>\n      <td>...</td>\n      <td>...</td>\n      <td>...</td>\n    </tr>\n    <tr>\n      <th>10010</th>\n      <td>HAM_0002867</td>\n      <td>ISIC_0033084</td>\n      <td>akiec</td>\n      <td>histo</td>\n      <td>40.0</td>\n      <td>male</td>\n      <td>abdomen</td>\n    </tr>\n    <tr>\n      <th>10011</th>\n      <td>HAM_0002867</td>\n      <td>ISIC_0033550</td>\n      <td>akiec</td>\n      <td>histo</td>\n      <td>40.0</td>\n      <td>male</td>\n      <td>abdomen</td>\n    </tr>\n    <tr>\n      <th>10012</th>\n      <td>HAM_0002867</td>\n      <td>ISIC_0033536</td>\n      <td>akiec</td>\n      <td>histo</td>\n      <td>40.0</td>\n      <td>male</td>\n      <td>abdomen</td>\n    </tr>\n    <tr>\n      <th>10013</th>\n      <td>HAM_0000239</td>\n      <td>ISIC_0032854</td>\n      <td>akiec</td>\n      <td>histo</td>\n      <td>80.0</td>\n      <td>male</td>\n      <td>face</td>\n    </tr>\n    <tr>\n      <th>10014</th>\n      <td>HAM_0003521</td>\n      <td>ISIC_0032258</td>\n      <td>mel</td>\n      <td>histo</td>\n      <td>70.0</td>\n      <td>female</td>\n      <td>back</td>\n    </tr>\n  </tbody>\n</table>\n<p>10015 rows × 7 columns</p>\n</div>"
     },
     "execution_count": 15,
     "metadata": {},
     "output_type": "execute_result"
    }
   ],
   "source": [
    "csv_1.interpolate(limit=2)"
   ],
   "metadata": {
    "collapsed": false,
    "ExecuteTime": {
     "end_time": "2025-02-22T10:29:59.394023800Z",
     "start_time": "2025-02-22T10:29:59.366345300Z"
    }
   },
   "id": "60fbadaa13359faf",
   "execution_count": 15
  },
  {
   "cell_type": "code",
   "outputs": [
    {
     "name": "stderr",
     "output_type": "stream",
     "text": [
      "C:\\Users\\Pratik Giri\\AppData\\Local\\Temp\\ipykernel_22288\\1494102089.py:1: FutureWarning: DataFrame.interpolate with object dtype is deprecated and will raise in a future version. Call obj.infer_objects(copy=False) before interpolating instead.\n",
      "  csv_1.interpolate(implce=True)\n"
     ]
    },
    {
     "data": {
      "text/plain": "         lesion_id      image_id     dx dx_type   age     sex localization\n0              NaN           NaN    NaN     NaN   NaN     NaN          NaN\n1      HAM_0000118  ISIC_0025030    bkl   histo  80.0    male        scalp\n2      HAM_0002730  ISIC_0026769    bkl   histo  80.0    male        scalp\n3              NaN  ISIC_0025661    bkl   histo  80.0    male        scalp\n4      HAM_0001466  ISIC_0031633    bkl     NaN  75.0    male          ear\n...            ...           ...    ...     ...   ...     ...          ...\n10010  HAM_0002867  ISIC_0033084  akiec   histo  40.0    male      abdomen\n10011  HAM_0002867  ISIC_0033550  akiec   histo  40.0    male      abdomen\n10012  HAM_0002867  ISIC_0033536  akiec   histo  40.0    male      abdomen\n10013  HAM_0000239  ISIC_0032854  akiec   histo  80.0    male         face\n10014  HAM_0003521  ISIC_0032258    mel   histo  70.0  female         back\n\n[10015 rows x 7 columns]",
      "text/html": "<div>\n<style scoped>\n    .dataframe tbody tr th:only-of-type {\n        vertical-align: middle;\n    }\n\n    .dataframe tbody tr th {\n        vertical-align: top;\n    }\n\n    .dataframe thead th {\n        text-align: right;\n    }\n</style>\n<table border=\"1\" class=\"dataframe\">\n  <thead>\n    <tr style=\"text-align: right;\">\n      <th></th>\n      <th>lesion_id</th>\n      <th>image_id</th>\n      <th>dx</th>\n      <th>dx_type</th>\n      <th>age</th>\n      <th>sex</th>\n      <th>localization</th>\n    </tr>\n  </thead>\n  <tbody>\n    <tr>\n      <th>0</th>\n      <td>NaN</td>\n      <td>NaN</td>\n      <td>NaN</td>\n      <td>NaN</td>\n      <td>NaN</td>\n      <td>NaN</td>\n      <td>NaN</td>\n    </tr>\n    <tr>\n      <th>1</th>\n      <td>HAM_0000118</td>\n      <td>ISIC_0025030</td>\n      <td>bkl</td>\n      <td>histo</td>\n      <td>80.0</td>\n      <td>male</td>\n      <td>scalp</td>\n    </tr>\n    <tr>\n      <th>2</th>\n      <td>HAM_0002730</td>\n      <td>ISIC_0026769</td>\n      <td>bkl</td>\n      <td>histo</td>\n      <td>80.0</td>\n      <td>male</td>\n      <td>scalp</td>\n    </tr>\n    <tr>\n      <th>3</th>\n      <td>NaN</td>\n      <td>ISIC_0025661</td>\n      <td>bkl</td>\n      <td>histo</td>\n      <td>80.0</td>\n      <td>male</td>\n      <td>scalp</td>\n    </tr>\n    <tr>\n      <th>4</th>\n      <td>HAM_0001466</td>\n      <td>ISIC_0031633</td>\n      <td>bkl</td>\n      <td>NaN</td>\n      <td>75.0</td>\n      <td>male</td>\n      <td>ear</td>\n    </tr>\n    <tr>\n      <th>...</th>\n      <td>...</td>\n      <td>...</td>\n      <td>...</td>\n      <td>...</td>\n      <td>...</td>\n      <td>...</td>\n      <td>...</td>\n    </tr>\n    <tr>\n      <th>10010</th>\n      <td>HAM_0002867</td>\n      <td>ISIC_0033084</td>\n      <td>akiec</td>\n      <td>histo</td>\n      <td>40.0</td>\n      <td>male</td>\n      <td>abdomen</td>\n    </tr>\n    <tr>\n      <th>10011</th>\n      <td>HAM_0002867</td>\n      <td>ISIC_0033550</td>\n      <td>akiec</td>\n      <td>histo</td>\n      <td>40.0</td>\n      <td>male</td>\n      <td>abdomen</td>\n    </tr>\n    <tr>\n      <th>10012</th>\n      <td>HAM_0002867</td>\n      <td>ISIC_0033536</td>\n      <td>akiec</td>\n      <td>histo</td>\n      <td>40.0</td>\n      <td>male</td>\n      <td>abdomen</td>\n    </tr>\n    <tr>\n      <th>10013</th>\n      <td>HAM_0000239</td>\n      <td>ISIC_0032854</td>\n      <td>akiec</td>\n      <td>histo</td>\n      <td>80.0</td>\n      <td>male</td>\n      <td>face</td>\n    </tr>\n    <tr>\n      <th>10014</th>\n      <td>HAM_0003521</td>\n      <td>ISIC_0032258</td>\n      <td>mel</td>\n      <td>histo</td>\n      <td>70.0</td>\n      <td>female</td>\n      <td>back</td>\n    </tr>\n  </tbody>\n</table>\n<p>10015 rows × 7 columns</p>\n</div>"
     },
     "execution_count": 24,
     "metadata": {},
     "output_type": "execute_result"
    }
   ],
   "source": [
    "csv_1.interpolate(implce=True)"
   ],
   "metadata": {
    "collapsed": false,
    "ExecuteTime": {
     "end_time": "2025-02-22T10:45:04.386622900Z",
     "start_time": "2025-02-22T10:45:04.369497200Z"
    }
   },
   "id": "edc2916cd0a3fb37",
   "execution_count": 24
  },
  {
   "cell_type": "code",
   "outputs": [
    {
     "data": {
      "text/plain": "         lesion_id      image_id     dx dx_type   age     sex localization\n0              NaN           NaN    NaN     NaN   NaN     NaN          NaN\n1      HAM_0000118  ISIC_0025030    bkl   histo  80.0    male        scalp\n2      HAM_0002730  ISIC_0026769    bkl   histo  80.0    male        scalp\n3              NaN  ISIC_0025661    bkl   histo  80.0    male        scalp\n4      HAM_0001466  ISIC_0031633    bkl     NaN  75.0    male          ear\n...            ...           ...    ...     ...   ...     ...          ...\n10010  HAM_0002867  ISIC_0033084  akiec   histo  40.0    male      abdomen\n10011  HAM_0002867  ISIC_0033550  akiec   histo  40.0    male      abdomen\n10012  HAM_0002867  ISIC_0033536  akiec   histo  40.0    male      abdomen\n10013  HAM_0000239  ISIC_0032854  akiec   histo  80.0    male         face\n10014  HAM_0003521  ISIC_0032258    mel   histo  70.0  female         back\n\n[10015 rows x 7 columns]",
      "text/html": "<div>\n<style scoped>\n    .dataframe tbody tr th:only-of-type {\n        vertical-align: middle;\n    }\n\n    .dataframe tbody tr th {\n        vertical-align: top;\n    }\n\n    .dataframe thead th {\n        text-align: right;\n    }\n</style>\n<table border=\"1\" class=\"dataframe\">\n  <thead>\n    <tr style=\"text-align: right;\">\n      <th></th>\n      <th>lesion_id</th>\n      <th>image_id</th>\n      <th>dx</th>\n      <th>dx_type</th>\n      <th>age</th>\n      <th>sex</th>\n      <th>localization</th>\n    </tr>\n  </thead>\n  <tbody>\n    <tr>\n      <th>0</th>\n      <td>NaN</td>\n      <td>NaN</td>\n      <td>NaN</td>\n      <td>NaN</td>\n      <td>NaN</td>\n      <td>NaN</td>\n      <td>NaN</td>\n    </tr>\n    <tr>\n      <th>1</th>\n      <td>HAM_0000118</td>\n      <td>ISIC_0025030</td>\n      <td>bkl</td>\n      <td>histo</td>\n      <td>80.0</td>\n      <td>male</td>\n      <td>scalp</td>\n    </tr>\n    <tr>\n      <th>2</th>\n      <td>HAM_0002730</td>\n      <td>ISIC_0026769</td>\n      <td>bkl</td>\n      <td>histo</td>\n      <td>80.0</td>\n      <td>male</td>\n      <td>scalp</td>\n    </tr>\n    <tr>\n      <th>3</th>\n      <td>NaN</td>\n      <td>ISIC_0025661</td>\n      <td>bkl</td>\n      <td>histo</td>\n      <td>80.0</td>\n      <td>male</td>\n      <td>scalp</td>\n    </tr>\n    <tr>\n      <th>4</th>\n      <td>HAM_0001466</td>\n      <td>ISIC_0031633</td>\n      <td>bkl</td>\n      <td>NaN</td>\n      <td>75.0</td>\n      <td>male</td>\n      <td>ear</td>\n    </tr>\n    <tr>\n      <th>...</th>\n      <td>...</td>\n      <td>...</td>\n      <td>...</td>\n      <td>...</td>\n      <td>...</td>\n      <td>...</td>\n      <td>...</td>\n    </tr>\n    <tr>\n      <th>10010</th>\n      <td>HAM_0002867</td>\n      <td>ISIC_0033084</td>\n      <td>akiec</td>\n      <td>histo</td>\n      <td>40.0</td>\n      <td>male</td>\n      <td>abdomen</td>\n    </tr>\n    <tr>\n      <th>10011</th>\n      <td>HAM_0002867</td>\n      <td>ISIC_0033550</td>\n      <td>akiec</td>\n      <td>histo</td>\n      <td>40.0</td>\n      <td>male</td>\n      <td>abdomen</td>\n    </tr>\n    <tr>\n      <th>10012</th>\n      <td>HAM_0002867</td>\n      <td>ISIC_0033536</td>\n      <td>akiec</td>\n      <td>histo</td>\n      <td>40.0</td>\n      <td>male</td>\n      <td>abdomen</td>\n    </tr>\n    <tr>\n      <th>10013</th>\n      <td>HAM_0000239</td>\n      <td>ISIC_0032854</td>\n      <td>akiec</td>\n      <td>histo</td>\n      <td>80.0</td>\n      <td>male</td>\n      <td>face</td>\n    </tr>\n    <tr>\n      <th>10014</th>\n      <td>HAM_0003521</td>\n      <td>ISIC_0032258</td>\n      <td>mel</td>\n      <td>histo</td>\n      <td>70.0</td>\n      <td>female</td>\n      <td>back</td>\n    </tr>\n  </tbody>\n</table>\n<p>10015 rows × 7 columns</p>\n</div>"
     },
     "execution_count": 25,
     "metadata": {},
     "output_type": "execute_result"
    }
   ],
   "source": [
    "csv_1"
   ],
   "metadata": {
    "collapsed": false,
    "ExecuteTime": {
     "end_time": "2025-02-22T10:45:10.827678500Z",
     "start_time": "2025-02-22T10:45:10.784920300Z"
    }
   },
   "id": "c24fc0fc58546b74",
   "execution_count": 25
  },
  {
   "cell_type": "code",
   "outputs": [],
   "source": [
    "# MERGE 2 DATAREAME"
   ],
   "metadata": {
    "collapsed": false
   },
   "id": "866c68f83139a2c3"
  },
  {
   "cell_type": "code",
   "outputs": [
    {
     "data": {
      "text/plain": "   A  B   C   D\n0  1  5   9  20\n1  2  6  10  30\n2  3  7  11  40\n3  4  8  12  50",
      "text/html": "<div>\n<style scoped>\n    .dataframe tbody tr th:only-of-type {\n        vertical-align: middle;\n    }\n\n    .dataframe tbody tr th {\n        vertical-align: top;\n    }\n\n    .dataframe thead th {\n        text-align: right;\n    }\n</style>\n<table border=\"1\" class=\"dataframe\">\n  <thead>\n    <tr style=\"text-align: right;\">\n      <th></th>\n      <th>A</th>\n      <th>B</th>\n      <th>C</th>\n      <th>D</th>\n    </tr>\n  </thead>\n  <tbody>\n    <tr>\n      <th>0</th>\n      <td>1</td>\n      <td>5</td>\n      <td>9</td>\n      <td>20</td>\n    </tr>\n    <tr>\n      <th>1</th>\n      <td>2</td>\n      <td>6</td>\n      <td>10</td>\n      <td>30</td>\n    </tr>\n    <tr>\n      <th>2</th>\n      <td>3</td>\n      <td>7</td>\n      <td>11</td>\n      <td>40</td>\n    </tr>\n    <tr>\n      <th>3</th>\n      <td>4</td>\n      <td>8</td>\n      <td>12</td>\n      <td>50</td>\n    </tr>\n  </tbody>\n</table>\n</div>"
     },
     "execution_count": 26,
     "metadata": {},
     "output_type": "execute_result"
    }
   ],
   "source": [
    "var1 = pd.DataFrame({'A':[1,2,3,4],'B':[5,6,7,8],'C':[9,10,11,12]})\n",
    "var2 = pd.DataFrame({'A':[1,2,3,4],'D':[20,30,40,50]})\n",
    "pd.merge(var1,var2)"
   ],
   "metadata": {
    "collapsed": false,
    "ExecuteTime": {
     "end_time": "2025-02-22T11:02:50.335264Z",
     "start_time": "2025-02-22T11:02:50.308932400Z"
    }
   },
   "id": "ce4981de0333c942",
   "execution_count": 26
  },
  {
   "cell_type": "code",
   "outputs": [
    {
     "data": {
      "text/plain": "   A   D    B     C\n0  1  20  5.0   9.0\n1  2  30  6.0  10.0\n2  3  40  7.0  11.0\n3  5  50  NaN   NaN",
      "text/html": "<div>\n<style scoped>\n    .dataframe tbody tr th:only-of-type {\n        vertical-align: middle;\n    }\n\n    .dataframe tbody tr th {\n        vertical-align: top;\n    }\n\n    .dataframe thead th {\n        text-align: right;\n    }\n</style>\n<table border=\"1\" class=\"dataframe\">\n  <thead>\n    <tr style=\"text-align: right;\">\n      <th></th>\n      <th>A</th>\n      <th>D</th>\n      <th>B</th>\n      <th>C</th>\n    </tr>\n  </thead>\n  <tbody>\n    <tr>\n      <th>0</th>\n      <td>1</td>\n      <td>20</td>\n      <td>5.0</td>\n      <td>9.0</td>\n    </tr>\n    <tr>\n      <th>1</th>\n      <td>2</td>\n      <td>30</td>\n      <td>6.0</td>\n      <td>10.0</td>\n    </tr>\n    <tr>\n      <th>2</th>\n      <td>3</td>\n      <td>40</td>\n      <td>7.0</td>\n      <td>11.0</td>\n    </tr>\n    <tr>\n      <th>3</th>\n      <td>5</td>\n      <td>50</td>\n      <td>NaN</td>\n      <td>NaN</td>\n    </tr>\n  </tbody>\n</table>\n</div>"
     },
     "execution_count": 34,
     "metadata": {},
     "output_type": "execute_result"
    }
   ],
   "source": [
    "var1 = pd.DataFrame({'A':[1,2,3,4],'B':[5,6,7,8],'C':[9,10,11,12]})\n",
    "var2 = pd.DataFrame({'A':[1,2,3,5],'D':[20,30,40,50]})\n",
    "df=pd.merge(var2,var1,how='left')\n",
    "df"
   ],
   "metadata": {
    "collapsed": false,
    "ExecuteTime": {
     "end_time": "2025-02-22T11:10:17.581188900Z",
     "start_time": "2025-02-22T11:10:17.571824300Z"
    }
   },
   "id": "c68a7f2f1a7b3561",
   "execution_count": 34
  },
  {
   "cell_type": "code",
   "outputs": [
    {
     "data": {
      "text/plain": "   A     D  B   C\n0  1  20.0  5   9\n1  2  30.0  6  10\n2  3  40.0  7  11\n3  4   NaN  8  12",
      "text/html": "<div>\n<style scoped>\n    .dataframe tbody tr th:only-of-type {\n        vertical-align: middle;\n    }\n\n    .dataframe tbody tr th {\n        vertical-align: top;\n    }\n\n    .dataframe thead th {\n        text-align: right;\n    }\n</style>\n<table border=\"1\" class=\"dataframe\">\n  <thead>\n    <tr style=\"text-align: right;\">\n      <th></th>\n      <th>A</th>\n      <th>D</th>\n      <th>B</th>\n      <th>C</th>\n    </tr>\n  </thead>\n  <tbody>\n    <tr>\n      <th>0</th>\n      <td>1</td>\n      <td>20.0</td>\n      <td>5</td>\n      <td>9</td>\n    </tr>\n    <tr>\n      <th>1</th>\n      <td>2</td>\n      <td>30.0</td>\n      <td>6</td>\n      <td>10</td>\n    </tr>\n    <tr>\n      <th>2</th>\n      <td>3</td>\n      <td>40.0</td>\n      <td>7</td>\n      <td>11</td>\n    </tr>\n    <tr>\n      <th>3</th>\n      <td>4</td>\n      <td>NaN</td>\n      <td>8</td>\n      <td>12</td>\n    </tr>\n  </tbody>\n</table>\n</div>"
     },
     "execution_count": 36,
     "metadata": {},
     "output_type": "execute_result"
    }
   ],
   "source": [
    "var1 = pd.DataFrame({'A':[1,2,3,4],'B':[5,6,7,8],'C':[9,10,11,12]})\n",
    "var2 = pd.DataFrame({'A':[1,2,3,5],'D':[20,30,40,50]})\n",
    "df=pd.merge(var2,var1,how='right')\n",
    "df"
   ],
   "metadata": {
    "collapsed": false,
    "ExecuteTime": {
     "end_time": "2025-02-22T11:13:51.751638900Z",
     "start_time": "2025-02-22T11:13:51.740166800Z"
    }
   },
   "id": "2252447423b11a0f",
   "execution_count": 36
  },
  {
   "cell_type": "code",
   "outputs": [],
   "source": [],
   "metadata": {
    "collapsed": false
   },
   "id": "d5b6b7bb5723e610"
  }
 ],
 "metadata": {
  "kernelspec": {
   "display_name": "Python 3",
   "language": "python",
   "name": "python3"
  },
  "language_info": {
   "codemirror_mode": {
    "name": "ipython",
    "version": 2
   },
   "file_extension": ".py",
   "mimetype": "text/x-python",
   "name": "python",
   "nbconvert_exporter": "python",
   "pygments_lexer": "ipython2",
   "version": "2.7.6"
  }
 },
 "nbformat": 4,
 "nbformat_minor": 5
}
