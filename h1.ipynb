{
 "cells": [
  {
   "cell_type": "code",
   "execution_count": 24,
   "id": "initial_id",
   "metadata": {
    "collapsed": true,
    "ExecuteTime": {
     "end_time": "2025-08-21T05:04:57.132963Z",
     "start_time": "2025-08-21T05:04:55.396620Z"
    }
   },
   "outputs": [],
   "source": [
    "import  numpy as np\n"
   ]
  },
  {
   "cell_type": "code",
   "outputs": [
    {
     "data": {
      "text/plain": "array([[[1., 1., 1., 1.],\n        [1., 1., 1., 1.],\n        [1., 1., 1., 1.]],\n\n       [[1., 1., 1., 1.],\n        [1., 1., 1., 1.],\n        [1., 1., 1., 1.]]])"
     },
     "execution_count": 25,
     "metadata": {},
     "output_type": "execute_result"
    }
   ],
   "source": [
    "a=np.ones((2,3,4))\n",
    "a"
   ],
   "metadata": {
    "collapsed": false,
    "ExecuteTime": {
     "end_time": "2025-08-21T05:04:57.142899Z",
     "start_time": "2025-08-21T05:04:57.135257Z"
    }
   },
   "id": "fffacda9ec590d42",
   "execution_count": 25
  },
  {
   "cell_type": "code",
   "outputs": [],
   "source": [
    "# reshaping array"
   ],
   "metadata": {
    "collapsed": false,
    "ExecuteTime": {
     "end_time": "2025-08-21T05:04:57.148861Z",
     "start_time": "2025-08-21T05:04:57.145113Z"
    }
   },
   "id": "247968ba16273f94",
   "execution_count": 26
  },
  {
   "cell_type": "code",
   "outputs": [],
   "source": [
    "df=np.array([[4,5,7,9],[3,15,16,19],[2,5,6,7],[8,9,18,12]])\n",
    "df"
   ],
   "metadata": {
    "collapsed": false,
    "ExecuteTime": {
     "start_time": "2025-08-21T05:04:57.183948Z"
    }
   },
   "id": "cb810be1fadaedd1",
   "execution_count": null
  },
  {
   "cell_type": "code",
   "outputs": [],
   "source": [
    "\n"
   ],
   "metadata": {
    "collapsed": false,
    "ExecuteTime": {
     "start_time": "2025-08-21T05:04:57.185031Z"
    }
   },
   "id": "b085e455706ed861",
   "execution_count": null
  },
  {
   "cell_type": "code",
   "outputs": [],
   "source": [
    "df[0:4,3:4]"
   ],
   "metadata": {
    "collapsed": false
   },
   "id": "b5c3c3c38e74e844",
   "execution_count": null
  },
  {
   "cell_type": "code",
   "outputs": [],
   "source": [
    "df[:, ]\n",
    "# 1st column"
   ],
   "metadata": {
    "collapsed": false,
    "ExecuteTime": {
     "start_time": "2025-08-21T05:04:57.188312Z"
    }
   },
   "id": "14538d7fb78ddafa",
   "execution_count": null
  },
  {
   "cell_type": "code",
   "outputs": [],
   "source": [
    "l=list()"
   ],
   "metadata": {
    "collapsed": false,
    "ExecuteTime": {
     "start_time": "2025-08-21T05:04:57.189470Z"
    }
   },
   "id": "de9bfc719cdd8026",
   "execution_count": null
  },
  {
   "cell_type": "code",
   "outputs": [],
   "source": [
    "l=[1,2,3,4,5,6,7,8,9,10]\n",
    "l[2:8:1]"
   ],
   "metadata": {
    "collapsed": false,
    "ExecuteTime": {
     "start_time": "2025-08-21T05:04:57.190541Z"
    }
   },
   "id": "c04e45ea787945b6",
   "execution_count": null
  },
  {
   "cell_type": "code",
   "outputs": [],
   "source": [],
   "metadata": {
    "collapsed": false,
    "ExecuteTime": {
     "start_time": "2025-08-21T05:04:57.191647Z"
    }
   },
   "id": "5cba158fa7ea7b25"
  },
  {
   "cell_type": "code",
   "outputs": [],
   "source": [
    "import pandas as pd\n"
   ],
   "metadata": {
    "collapsed": false
   },
   "id": "3dc344660bb248e4",
   "execution_count": null
  },
  {
   "cell_type": "code",
   "outputs": [],
   "source": [
    "df[3]=[10,20,30,40]"
   ],
   "metadata": {
    "collapsed": false,
    "ExecuteTime": {
     "start_time": "2025-08-21T05:04:57.195002Z"
    }
   },
   "id": "89670ff95a19dbba",
   "execution_count": null
  },
  {
   "cell_type": "code",
   "outputs": [],
   "source": [
    "df"
   ],
   "metadata": {
    "collapsed": false,
    "ExecuteTime": {
     "start_time": "2025-08-21T05:04:57.196070Z"
    }
   },
   "id": "f2da31cdb0daf983",
   "execution_count": null
  },
  {
   "cell_type": "code",
   "outputs": [],
   "source": [
    "df[[0,-1],:]"
   ],
   "metadata": {
    "collapsed": false,
    "ExecuteTime": {
     "start_time": "2025-08-21T05:04:57.197229Z"
    }
   },
   "id": "3bbd0eb2e5d72fa5",
   "execution_count": null
  },
  {
   "cell_type": "code",
   "outputs": [],
   "source": [
    "data=pd.DataFrame({\"a\":[1,2,3,4],\"b\":[2,4,5,6],\"c\":[10,20,30,40]})\n",
    "data"
   ],
   "metadata": {
    "collapsed": false
   },
   "id": "8cb048cbe440f57a",
   "execution_count": null
  },
  {
   "cell_type": "code",
   "outputs": [],
   "source": [
    "data.T"
   ],
   "metadata": {
    "collapsed": false
   },
   "id": "eefa5e1a5481649e",
   "execution_count": null
  },
  {
   "cell_type": "code",
   "outputs": [],
   "source": [
    "data.iloc[:,[0,-1]]"
   ],
   "metadata": {
    "collapsed": false,
    "ExecuteTime": {
     "start_time": "2025-08-21T05:04:57.201576Z"
    }
   },
   "id": "85d489c082191c64",
   "execution_count": null
  },
  {
   "cell_type": "code",
   "outputs": [
    {
     "name": "stdout",
     "output_type": "stream",
     "text": [
      "anagrame\n"
     ]
    }
   ],
   "source": [
    "input1=\"ptaiiik\"\n",
    "input2=\"ipatiik\"\n",
    "\n",
    "\n",
    "l1=list()\n",
    "for i in range(0,len(input1)):\n",
    "    l1.append(input1[i])\n",
    "    \n",
    "# print(l1)   \n",
    "\n",
    "l1.sort()\n",
    "\n",
    "l2=list()\n",
    "for i in range(0,len(input2)):\n",
    "    l2.append(input1[i])\n",
    "    \n",
    "# print(l2) \n",
    "\n",
    "l2.sort()\n",
    "if l1==l2:\n",
    "    print(\"anagrame\")\n",
    "    \n",
    "else:\n",
    "    print(\"not anagrame\")\n",
    "\n",
    "\n",
    "\n"
   ],
   "metadata": {
    "collapsed": false,
    "ExecuteTime": {
     "end_time": "2025-08-21T19:53:32.809886Z",
     "start_time": "2025-08-21T19:53:32.805401Z"
    }
   },
   "id": "e67b4a6c29f10f25",
   "execution_count": 3
  },
  {
   "cell_type": "code",
   "outputs": [
    {
     "name": "stdout",
     "output_type": "stream",
     "text": [
      "String Compression\n",
      "a4b3c4d5\n"
     ]
    }
   ],
   "source": [
    "print(\"String Compression\")\n",
    "input=\"aaaabbbccccddddd\"\n",
    "list1=list(input)\n",
    "list1.sort()\n",
    "list1\n",
    "\n",
    "i=0\n",
    "p=\"\"\n",
    "while(i<len(list1)):\n",
    "    k=list1.count(list1[i])\n",
    "    p+=list1[i]+str(k)\n",
    "    i=i+k\n",
    "    \n",
    "print(p)    \n",
    "    \n",
    "    \n",
    "    "
   ],
   "metadata": {
    "collapsed": false,
    "ExecuteTime": {
     "end_time": "2025-08-21T05:14:52.645136Z",
     "start_time": "2025-08-21T05:14:52.640672Z"
    }
   },
   "id": "10cd5335732aabbb",
   "execution_count": 6
  },
  {
   "cell_type": "code",
   "outputs": [
    {
     "name": "stdout",
     "output_type": "stream",
     "text": [
      "pratikgiri\n"
     ]
    }
   ],
   "source": [
    "p=\"pratik giri\"\n",
    "l=\"\"\n",
    "for i in range(0,len(p)):\n",
    "    if(p[i]==\" \"):\n",
    "        continue\n",
    "    l+=p[i]\n",
    "    \n",
    "print(l)    \n",
    "    \n",
    "    \n"
   ],
   "metadata": {
    "collapsed": false,
    "ExecuteTime": {
     "end_time": "2025-08-21T05:43:07.606311Z",
     "start_time": "2025-08-21T05:43:07.601430Z"
    }
   },
   "id": "daec6b925f949c07",
   "execution_count": 12
  },
  {
   "cell_type": "code",
   "outputs": [
    {
     "name": "stdout",
     "output_type": "stream",
     "text": [
      "4\n"
     ]
    }
   ],
   "source": [
    "p=(\"jjj nnn ff gg\")\n",
    "k=1\n",
    "for i in range(0,len(p)):\n",
    "    if(p[i]==\" \"):\n",
    "        k=k+1\n",
    "   \n",
    "print(k)       \n",
    "    "
   ],
   "metadata": {
    "collapsed": false,
    "ExecuteTime": {
     "end_time": "2025-08-21T05:50:09.068870Z",
     "start_time": "2025-08-21T05:50:09.060407Z"
    }
   },
   "id": "f12aa62c7e7c1033",
   "execution_count": 19
  },
  {
   "cell_type": "code",
   "outputs": [],
   "source": [],
   "metadata": {
    "collapsed": false
   },
   "id": "6f346ecedaa64486"
  }
 ],
 "metadata": {
  "kernelspec": {
   "display_name": "Python 3",
   "language": "python",
   "name": "python3"
  },
  "language_info": {
   "codemirror_mode": {
    "name": "ipython",
    "version": 2
   },
   "file_extension": ".py",
   "mimetype": "text/x-python",
   "name": "python",
   "nbconvert_exporter": "python",
   "pygments_lexer": "ipython2",
   "version": "2.7.6"
  }
 },
 "nbformat": 4,
 "nbformat_minor": 5
}
