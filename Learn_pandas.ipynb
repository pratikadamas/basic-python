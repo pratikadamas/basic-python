{
 "cells": [
  {
   "cell_type": "code",
   "execution_count": 1,
   "id": "initial_id",
   "metadata": {
    "collapsed": true,
    "ExecuteTime": {
     "end_time": "2025-03-14T19:45:54.569085Z",
     "start_time": "2025-03-14T19:45:54.513260Z"
    }
   },
   "outputs": [
    {
     "data": {
      "text/plain": "         lesion_id      image_id     dx dx_type   age     sex localization\n0      HAM_0000118           NaN    NaN     NaN   NaN     NaN          NaN\n1      HAM_0000118  ISIC_0025030    bkl   histo  80.0    male        scalp\n2      HAM_0002730  ISIC_0026769    bkl   histo  80.0    male        scalp\n3      HAM_0002730  ISIC_0025661    bkl     NaN  80.0    male        scalp\n4      HAM_0001466  ISIC_0031633    bkl   histo  75.0    male          NaN\n...            ...           ...    ...     ...   ...     ...          ...\n10010  HAM_0002867  ISIC_0033084  akiec   histo  40.0    male      abdomen\n10011  HAM_0002867  ISIC_0033550  akiec   histo  40.0    male      abdomen\n10012  HAM_0002867  ISIC_0033536  akiec   histo  40.0    male      abdomen\n10013  HAM_0000239  ISIC_0032854  akiec   histo  80.0    male         face\n10014  HAM_0003521  ISIC_0032258    mel   histo  70.0  female         back\n\n[10015 rows x 7 columns]",
      "text/html": "<div>\n<style scoped>\n    .dataframe tbody tr th:only-of-type {\n        vertical-align: middle;\n    }\n\n    .dataframe tbody tr th {\n        vertical-align: top;\n    }\n\n    .dataframe thead th {\n        text-align: right;\n    }\n</style>\n<table border=\"1\" class=\"dataframe\">\n  <thead>\n    <tr style=\"text-align: right;\">\n      <th></th>\n      <th>lesion_id</th>\n      <th>image_id</th>\n      <th>dx</th>\n      <th>dx_type</th>\n      <th>age</th>\n      <th>sex</th>\n      <th>localization</th>\n    </tr>\n  </thead>\n  <tbody>\n    <tr>\n      <th>0</th>\n      <td>HAM_0000118</td>\n      <td>NaN</td>\n      <td>NaN</td>\n      <td>NaN</td>\n      <td>NaN</td>\n      <td>NaN</td>\n      <td>NaN</td>\n    </tr>\n    <tr>\n      <th>1</th>\n      <td>HAM_0000118</td>\n      <td>ISIC_0025030</td>\n      <td>bkl</td>\n      <td>histo</td>\n      <td>80.0</td>\n      <td>male</td>\n      <td>scalp</td>\n    </tr>\n    <tr>\n      <th>2</th>\n      <td>HAM_0002730</td>\n      <td>ISIC_0026769</td>\n      <td>bkl</td>\n      <td>histo</td>\n      <td>80.0</td>\n      <td>male</td>\n      <td>scalp</td>\n    </tr>\n    <tr>\n      <th>3</th>\n      <td>HAM_0002730</td>\n      <td>ISIC_0025661</td>\n      <td>bkl</td>\n      <td>NaN</td>\n      <td>80.0</td>\n      <td>male</td>\n      <td>scalp</td>\n    </tr>\n    <tr>\n      <th>4</th>\n      <td>HAM_0001466</td>\n      <td>ISIC_0031633</td>\n      <td>bkl</td>\n      <td>histo</td>\n      <td>75.0</td>\n      <td>male</td>\n      <td>NaN</td>\n    </tr>\n    <tr>\n      <th>...</th>\n      <td>...</td>\n      <td>...</td>\n      <td>...</td>\n      <td>...</td>\n      <td>...</td>\n      <td>...</td>\n      <td>...</td>\n    </tr>\n    <tr>\n      <th>10010</th>\n      <td>HAM_0002867</td>\n      <td>ISIC_0033084</td>\n      <td>akiec</td>\n      <td>histo</td>\n      <td>40.0</td>\n      <td>male</td>\n      <td>abdomen</td>\n    </tr>\n    <tr>\n      <th>10011</th>\n      <td>HAM_0002867</td>\n      <td>ISIC_0033550</td>\n      <td>akiec</td>\n      <td>histo</td>\n      <td>40.0</td>\n      <td>male</td>\n      <td>abdomen</td>\n    </tr>\n    <tr>\n      <th>10012</th>\n      <td>HAM_0002867</td>\n      <td>ISIC_0033536</td>\n      <td>akiec</td>\n      <td>histo</td>\n      <td>40.0</td>\n      <td>male</td>\n      <td>abdomen</td>\n    </tr>\n    <tr>\n      <th>10013</th>\n      <td>HAM_0000239</td>\n      <td>ISIC_0032854</td>\n      <td>akiec</td>\n      <td>histo</td>\n      <td>80.0</td>\n      <td>male</td>\n      <td>face</td>\n    </tr>\n    <tr>\n      <th>10014</th>\n      <td>HAM_0003521</td>\n      <td>ISIC_0032258</td>\n      <td>mel</td>\n      <td>histo</td>\n      <td>70.0</td>\n      <td>female</td>\n      <td>back</td>\n    </tr>\n  </tbody>\n</table>\n<p>10015 rows × 7 columns</p>\n</div>"
     },
     "execution_count": 1,
     "metadata": {},
     "output_type": "execute_result"
    }
   ],
   "source": [
    "import pandas as pd\n",
    "csv_file =pd.read_csv(r\"E:\\basic python\\HAM10000_metadata.csv\")\n",
    "csv_file"
   ]
  },
  {
   "cell_type": "code",
   "outputs": [
    {
     "data": {
      "text/plain": "         lesion_id      image_id     dx dx_type   age     sex localization\n0      HAM_0000118           NaN    NaN     NaN   NaN     NaN          NaN\n1      HAM_0000118  ISIC_0025030    bkl   histo  80.0    male        scalp\n2      HAM_0002730  ISIC_0026769    bkl   histo  80.0    male        scalp\n3      HAM_0002730  ISIC_0025661    bkl     NaN  80.0    male        scalp\n4      HAM_0001466  ISIC_0031633    bkl   histo  75.0    male          NaN\n...            ...           ...    ...     ...   ...     ...          ...\n10010  HAM_0002867  ISIC_0033084  akiec   histo  40.0    male      abdomen\n10011  HAM_0002867  ISIC_0033550  akiec   histo  40.0    male      abdomen\n10012  HAM_0002867  ISIC_0033536  akiec   histo  40.0    male      abdomen\n10013  HAM_0000239  ISIC_0032854  akiec   histo  80.0    male         face\n10014  HAM_0003521  ISIC_0032258    mel   histo  70.0  female         back\n\n[10015 rows x 7 columns]",
      "text/html": "<div>\n<style scoped>\n    .dataframe tbody tr th:only-of-type {\n        vertical-align: middle;\n    }\n\n    .dataframe tbody tr th {\n        vertical-align: top;\n    }\n\n    .dataframe thead th {\n        text-align: right;\n    }\n</style>\n<table border=\"1\" class=\"dataframe\">\n  <thead>\n    <tr style=\"text-align: right;\">\n      <th></th>\n      <th>lesion_id</th>\n      <th>image_id</th>\n      <th>dx</th>\n      <th>dx_type</th>\n      <th>age</th>\n      <th>sex</th>\n      <th>localization</th>\n    </tr>\n  </thead>\n  <tbody>\n    <tr>\n      <th>0</th>\n      <td>HAM_0000118</td>\n      <td>NaN</td>\n      <td>NaN</td>\n      <td>NaN</td>\n      <td>NaN</td>\n      <td>NaN</td>\n      <td>NaN</td>\n    </tr>\n    <tr>\n      <th>1</th>\n      <td>HAM_0000118</td>\n      <td>ISIC_0025030</td>\n      <td>bkl</td>\n      <td>histo</td>\n      <td>80.0</td>\n      <td>male</td>\n      <td>scalp</td>\n    </tr>\n    <tr>\n      <th>2</th>\n      <td>HAM_0002730</td>\n      <td>ISIC_0026769</td>\n      <td>bkl</td>\n      <td>histo</td>\n      <td>80.0</td>\n      <td>male</td>\n      <td>scalp</td>\n    </tr>\n    <tr>\n      <th>3</th>\n      <td>HAM_0002730</td>\n      <td>ISIC_0025661</td>\n      <td>bkl</td>\n      <td>NaN</td>\n      <td>80.0</td>\n      <td>male</td>\n      <td>scalp</td>\n    </tr>\n    <tr>\n      <th>4</th>\n      <td>HAM_0001466</td>\n      <td>ISIC_0031633</td>\n      <td>bkl</td>\n      <td>histo</td>\n      <td>75.0</td>\n      <td>male</td>\n      <td>NaN</td>\n    </tr>\n    <tr>\n      <th>...</th>\n      <td>...</td>\n      <td>...</td>\n      <td>...</td>\n      <td>...</td>\n      <td>...</td>\n      <td>...</td>\n      <td>...</td>\n    </tr>\n    <tr>\n      <th>10010</th>\n      <td>HAM_0002867</td>\n      <td>ISIC_0033084</td>\n      <td>akiec</td>\n      <td>histo</td>\n      <td>40.0</td>\n      <td>male</td>\n      <td>abdomen</td>\n    </tr>\n    <tr>\n      <th>10011</th>\n      <td>HAM_0002867</td>\n      <td>ISIC_0033550</td>\n      <td>akiec</td>\n      <td>histo</td>\n      <td>40.0</td>\n      <td>male</td>\n      <td>abdomen</td>\n    </tr>\n    <tr>\n      <th>10012</th>\n      <td>HAM_0002867</td>\n      <td>ISIC_0033536</td>\n      <td>akiec</td>\n      <td>histo</td>\n      <td>40.0</td>\n      <td>male</td>\n      <td>abdomen</td>\n    </tr>\n    <tr>\n      <th>10013</th>\n      <td>HAM_0000239</td>\n      <td>ISIC_0032854</td>\n      <td>akiec</td>\n      <td>histo</td>\n      <td>80.0</td>\n      <td>male</td>\n      <td>face</td>\n    </tr>\n    <tr>\n      <th>10014</th>\n      <td>HAM_0003521</td>\n      <td>ISIC_0032258</td>\n      <td>mel</td>\n      <td>histo</td>\n      <td>70.0</td>\n      <td>female</td>\n      <td>back</td>\n    </tr>\n  </tbody>\n</table>\n<p>10015 rows × 7 columns</p>\n</div>"
     },
     "execution_count": 2,
     "metadata": {},
     "output_type": "execute_result"
    }
   ],
   "source": [
    "csv_file.dropna(thresh=1)"
   ],
   "metadata": {
    "collapsed": false,
    "ExecuteTime": {
     "end_time": "2025-03-14T19:45:54.588646Z",
     "start_time": "2025-03-14T19:45:54.571185Z"
    }
   },
   "id": "4ff5ebfd420e5afe",
   "execution_count": 2
  },
  {
   "cell_type": "code",
   "outputs": [
    {
     "data": {
      "text/plain": "         lesion_id      image_id     dx dx_type   age     sex localization\n1      HAM_0000118  ISIC_0025030    bkl   histo  80.0    male        scalp\n2      HAM_0002730  ISIC_0026769    bkl   histo  80.0    male        scalp\n3      HAM_0002730  ISIC_0025661    bkl     NaN  80.0    male        scalp\n5      HAM_0001466  ISIC_0027850    bkl   histo  75.0     NaN          ear\n6      HAM_0002761  ISIC_0029176    bkl     NaN  60.0    male         face\n...            ...           ...    ...     ...   ...     ...          ...\n10010  HAM_0002867  ISIC_0033084  akiec   histo  40.0    male      abdomen\n10011  HAM_0002867  ISIC_0033550  akiec   histo  40.0    male      abdomen\n10012  HAM_0002867  ISIC_0033536  akiec   histo  40.0    male      abdomen\n10013  HAM_0000239  ISIC_0032854  akiec   histo  80.0    male         face\n10014  HAM_0003521  ISIC_0032258    mel   histo  70.0  female         back\n\n[10010 rows x 7 columns]",
      "text/html": "<div>\n<style scoped>\n    .dataframe tbody tr th:only-of-type {\n        vertical-align: middle;\n    }\n\n    .dataframe tbody tr th {\n        vertical-align: top;\n    }\n\n    .dataframe thead th {\n        text-align: right;\n    }\n</style>\n<table border=\"1\" class=\"dataframe\">\n  <thead>\n    <tr style=\"text-align: right;\">\n      <th></th>\n      <th>lesion_id</th>\n      <th>image_id</th>\n      <th>dx</th>\n      <th>dx_type</th>\n      <th>age</th>\n      <th>sex</th>\n      <th>localization</th>\n    </tr>\n  </thead>\n  <tbody>\n    <tr>\n      <th>1</th>\n      <td>HAM_0000118</td>\n      <td>ISIC_0025030</td>\n      <td>bkl</td>\n      <td>histo</td>\n      <td>80.0</td>\n      <td>male</td>\n      <td>scalp</td>\n    </tr>\n    <tr>\n      <th>2</th>\n      <td>HAM_0002730</td>\n      <td>ISIC_0026769</td>\n      <td>bkl</td>\n      <td>histo</td>\n      <td>80.0</td>\n      <td>male</td>\n      <td>scalp</td>\n    </tr>\n    <tr>\n      <th>3</th>\n      <td>HAM_0002730</td>\n      <td>ISIC_0025661</td>\n      <td>bkl</td>\n      <td>NaN</td>\n      <td>80.0</td>\n      <td>male</td>\n      <td>scalp</td>\n    </tr>\n    <tr>\n      <th>5</th>\n      <td>HAM_0001466</td>\n      <td>ISIC_0027850</td>\n      <td>bkl</td>\n      <td>histo</td>\n      <td>75.0</td>\n      <td>NaN</td>\n      <td>ear</td>\n    </tr>\n    <tr>\n      <th>6</th>\n      <td>HAM_0002761</td>\n      <td>ISIC_0029176</td>\n      <td>bkl</td>\n      <td>NaN</td>\n      <td>60.0</td>\n      <td>male</td>\n      <td>face</td>\n    </tr>\n    <tr>\n      <th>...</th>\n      <td>...</td>\n      <td>...</td>\n      <td>...</td>\n      <td>...</td>\n      <td>...</td>\n      <td>...</td>\n      <td>...</td>\n    </tr>\n    <tr>\n      <th>10010</th>\n      <td>HAM_0002867</td>\n      <td>ISIC_0033084</td>\n      <td>akiec</td>\n      <td>histo</td>\n      <td>40.0</td>\n      <td>male</td>\n      <td>abdomen</td>\n    </tr>\n    <tr>\n      <th>10011</th>\n      <td>HAM_0002867</td>\n      <td>ISIC_0033550</td>\n      <td>akiec</td>\n      <td>histo</td>\n      <td>40.0</td>\n      <td>male</td>\n      <td>abdomen</td>\n    </tr>\n    <tr>\n      <th>10012</th>\n      <td>HAM_0002867</td>\n      <td>ISIC_0033536</td>\n      <td>akiec</td>\n      <td>histo</td>\n      <td>40.0</td>\n      <td>male</td>\n      <td>abdomen</td>\n    </tr>\n    <tr>\n      <th>10013</th>\n      <td>HAM_0000239</td>\n      <td>ISIC_0032854</td>\n      <td>akiec</td>\n      <td>histo</td>\n      <td>80.0</td>\n      <td>male</td>\n      <td>face</td>\n    </tr>\n    <tr>\n      <th>10014</th>\n      <td>HAM_0003521</td>\n      <td>ISIC_0032258</td>\n      <td>mel</td>\n      <td>histo</td>\n      <td>70.0</td>\n      <td>female</td>\n      <td>back</td>\n    </tr>\n  </tbody>\n</table>\n<p>10010 rows × 7 columns</p>\n</div>"
     },
     "execution_count": 3,
     "metadata": {},
     "output_type": "execute_result"
    }
   ],
   "source": [
    "csv_file.dropna(subset=[\"localization\"])"
   ],
   "metadata": {
    "collapsed": false,
    "ExecuteTime": {
     "end_time": "2025-03-14T19:45:54.607493Z",
     "start_time": "2025-03-14T19:45:54.590851Z"
    }
   },
   "id": "cb6b0140321a8bd3",
   "execution_count": 3
  },
  {
   "cell_type": "code",
   "outputs": [
    {
     "data": {
      "text/plain": "         lesion_id      image_id     dx dx_type   age     sex localization\n0      HAM_0000118           NaN    NaN     NaN   0.0    male          NaN\n1      HAM_0000118  ISIC_0025030    bkl   histo  80.0    male        scalp\n2      HAM_0002730  ISIC_0026769    bkl   histo  80.0    male        scalp\n3      HAM_0002730  ISIC_0025661    bkl     NaN  80.0    male        scalp\n4      HAM_0001466  ISIC_0031633    bkl   histo  75.0    male          NaN\n...            ...           ...    ...     ...   ...     ...          ...\n10010  HAM_0002867  ISIC_0033084  akiec   histo  40.0    male      abdomen\n10011  HAM_0002867  ISIC_0033550  akiec   histo  40.0    male      abdomen\n10012  HAM_0002867  ISIC_0033536  akiec   histo  40.0    male      abdomen\n10013  HAM_0000239  ISIC_0032854  akiec   histo  80.0    male         face\n10014  HAM_0003521  ISIC_0032258    mel   histo  70.0  female         back\n\n[10015 rows x 7 columns]",
      "text/html": "<div>\n<style scoped>\n    .dataframe tbody tr th:only-of-type {\n        vertical-align: middle;\n    }\n\n    .dataframe tbody tr th {\n        vertical-align: top;\n    }\n\n    .dataframe thead th {\n        text-align: right;\n    }\n</style>\n<table border=\"1\" class=\"dataframe\">\n  <thead>\n    <tr style=\"text-align: right;\">\n      <th></th>\n      <th>lesion_id</th>\n      <th>image_id</th>\n      <th>dx</th>\n      <th>dx_type</th>\n      <th>age</th>\n      <th>sex</th>\n      <th>localization</th>\n    </tr>\n  </thead>\n  <tbody>\n    <tr>\n      <th>0</th>\n      <td>HAM_0000118</td>\n      <td>NaN</td>\n      <td>NaN</td>\n      <td>NaN</td>\n      <td>0.0</td>\n      <td>male</td>\n      <td>NaN</td>\n    </tr>\n    <tr>\n      <th>1</th>\n      <td>HAM_0000118</td>\n      <td>ISIC_0025030</td>\n      <td>bkl</td>\n      <td>histo</td>\n      <td>80.0</td>\n      <td>male</td>\n      <td>scalp</td>\n    </tr>\n    <tr>\n      <th>2</th>\n      <td>HAM_0002730</td>\n      <td>ISIC_0026769</td>\n      <td>bkl</td>\n      <td>histo</td>\n      <td>80.0</td>\n      <td>male</td>\n      <td>scalp</td>\n    </tr>\n    <tr>\n      <th>3</th>\n      <td>HAM_0002730</td>\n      <td>ISIC_0025661</td>\n      <td>bkl</td>\n      <td>NaN</td>\n      <td>80.0</td>\n      <td>male</td>\n      <td>scalp</td>\n    </tr>\n    <tr>\n      <th>4</th>\n      <td>HAM_0001466</td>\n      <td>ISIC_0031633</td>\n      <td>bkl</td>\n      <td>histo</td>\n      <td>75.0</td>\n      <td>male</td>\n      <td>NaN</td>\n    </tr>\n    <tr>\n      <th>...</th>\n      <td>...</td>\n      <td>...</td>\n      <td>...</td>\n      <td>...</td>\n      <td>...</td>\n      <td>...</td>\n      <td>...</td>\n    </tr>\n    <tr>\n      <th>10010</th>\n      <td>HAM_0002867</td>\n      <td>ISIC_0033084</td>\n      <td>akiec</td>\n      <td>histo</td>\n      <td>40.0</td>\n      <td>male</td>\n      <td>abdomen</td>\n    </tr>\n    <tr>\n      <th>10011</th>\n      <td>HAM_0002867</td>\n      <td>ISIC_0033550</td>\n      <td>akiec</td>\n      <td>histo</td>\n      <td>40.0</td>\n      <td>male</td>\n      <td>abdomen</td>\n    </tr>\n    <tr>\n      <th>10012</th>\n      <td>HAM_0002867</td>\n      <td>ISIC_0033536</td>\n      <td>akiec</td>\n      <td>histo</td>\n      <td>40.0</td>\n      <td>male</td>\n      <td>abdomen</td>\n    </tr>\n    <tr>\n      <th>10013</th>\n      <td>HAM_0000239</td>\n      <td>ISIC_0032854</td>\n      <td>akiec</td>\n      <td>histo</td>\n      <td>80.0</td>\n      <td>male</td>\n      <td>face</td>\n    </tr>\n    <tr>\n      <th>10014</th>\n      <td>HAM_0003521</td>\n      <td>ISIC_0032258</td>\n      <td>mel</td>\n      <td>histo</td>\n      <td>70.0</td>\n      <td>female</td>\n      <td>back</td>\n    </tr>\n  </tbody>\n</table>\n<p>10015 rows × 7 columns</p>\n</div>"
     },
     "execution_count": 4,
     "metadata": {},
     "output_type": "execute_result"
    }
   ],
   "source": [
    "csv_file.fillna({\"age\":0.,'sex':\"male\"})"
   ],
   "metadata": {
    "collapsed": false,
    "ExecuteTime": {
     "end_time": "2025-03-14T19:45:54.623407Z",
     "start_time": "2025-03-14T19:45:54.609669Z"
    }
   },
   "id": "bf96967c0e591ad2",
   "execution_count": 4
  },
  {
   "cell_type": "code",
   "outputs": [
    {
     "name": "stderr",
     "output_type": "stream",
     "text": [
      "C:\\Users\\Pratik Giri\\AppData\\Local\\Temp\\ipykernel_2448\\210809585.py:1: FutureWarning: DataFrame.fillna with 'method' is deprecated and will raise in a future version. Use obj.ffill() or obj.bfill() instead.\n",
      "  csv_file.fillna(method=\"bfill\")\n"
     ]
    },
    {
     "data": {
      "text/plain": "         lesion_id      image_id     dx dx_type   age     sex localization\n0      HAM_0000118  ISIC_0025030    bkl   histo  80.0    male        scalp\n1      HAM_0000118  ISIC_0025030    bkl   histo  80.0    male        scalp\n2      HAM_0002730  ISIC_0026769    bkl   histo  80.0    male        scalp\n3      HAM_0002730  ISIC_0025661    bkl   histo  80.0    male        scalp\n4      HAM_0001466  ISIC_0031633    bkl   histo  75.0    male          ear\n...            ...           ...    ...     ...   ...     ...          ...\n10010  HAM_0002867  ISIC_0033084  akiec   histo  40.0    male      abdomen\n10011  HAM_0002867  ISIC_0033550  akiec   histo  40.0    male      abdomen\n10012  HAM_0002867  ISIC_0033536  akiec   histo  40.0    male      abdomen\n10013  HAM_0000239  ISIC_0032854  akiec   histo  80.0    male         face\n10014  HAM_0003521  ISIC_0032258    mel   histo  70.0  female         back\n\n[10015 rows x 7 columns]",
      "text/html": "<div>\n<style scoped>\n    .dataframe tbody tr th:only-of-type {\n        vertical-align: middle;\n    }\n\n    .dataframe tbody tr th {\n        vertical-align: top;\n    }\n\n    .dataframe thead th {\n        text-align: right;\n    }\n</style>\n<table border=\"1\" class=\"dataframe\">\n  <thead>\n    <tr style=\"text-align: right;\">\n      <th></th>\n      <th>lesion_id</th>\n      <th>image_id</th>\n      <th>dx</th>\n      <th>dx_type</th>\n      <th>age</th>\n      <th>sex</th>\n      <th>localization</th>\n    </tr>\n  </thead>\n  <tbody>\n    <tr>\n      <th>0</th>\n      <td>HAM_0000118</td>\n      <td>ISIC_0025030</td>\n      <td>bkl</td>\n      <td>histo</td>\n      <td>80.0</td>\n      <td>male</td>\n      <td>scalp</td>\n    </tr>\n    <tr>\n      <th>1</th>\n      <td>HAM_0000118</td>\n      <td>ISIC_0025030</td>\n      <td>bkl</td>\n      <td>histo</td>\n      <td>80.0</td>\n      <td>male</td>\n      <td>scalp</td>\n    </tr>\n    <tr>\n      <th>2</th>\n      <td>HAM_0002730</td>\n      <td>ISIC_0026769</td>\n      <td>bkl</td>\n      <td>histo</td>\n      <td>80.0</td>\n      <td>male</td>\n      <td>scalp</td>\n    </tr>\n    <tr>\n      <th>3</th>\n      <td>HAM_0002730</td>\n      <td>ISIC_0025661</td>\n      <td>bkl</td>\n      <td>histo</td>\n      <td>80.0</td>\n      <td>male</td>\n      <td>scalp</td>\n    </tr>\n    <tr>\n      <th>4</th>\n      <td>HAM_0001466</td>\n      <td>ISIC_0031633</td>\n      <td>bkl</td>\n      <td>histo</td>\n      <td>75.0</td>\n      <td>male</td>\n      <td>ear</td>\n    </tr>\n    <tr>\n      <th>...</th>\n      <td>...</td>\n      <td>...</td>\n      <td>...</td>\n      <td>...</td>\n      <td>...</td>\n      <td>...</td>\n      <td>...</td>\n    </tr>\n    <tr>\n      <th>10010</th>\n      <td>HAM_0002867</td>\n      <td>ISIC_0033084</td>\n      <td>akiec</td>\n      <td>histo</td>\n      <td>40.0</td>\n      <td>male</td>\n      <td>abdomen</td>\n    </tr>\n    <tr>\n      <th>10011</th>\n      <td>HAM_0002867</td>\n      <td>ISIC_0033550</td>\n      <td>akiec</td>\n      <td>histo</td>\n      <td>40.0</td>\n      <td>male</td>\n      <td>abdomen</td>\n    </tr>\n    <tr>\n      <th>10012</th>\n      <td>HAM_0002867</td>\n      <td>ISIC_0033536</td>\n      <td>akiec</td>\n      <td>histo</td>\n      <td>40.0</td>\n      <td>male</td>\n      <td>abdomen</td>\n    </tr>\n    <tr>\n      <th>10013</th>\n      <td>HAM_0000239</td>\n      <td>ISIC_0032854</td>\n      <td>akiec</td>\n      <td>histo</td>\n      <td>80.0</td>\n      <td>male</td>\n      <td>face</td>\n    </tr>\n    <tr>\n      <th>10014</th>\n      <td>HAM_0003521</td>\n      <td>ISIC_0032258</td>\n      <td>mel</td>\n      <td>histo</td>\n      <td>70.0</td>\n      <td>female</td>\n      <td>back</td>\n    </tr>\n  </tbody>\n</table>\n<p>10015 rows × 7 columns</p>\n</div>"
     },
     "execution_count": 5,
     "metadata": {},
     "output_type": "execute_result"
    }
   ],
   "source": [
    "csv_file.fillna(method=\"bfill\")"
   ],
   "metadata": {
    "collapsed": false,
    "ExecuteTime": {
     "end_time": "2025-03-14T19:45:54.649144Z",
     "start_time": "2025-03-14T19:45:54.624419Z"
    }
   },
   "id": "9cceb2185543293f",
   "execution_count": 5
  },
  {
   "cell_type": "code",
   "outputs": [
    {
     "data": {
      "text/plain": "         lesion_id      image_id     dx dx_type   age     sex localization\n0      HAM_0000118           NaN    NaN     NaN   NaN     NaN          NaN\n1      HAM_0000118  ISIC_0025030    bkl   histo  21.0    male        scalp\n2      HAM_0002730  ISIC_0026769    bkl   histo  21.0    male        scalp\n3      HAM_0002730  ISIC_0025661    bkl     NaN  21.0    male        scalp\n4      HAM_0001466  ISIC_0031633    bkl   histo  75.0    male          NaN\n...            ...           ...    ...     ...   ...     ...          ...\n10010  HAM_0002867  ISIC_0033084  akiec   histo  40.0    male      abdomen\n10011  HAM_0002867  ISIC_0033550  akiec   histo  40.0    male      abdomen\n10012  HAM_0002867  ISIC_0033536  akiec   histo  40.0    male      abdomen\n10013  HAM_0000239  ISIC_0032854  akiec   histo  21.0    male         face\n10014  HAM_0003521  ISIC_0032258    mel   histo  70.0  female         back\n\n[10015 rows x 7 columns]",
      "text/html": "<div>\n<style scoped>\n    .dataframe tbody tr th:only-of-type {\n        vertical-align: middle;\n    }\n\n    .dataframe tbody tr th {\n        vertical-align: top;\n    }\n\n    .dataframe thead th {\n        text-align: right;\n    }\n</style>\n<table border=\"1\" class=\"dataframe\">\n  <thead>\n    <tr style=\"text-align: right;\">\n      <th></th>\n      <th>lesion_id</th>\n      <th>image_id</th>\n      <th>dx</th>\n      <th>dx_type</th>\n      <th>age</th>\n      <th>sex</th>\n      <th>localization</th>\n    </tr>\n  </thead>\n  <tbody>\n    <tr>\n      <th>0</th>\n      <td>HAM_0000118</td>\n      <td>NaN</td>\n      <td>NaN</td>\n      <td>NaN</td>\n      <td>NaN</td>\n      <td>NaN</td>\n      <td>NaN</td>\n    </tr>\n    <tr>\n      <th>1</th>\n      <td>HAM_0000118</td>\n      <td>ISIC_0025030</td>\n      <td>bkl</td>\n      <td>histo</td>\n      <td>21.0</td>\n      <td>male</td>\n      <td>scalp</td>\n    </tr>\n    <tr>\n      <th>2</th>\n      <td>HAM_0002730</td>\n      <td>ISIC_0026769</td>\n      <td>bkl</td>\n      <td>histo</td>\n      <td>21.0</td>\n      <td>male</td>\n      <td>scalp</td>\n    </tr>\n    <tr>\n      <th>3</th>\n      <td>HAM_0002730</td>\n      <td>ISIC_0025661</td>\n      <td>bkl</td>\n      <td>NaN</td>\n      <td>21.0</td>\n      <td>male</td>\n      <td>scalp</td>\n    </tr>\n    <tr>\n      <th>4</th>\n      <td>HAM_0001466</td>\n      <td>ISIC_0031633</td>\n      <td>bkl</td>\n      <td>histo</td>\n      <td>75.0</td>\n      <td>male</td>\n      <td>NaN</td>\n    </tr>\n    <tr>\n      <th>...</th>\n      <td>...</td>\n      <td>...</td>\n      <td>...</td>\n      <td>...</td>\n      <td>...</td>\n      <td>...</td>\n      <td>...</td>\n    </tr>\n    <tr>\n      <th>10010</th>\n      <td>HAM_0002867</td>\n      <td>ISIC_0033084</td>\n      <td>akiec</td>\n      <td>histo</td>\n      <td>40.0</td>\n      <td>male</td>\n      <td>abdomen</td>\n    </tr>\n    <tr>\n      <th>10011</th>\n      <td>HAM_0002867</td>\n      <td>ISIC_0033550</td>\n      <td>akiec</td>\n      <td>histo</td>\n      <td>40.0</td>\n      <td>male</td>\n      <td>abdomen</td>\n    </tr>\n    <tr>\n      <th>10012</th>\n      <td>HAM_0002867</td>\n      <td>ISIC_0033536</td>\n      <td>akiec</td>\n      <td>histo</td>\n      <td>40.0</td>\n      <td>male</td>\n      <td>abdomen</td>\n    </tr>\n    <tr>\n      <th>10013</th>\n      <td>HAM_0000239</td>\n      <td>ISIC_0032854</td>\n      <td>akiec</td>\n      <td>histo</td>\n      <td>21.0</td>\n      <td>male</td>\n      <td>face</td>\n    </tr>\n    <tr>\n      <th>10014</th>\n      <td>HAM_0003521</td>\n      <td>ISIC_0032258</td>\n      <td>mel</td>\n      <td>histo</td>\n      <td>70.0</td>\n      <td>female</td>\n      <td>back</td>\n    </tr>\n  </tbody>\n</table>\n<p>10015 rows × 7 columns</p>\n</div>"
     },
     "execution_count": 6,
     "metadata": {},
     "output_type": "execute_result"
    }
   ],
   "source": [
    "csv_file.replace(to_replace=80,value=21)"
   ],
   "metadata": {
    "collapsed": false,
    "ExecuteTime": {
     "end_time": "2025-03-14T19:45:54.667420Z",
     "start_time": "2025-03-14T19:45:54.651321Z"
    }
   },
   "id": "21846374febb67af",
   "execution_count": 6
  },
  {
   "cell_type": "code",
   "outputs": [
    {
     "data": {
      "text/plain": "         lesion_id      image_id      dx dx_type   age     sex localization\n0      HAM_0000118           NaN     NaN     NaN   NaN     NaN          NaN\n1      HAM_0000118  ISIC_0025030  pratik   histo  80.0    male        scalp\n2      HAM_0002730  ISIC_0026769  pratik   histo  80.0    male        scalp\n3      HAM_0002730  ISIC_0025661  pratik     NaN  80.0    male        scalp\n4      HAM_0001466  ISIC_0031633  pratik   histo  75.0    male          NaN\n...            ...           ...     ...     ...   ...     ...          ...\n10010  HAM_0002867  ISIC_0033084   akiec   histo  40.0    male      abdomen\n10011  HAM_0002867  ISIC_0033550   akiec   histo  40.0    male      abdomen\n10012  HAM_0002867  ISIC_0033536   akiec   histo  40.0    male      abdomen\n10013  HAM_0000239  ISIC_0032854   akiec   histo  80.0    male         face\n10014  HAM_0003521  ISIC_0032258     mel   histo  70.0  female         back\n\n[10015 rows x 7 columns]",
      "text/html": "<div>\n<style scoped>\n    .dataframe tbody tr th:only-of-type {\n        vertical-align: middle;\n    }\n\n    .dataframe tbody tr th {\n        vertical-align: top;\n    }\n\n    .dataframe thead th {\n        text-align: right;\n    }\n</style>\n<table border=\"1\" class=\"dataframe\">\n  <thead>\n    <tr style=\"text-align: right;\">\n      <th></th>\n      <th>lesion_id</th>\n      <th>image_id</th>\n      <th>dx</th>\n      <th>dx_type</th>\n      <th>age</th>\n      <th>sex</th>\n      <th>localization</th>\n    </tr>\n  </thead>\n  <tbody>\n    <tr>\n      <th>0</th>\n      <td>HAM_0000118</td>\n      <td>NaN</td>\n      <td>NaN</td>\n      <td>NaN</td>\n      <td>NaN</td>\n      <td>NaN</td>\n      <td>NaN</td>\n    </tr>\n    <tr>\n      <th>1</th>\n      <td>HAM_0000118</td>\n      <td>ISIC_0025030</td>\n      <td>pratik</td>\n      <td>histo</td>\n      <td>80.0</td>\n      <td>male</td>\n      <td>scalp</td>\n    </tr>\n    <tr>\n      <th>2</th>\n      <td>HAM_0002730</td>\n      <td>ISIC_0026769</td>\n      <td>pratik</td>\n      <td>histo</td>\n      <td>80.0</td>\n      <td>male</td>\n      <td>scalp</td>\n    </tr>\n    <tr>\n      <th>3</th>\n      <td>HAM_0002730</td>\n      <td>ISIC_0025661</td>\n      <td>pratik</td>\n      <td>NaN</td>\n      <td>80.0</td>\n      <td>male</td>\n      <td>scalp</td>\n    </tr>\n    <tr>\n      <th>4</th>\n      <td>HAM_0001466</td>\n      <td>ISIC_0031633</td>\n      <td>pratik</td>\n      <td>histo</td>\n      <td>75.0</td>\n      <td>male</td>\n      <td>NaN</td>\n    </tr>\n    <tr>\n      <th>...</th>\n      <td>...</td>\n      <td>...</td>\n      <td>...</td>\n      <td>...</td>\n      <td>...</td>\n      <td>...</td>\n      <td>...</td>\n    </tr>\n    <tr>\n      <th>10010</th>\n      <td>HAM_0002867</td>\n      <td>ISIC_0033084</td>\n      <td>akiec</td>\n      <td>histo</td>\n      <td>40.0</td>\n      <td>male</td>\n      <td>abdomen</td>\n    </tr>\n    <tr>\n      <th>10011</th>\n      <td>HAM_0002867</td>\n      <td>ISIC_0033550</td>\n      <td>akiec</td>\n      <td>histo</td>\n      <td>40.0</td>\n      <td>male</td>\n      <td>abdomen</td>\n    </tr>\n    <tr>\n      <th>10012</th>\n      <td>HAM_0002867</td>\n      <td>ISIC_0033536</td>\n      <td>akiec</td>\n      <td>histo</td>\n      <td>40.0</td>\n      <td>male</td>\n      <td>abdomen</td>\n    </tr>\n    <tr>\n      <th>10013</th>\n      <td>HAM_0000239</td>\n      <td>ISIC_0032854</td>\n      <td>akiec</td>\n      <td>histo</td>\n      <td>80.0</td>\n      <td>male</td>\n      <td>face</td>\n    </tr>\n    <tr>\n      <th>10014</th>\n      <td>HAM_0003521</td>\n      <td>ISIC_0032258</td>\n      <td>mel</td>\n      <td>histo</td>\n      <td>70.0</td>\n      <td>female</td>\n      <td>back</td>\n    </tr>\n  </tbody>\n</table>\n<p>10015 rows × 7 columns</p>\n</div>"
     },
     "execution_count": 7,
     "metadata": {},
     "output_type": "execute_result"
    }
   ],
   "source": [
    " csv_file.replace(to_replace=\"bkl\",value=\"pratik\")"
   ],
   "metadata": {
    "collapsed": false,
    "ExecuteTime": {
     "end_time": "2025-03-14T19:45:54.686825Z",
     "start_time": "2025-03-14T19:45:54.670681Z"
    }
   },
   "id": "62bf9c82b288bc2d",
   "execution_count": 7
  },
  {
   "cell_type": "code",
   "outputs": [
    {
     "data": {
      "text/plain": "         lesion_id      image_id     dx dx_type   age     sex localization\n0              NaN           NaN    NaN     NaN   NaN     NaN          NaN\n1      HAM_0000118  ISIC_0025030    bkl   histo  80.0    male        scalp\n2      HAM_0002730  ISIC_0026769    bkl   histo  80.0    male        scalp\n3              NaN  ISIC_0025661    bkl   histo  80.0    male        scalp\n4      HAM_0001466  ISIC_0031633    bkl     NaN  75.0    male          ear\n...            ...           ...    ...     ...   ...     ...          ...\n10010  HAM_0002867  ISIC_0033084  akiec   histo  40.0    male      abdomen\n10011  HAM_0002867  ISIC_0033550  akiec   histo  40.0    male      abdomen\n10012  HAM_0002867  ISIC_0033536  akiec   histo  40.0    male      abdomen\n10013  HAM_0000239  ISIC_0032854  akiec   histo  80.0    male         face\n10014  HAM_0003521  ISIC_0032258    mel   histo  70.0  female         back\n\n[10015 rows x 7 columns]",
      "text/html": "<div>\n<style scoped>\n    .dataframe tbody tr th:only-of-type {\n        vertical-align: middle;\n    }\n\n    .dataframe tbody tr th {\n        vertical-align: top;\n    }\n\n    .dataframe thead th {\n        text-align: right;\n    }\n</style>\n<table border=\"1\" class=\"dataframe\">\n  <thead>\n    <tr style=\"text-align: right;\">\n      <th></th>\n      <th>lesion_id</th>\n      <th>image_id</th>\n      <th>dx</th>\n      <th>dx_type</th>\n      <th>age</th>\n      <th>sex</th>\n      <th>localization</th>\n    </tr>\n  </thead>\n  <tbody>\n    <tr>\n      <th>0</th>\n      <td>NaN</td>\n      <td>NaN</td>\n      <td>NaN</td>\n      <td>NaN</td>\n      <td>NaN</td>\n      <td>NaN</td>\n      <td>NaN</td>\n    </tr>\n    <tr>\n      <th>1</th>\n      <td>HAM_0000118</td>\n      <td>ISIC_0025030</td>\n      <td>bkl</td>\n      <td>histo</td>\n      <td>80.0</td>\n      <td>male</td>\n      <td>scalp</td>\n    </tr>\n    <tr>\n      <th>2</th>\n      <td>HAM_0002730</td>\n      <td>ISIC_0026769</td>\n      <td>bkl</td>\n      <td>histo</td>\n      <td>80.0</td>\n      <td>male</td>\n      <td>scalp</td>\n    </tr>\n    <tr>\n      <th>3</th>\n      <td>NaN</td>\n      <td>ISIC_0025661</td>\n      <td>bkl</td>\n      <td>histo</td>\n      <td>80.0</td>\n      <td>male</td>\n      <td>scalp</td>\n    </tr>\n    <tr>\n      <th>4</th>\n      <td>HAM_0001466</td>\n      <td>ISIC_0031633</td>\n      <td>bkl</td>\n      <td>NaN</td>\n      <td>75.0</td>\n      <td>male</td>\n      <td>ear</td>\n    </tr>\n    <tr>\n      <th>...</th>\n      <td>...</td>\n      <td>...</td>\n      <td>...</td>\n      <td>...</td>\n      <td>...</td>\n      <td>...</td>\n      <td>...</td>\n    </tr>\n    <tr>\n      <th>10010</th>\n      <td>HAM_0002867</td>\n      <td>ISIC_0033084</td>\n      <td>akiec</td>\n      <td>histo</td>\n      <td>40.0</td>\n      <td>male</td>\n      <td>abdomen</td>\n    </tr>\n    <tr>\n      <th>10011</th>\n      <td>HAM_0002867</td>\n      <td>ISIC_0033550</td>\n      <td>akiec</td>\n      <td>histo</td>\n      <td>40.0</td>\n      <td>male</td>\n      <td>abdomen</td>\n    </tr>\n    <tr>\n      <th>10012</th>\n      <td>HAM_0002867</td>\n      <td>ISIC_0033536</td>\n      <td>akiec</td>\n      <td>histo</td>\n      <td>40.0</td>\n      <td>male</td>\n      <td>abdomen</td>\n    </tr>\n    <tr>\n      <th>10013</th>\n      <td>HAM_0000239</td>\n      <td>ISIC_0032854</td>\n      <td>akiec</td>\n      <td>histo</td>\n      <td>80.0</td>\n      <td>male</td>\n      <td>face</td>\n    </tr>\n    <tr>\n      <th>10014</th>\n      <td>HAM_0003521</td>\n      <td>ISIC_0032258</td>\n      <td>mel</td>\n      <td>histo</td>\n      <td>70.0</td>\n      <td>female</td>\n      <td>back</td>\n    </tr>\n  </tbody>\n</table>\n<p>10015 rows × 7 columns</p>\n</div>"
     },
     "execution_count": 8,
     "metadata": {},
     "output_type": "execute_result"
    }
   ],
   "source": [
    " csv_1=pd.read_csv(r\"C:\\Users\\Pratik Giri\\OneDrive\\Desktop\\HAM10000_metadata.csv\")\n",
    " csv_1"
   ],
   "metadata": {
    "collapsed": false,
    "ExecuteTime": {
     "end_time": "2025-03-14T19:45:54.720248Z",
     "start_time": "2025-03-14T19:45:54.687934Z"
    }
   },
   "id": "26a0f0bc56c2b3c",
   "execution_count": 8
  },
  {
   "cell_type": "code",
   "outputs": [],
   "source": [
    "# INTERPOLATE"
   ],
   "metadata": {
    "collapsed": false,
    "ExecuteTime": {
     "end_time": "2025-03-14T19:45:54.726085Z",
     "start_time": "2025-03-14T19:45:54.722444Z"
    }
   },
   "id": "9ce62d48fb7afb1e",
   "execution_count": 9
  },
  {
   "cell_type": "code",
   "outputs": [
    {
     "name": "stderr",
     "output_type": "stream",
     "text": [
      "C:\\Users\\Pratik Giri\\AppData\\Local\\Temp\\ipykernel_2448\\4135698201.py:1: FutureWarning: DataFrame.interpolate with object dtype is deprecated and will raise in a future version. Call obj.infer_objects(copy=False) before interpolating instead.\n",
      "  csv_1.interpolate(limit=2)\n"
     ]
    },
    {
     "data": {
      "text/plain": "         lesion_id      image_id     dx dx_type   age     sex localization\n0              NaN           NaN    NaN     NaN   NaN     NaN          NaN\n1      HAM_0000118  ISIC_0025030    bkl   histo  80.0    male        scalp\n2      HAM_0002730  ISIC_0026769    bkl   histo  80.0    male        scalp\n3              NaN  ISIC_0025661    bkl   histo  80.0    male        scalp\n4      HAM_0001466  ISIC_0031633    bkl     NaN  75.0    male          ear\n...            ...           ...    ...     ...   ...     ...          ...\n10010  HAM_0002867  ISIC_0033084  akiec   histo  40.0    male      abdomen\n10011  HAM_0002867  ISIC_0033550  akiec   histo  40.0    male      abdomen\n10012  HAM_0002867  ISIC_0033536  akiec   histo  40.0    male      abdomen\n10013  HAM_0000239  ISIC_0032854  akiec   histo  80.0    male         face\n10014  HAM_0003521  ISIC_0032258    mel   histo  70.0  female         back\n\n[10015 rows x 7 columns]",
      "text/html": "<div>\n<style scoped>\n    .dataframe tbody tr th:only-of-type {\n        vertical-align: middle;\n    }\n\n    .dataframe tbody tr th {\n        vertical-align: top;\n    }\n\n    .dataframe thead th {\n        text-align: right;\n    }\n</style>\n<table border=\"1\" class=\"dataframe\">\n  <thead>\n    <tr style=\"text-align: right;\">\n      <th></th>\n      <th>lesion_id</th>\n      <th>image_id</th>\n      <th>dx</th>\n      <th>dx_type</th>\n      <th>age</th>\n      <th>sex</th>\n      <th>localization</th>\n    </tr>\n  </thead>\n  <tbody>\n    <tr>\n      <th>0</th>\n      <td>NaN</td>\n      <td>NaN</td>\n      <td>NaN</td>\n      <td>NaN</td>\n      <td>NaN</td>\n      <td>NaN</td>\n      <td>NaN</td>\n    </tr>\n    <tr>\n      <th>1</th>\n      <td>HAM_0000118</td>\n      <td>ISIC_0025030</td>\n      <td>bkl</td>\n      <td>histo</td>\n      <td>80.0</td>\n      <td>male</td>\n      <td>scalp</td>\n    </tr>\n    <tr>\n      <th>2</th>\n      <td>HAM_0002730</td>\n      <td>ISIC_0026769</td>\n      <td>bkl</td>\n      <td>histo</td>\n      <td>80.0</td>\n      <td>male</td>\n      <td>scalp</td>\n    </tr>\n    <tr>\n      <th>3</th>\n      <td>NaN</td>\n      <td>ISIC_0025661</td>\n      <td>bkl</td>\n      <td>histo</td>\n      <td>80.0</td>\n      <td>male</td>\n      <td>scalp</td>\n    </tr>\n    <tr>\n      <th>4</th>\n      <td>HAM_0001466</td>\n      <td>ISIC_0031633</td>\n      <td>bkl</td>\n      <td>NaN</td>\n      <td>75.0</td>\n      <td>male</td>\n      <td>ear</td>\n    </tr>\n    <tr>\n      <th>...</th>\n      <td>...</td>\n      <td>...</td>\n      <td>...</td>\n      <td>...</td>\n      <td>...</td>\n      <td>...</td>\n      <td>...</td>\n    </tr>\n    <tr>\n      <th>10010</th>\n      <td>HAM_0002867</td>\n      <td>ISIC_0033084</td>\n      <td>akiec</td>\n      <td>histo</td>\n      <td>40.0</td>\n      <td>male</td>\n      <td>abdomen</td>\n    </tr>\n    <tr>\n      <th>10011</th>\n      <td>HAM_0002867</td>\n      <td>ISIC_0033550</td>\n      <td>akiec</td>\n      <td>histo</td>\n      <td>40.0</td>\n      <td>male</td>\n      <td>abdomen</td>\n    </tr>\n    <tr>\n      <th>10012</th>\n      <td>HAM_0002867</td>\n      <td>ISIC_0033536</td>\n      <td>akiec</td>\n      <td>histo</td>\n      <td>40.0</td>\n      <td>male</td>\n      <td>abdomen</td>\n    </tr>\n    <tr>\n      <th>10013</th>\n      <td>HAM_0000239</td>\n      <td>ISIC_0032854</td>\n      <td>akiec</td>\n      <td>histo</td>\n      <td>80.0</td>\n      <td>male</td>\n      <td>face</td>\n    </tr>\n    <tr>\n      <th>10014</th>\n      <td>HAM_0003521</td>\n      <td>ISIC_0032258</td>\n      <td>mel</td>\n      <td>histo</td>\n      <td>70.0</td>\n      <td>female</td>\n      <td>back</td>\n    </tr>\n  </tbody>\n</table>\n<p>10015 rows × 7 columns</p>\n</div>"
     },
     "execution_count": 10,
     "metadata": {},
     "output_type": "execute_result"
    }
   ],
   "source": [
    "csv_1.interpolate(limit=2)"
   ],
   "metadata": {
    "collapsed": false,
    "ExecuteTime": {
     "end_time": "2025-03-14T19:45:54.742674Z",
     "start_time": "2025-03-14T19:45:54.728306Z"
    }
   },
   "id": "60fbadaa13359faf",
   "execution_count": 10
  },
  {
   "cell_type": "code",
   "outputs": [
    {
     "name": "stderr",
     "output_type": "stream",
     "text": [
      "C:\\Users\\Pratik Giri\\AppData\\Local\\Temp\\ipykernel_2448\\1494102089.py:1: FutureWarning: DataFrame.interpolate with object dtype is deprecated and will raise in a future version. Call obj.infer_objects(copy=False) before interpolating instead.\n",
      "  csv_1.interpolate(implce=True)\n"
     ]
    },
    {
     "data": {
      "text/plain": "         lesion_id      image_id     dx dx_type   age     sex localization\n0              NaN           NaN    NaN     NaN   NaN     NaN          NaN\n1      HAM_0000118  ISIC_0025030    bkl   histo  80.0    male        scalp\n2      HAM_0002730  ISIC_0026769    bkl   histo  80.0    male        scalp\n3              NaN  ISIC_0025661    bkl   histo  80.0    male        scalp\n4      HAM_0001466  ISIC_0031633    bkl     NaN  75.0    male          ear\n...            ...           ...    ...     ...   ...     ...          ...\n10010  HAM_0002867  ISIC_0033084  akiec   histo  40.0    male      abdomen\n10011  HAM_0002867  ISIC_0033550  akiec   histo  40.0    male      abdomen\n10012  HAM_0002867  ISIC_0033536  akiec   histo  40.0    male      abdomen\n10013  HAM_0000239  ISIC_0032854  akiec   histo  80.0    male         face\n10014  HAM_0003521  ISIC_0032258    mel   histo  70.0  female         back\n\n[10015 rows x 7 columns]",
      "text/html": "<div>\n<style scoped>\n    .dataframe tbody tr th:only-of-type {\n        vertical-align: middle;\n    }\n\n    .dataframe tbody tr th {\n        vertical-align: top;\n    }\n\n    .dataframe thead th {\n        text-align: right;\n    }\n</style>\n<table border=\"1\" class=\"dataframe\">\n  <thead>\n    <tr style=\"text-align: right;\">\n      <th></th>\n      <th>lesion_id</th>\n      <th>image_id</th>\n      <th>dx</th>\n      <th>dx_type</th>\n      <th>age</th>\n      <th>sex</th>\n      <th>localization</th>\n    </tr>\n  </thead>\n  <tbody>\n    <tr>\n      <th>0</th>\n      <td>NaN</td>\n      <td>NaN</td>\n      <td>NaN</td>\n      <td>NaN</td>\n      <td>NaN</td>\n      <td>NaN</td>\n      <td>NaN</td>\n    </tr>\n    <tr>\n      <th>1</th>\n      <td>HAM_0000118</td>\n      <td>ISIC_0025030</td>\n      <td>bkl</td>\n      <td>histo</td>\n      <td>80.0</td>\n      <td>male</td>\n      <td>scalp</td>\n    </tr>\n    <tr>\n      <th>2</th>\n      <td>HAM_0002730</td>\n      <td>ISIC_0026769</td>\n      <td>bkl</td>\n      <td>histo</td>\n      <td>80.0</td>\n      <td>male</td>\n      <td>scalp</td>\n    </tr>\n    <tr>\n      <th>3</th>\n      <td>NaN</td>\n      <td>ISIC_0025661</td>\n      <td>bkl</td>\n      <td>histo</td>\n      <td>80.0</td>\n      <td>male</td>\n      <td>scalp</td>\n    </tr>\n    <tr>\n      <th>4</th>\n      <td>HAM_0001466</td>\n      <td>ISIC_0031633</td>\n      <td>bkl</td>\n      <td>NaN</td>\n      <td>75.0</td>\n      <td>male</td>\n      <td>ear</td>\n    </tr>\n    <tr>\n      <th>...</th>\n      <td>...</td>\n      <td>...</td>\n      <td>...</td>\n      <td>...</td>\n      <td>...</td>\n      <td>...</td>\n      <td>...</td>\n    </tr>\n    <tr>\n      <th>10010</th>\n      <td>HAM_0002867</td>\n      <td>ISIC_0033084</td>\n      <td>akiec</td>\n      <td>histo</td>\n      <td>40.0</td>\n      <td>male</td>\n      <td>abdomen</td>\n    </tr>\n    <tr>\n      <th>10011</th>\n      <td>HAM_0002867</td>\n      <td>ISIC_0033550</td>\n      <td>akiec</td>\n      <td>histo</td>\n      <td>40.0</td>\n      <td>male</td>\n      <td>abdomen</td>\n    </tr>\n    <tr>\n      <th>10012</th>\n      <td>HAM_0002867</td>\n      <td>ISIC_0033536</td>\n      <td>akiec</td>\n      <td>histo</td>\n      <td>40.0</td>\n      <td>male</td>\n      <td>abdomen</td>\n    </tr>\n    <tr>\n      <th>10013</th>\n      <td>HAM_0000239</td>\n      <td>ISIC_0032854</td>\n      <td>akiec</td>\n      <td>histo</td>\n      <td>80.0</td>\n      <td>male</td>\n      <td>face</td>\n    </tr>\n    <tr>\n      <th>10014</th>\n      <td>HAM_0003521</td>\n      <td>ISIC_0032258</td>\n      <td>mel</td>\n      <td>histo</td>\n      <td>70.0</td>\n      <td>female</td>\n      <td>back</td>\n    </tr>\n  </tbody>\n</table>\n<p>10015 rows × 7 columns</p>\n</div>"
     },
     "execution_count": 11,
     "metadata": {},
     "output_type": "execute_result"
    }
   ],
   "source": [
    "csv_1.interpolate(implce=True)"
   ],
   "metadata": {
    "collapsed": false,
    "ExecuteTime": {
     "end_time": "2025-03-14T19:45:54.758769Z",
     "start_time": "2025-03-14T19:45:54.743728Z"
    }
   },
   "id": "edc2916cd0a3fb37",
   "execution_count": 11
  },
  {
   "cell_type": "code",
   "outputs": [
    {
     "data": {
      "text/plain": "         lesion_id      image_id     dx dx_type   age     sex localization\n0              NaN           NaN    NaN     NaN   NaN     NaN          NaN\n1      HAM_0000118  ISIC_0025030    bkl   histo  80.0    male        scalp\n2      HAM_0002730  ISIC_0026769    bkl   histo  80.0    male        scalp\n3              NaN  ISIC_0025661    bkl   histo  80.0    male        scalp\n4      HAM_0001466  ISIC_0031633    bkl     NaN  75.0    male          ear\n...            ...           ...    ...     ...   ...     ...          ...\n10010  HAM_0002867  ISIC_0033084  akiec   histo  40.0    male      abdomen\n10011  HAM_0002867  ISIC_0033550  akiec   histo  40.0    male      abdomen\n10012  HAM_0002867  ISIC_0033536  akiec   histo  40.0    male      abdomen\n10013  HAM_0000239  ISIC_0032854  akiec   histo  80.0    male         face\n10014  HAM_0003521  ISIC_0032258    mel   histo  70.0  female         back\n\n[10015 rows x 7 columns]",
      "text/html": "<div>\n<style scoped>\n    .dataframe tbody tr th:only-of-type {\n        vertical-align: middle;\n    }\n\n    .dataframe tbody tr th {\n        vertical-align: top;\n    }\n\n    .dataframe thead th {\n        text-align: right;\n    }\n</style>\n<table border=\"1\" class=\"dataframe\">\n  <thead>\n    <tr style=\"text-align: right;\">\n      <th></th>\n      <th>lesion_id</th>\n      <th>image_id</th>\n      <th>dx</th>\n      <th>dx_type</th>\n      <th>age</th>\n      <th>sex</th>\n      <th>localization</th>\n    </tr>\n  </thead>\n  <tbody>\n    <tr>\n      <th>0</th>\n      <td>NaN</td>\n      <td>NaN</td>\n      <td>NaN</td>\n      <td>NaN</td>\n      <td>NaN</td>\n      <td>NaN</td>\n      <td>NaN</td>\n    </tr>\n    <tr>\n      <th>1</th>\n      <td>HAM_0000118</td>\n      <td>ISIC_0025030</td>\n      <td>bkl</td>\n      <td>histo</td>\n      <td>80.0</td>\n      <td>male</td>\n      <td>scalp</td>\n    </tr>\n    <tr>\n      <th>2</th>\n      <td>HAM_0002730</td>\n      <td>ISIC_0026769</td>\n      <td>bkl</td>\n      <td>histo</td>\n      <td>80.0</td>\n      <td>male</td>\n      <td>scalp</td>\n    </tr>\n    <tr>\n      <th>3</th>\n      <td>NaN</td>\n      <td>ISIC_0025661</td>\n      <td>bkl</td>\n      <td>histo</td>\n      <td>80.0</td>\n      <td>male</td>\n      <td>scalp</td>\n    </tr>\n    <tr>\n      <th>4</th>\n      <td>HAM_0001466</td>\n      <td>ISIC_0031633</td>\n      <td>bkl</td>\n      <td>NaN</td>\n      <td>75.0</td>\n      <td>male</td>\n      <td>ear</td>\n    </tr>\n    <tr>\n      <th>...</th>\n      <td>...</td>\n      <td>...</td>\n      <td>...</td>\n      <td>...</td>\n      <td>...</td>\n      <td>...</td>\n      <td>...</td>\n    </tr>\n    <tr>\n      <th>10010</th>\n      <td>HAM_0002867</td>\n      <td>ISIC_0033084</td>\n      <td>akiec</td>\n      <td>histo</td>\n      <td>40.0</td>\n      <td>male</td>\n      <td>abdomen</td>\n    </tr>\n    <tr>\n      <th>10011</th>\n      <td>HAM_0002867</td>\n      <td>ISIC_0033550</td>\n      <td>akiec</td>\n      <td>histo</td>\n      <td>40.0</td>\n      <td>male</td>\n      <td>abdomen</td>\n    </tr>\n    <tr>\n      <th>10012</th>\n      <td>HAM_0002867</td>\n      <td>ISIC_0033536</td>\n      <td>akiec</td>\n      <td>histo</td>\n      <td>40.0</td>\n      <td>male</td>\n      <td>abdomen</td>\n    </tr>\n    <tr>\n      <th>10013</th>\n      <td>HAM_0000239</td>\n      <td>ISIC_0032854</td>\n      <td>akiec</td>\n      <td>histo</td>\n      <td>80.0</td>\n      <td>male</td>\n      <td>face</td>\n    </tr>\n    <tr>\n      <th>10014</th>\n      <td>HAM_0003521</td>\n      <td>ISIC_0032258</td>\n      <td>mel</td>\n      <td>histo</td>\n      <td>70.0</td>\n      <td>female</td>\n      <td>back</td>\n    </tr>\n  </tbody>\n</table>\n<p>10015 rows × 7 columns</p>\n</div>"
     },
     "execution_count": 12,
     "metadata": {},
     "output_type": "execute_result"
    }
   ],
   "source": [
    "csv_1"
   ],
   "metadata": {
    "collapsed": false,
    "ExecuteTime": {
     "end_time": "2025-03-14T19:45:54.772688Z",
     "start_time": "2025-03-14T19:45:54.760981Z"
    }
   },
   "id": "c24fc0fc58546b74",
   "execution_count": 12
  },
  {
   "cell_type": "code",
   "outputs": [],
   "source": [
    "# MERGE 2 DATAREAME"
   ],
   "metadata": {
    "collapsed": false,
    "ExecuteTime": {
     "end_time": "2025-03-14T19:45:54.778297Z",
     "start_time": "2025-03-14T19:45:54.774756Z"
    }
   },
   "id": "866c68f83139a2c3",
   "execution_count": 13
  },
  {
   "cell_type": "code",
   "outputs": [
    {
     "data": {
      "text/plain": "   A  B   C   D\n0  1  5   9  20\n1  2  6  10  30\n2  3  7  11  40\n3  4  8  12  50",
      "text/html": "<div>\n<style scoped>\n    .dataframe tbody tr th:only-of-type {\n        vertical-align: middle;\n    }\n\n    .dataframe tbody tr th {\n        vertical-align: top;\n    }\n\n    .dataframe thead th {\n        text-align: right;\n    }\n</style>\n<table border=\"1\" class=\"dataframe\">\n  <thead>\n    <tr style=\"text-align: right;\">\n      <th></th>\n      <th>A</th>\n      <th>B</th>\n      <th>C</th>\n      <th>D</th>\n    </tr>\n  </thead>\n  <tbody>\n    <tr>\n      <th>0</th>\n      <td>1</td>\n      <td>5</td>\n      <td>9</td>\n      <td>20</td>\n    </tr>\n    <tr>\n      <th>1</th>\n      <td>2</td>\n      <td>6</td>\n      <td>10</td>\n      <td>30</td>\n    </tr>\n    <tr>\n      <th>2</th>\n      <td>3</td>\n      <td>7</td>\n      <td>11</td>\n      <td>40</td>\n    </tr>\n    <tr>\n      <th>3</th>\n      <td>4</td>\n      <td>8</td>\n      <td>12</td>\n      <td>50</td>\n    </tr>\n  </tbody>\n</table>\n</div>"
     },
     "execution_count": 14,
     "metadata": {},
     "output_type": "execute_result"
    }
   ],
   "source": [
    "var1 = pd.DataFrame({'A':[1,2,3,4],'B':[5,6,7,8],'C':[9,10,11,12]})\n",
    "var2 = pd.DataFrame({'A':[1,2,3,4],'D':[20,30,40,50]})\n",
    "pd.merge(var1,var2)"
   ],
   "metadata": {
    "collapsed": false,
    "ExecuteTime": {
     "end_time": "2025-03-14T19:45:54.792148Z",
     "start_time": "2025-03-14T19:45:54.780451Z"
    }
   },
   "id": "ce4981de0333c942",
   "execution_count": 14
  },
  {
   "cell_type": "code",
   "outputs": [
    {
     "data": {
      "text/plain": "   A   D    B     C\n0  1  20  5.0   9.0\n1  2  30  6.0  10.0\n2  3  40  7.0  11.0\n3  5  50  NaN   NaN",
      "text/html": "<div>\n<style scoped>\n    .dataframe tbody tr th:only-of-type {\n        vertical-align: middle;\n    }\n\n    .dataframe tbody tr th {\n        vertical-align: top;\n    }\n\n    .dataframe thead th {\n        text-align: right;\n    }\n</style>\n<table border=\"1\" class=\"dataframe\">\n  <thead>\n    <tr style=\"text-align: right;\">\n      <th></th>\n      <th>A</th>\n      <th>D</th>\n      <th>B</th>\n      <th>C</th>\n    </tr>\n  </thead>\n  <tbody>\n    <tr>\n      <th>0</th>\n      <td>1</td>\n      <td>20</td>\n      <td>5.0</td>\n      <td>9.0</td>\n    </tr>\n    <tr>\n      <th>1</th>\n      <td>2</td>\n      <td>30</td>\n      <td>6.0</td>\n      <td>10.0</td>\n    </tr>\n    <tr>\n      <th>2</th>\n      <td>3</td>\n      <td>40</td>\n      <td>7.0</td>\n      <td>11.0</td>\n    </tr>\n    <tr>\n      <th>3</th>\n      <td>5</td>\n      <td>50</td>\n      <td>NaN</td>\n      <td>NaN</td>\n    </tr>\n  </tbody>\n</table>\n</div>"
     },
     "execution_count": 15,
     "metadata": {},
     "output_type": "execute_result"
    }
   ],
   "source": [
    "var1 = pd.DataFrame({'A':[1,2,3,4],'B':[5,6,7,8],'C':[9,10,11,12]})\n",
    "var2 = pd.DataFrame({'A':[1,2,3,5],'D':[20,30,40,50]})\n",
    "df=pd.merge(var2,var1,how='left')\n",
    "df"
   ],
   "metadata": {
    "collapsed": false,
    "ExecuteTime": {
     "end_time": "2025-03-14T19:45:54.807991Z",
     "start_time": "2025-03-14T19:45:54.793162Z"
    }
   },
   "id": "c68a7f2f1a7b3561",
   "execution_count": 15
  },
  {
   "cell_type": "code",
   "outputs": [
    {
     "data": {
      "text/plain": "   A     D  B   C\n0  1  20.0  5   9\n1  2  30.0  6  10\n2  3  40.0  7  11\n3  4   NaN  8  12",
      "text/html": "<div>\n<style scoped>\n    .dataframe tbody tr th:only-of-type {\n        vertical-align: middle;\n    }\n\n    .dataframe tbody tr th {\n        vertical-align: top;\n    }\n\n    .dataframe thead th {\n        text-align: right;\n    }\n</style>\n<table border=\"1\" class=\"dataframe\">\n  <thead>\n    <tr style=\"text-align: right;\">\n      <th></th>\n      <th>A</th>\n      <th>D</th>\n      <th>B</th>\n      <th>C</th>\n    </tr>\n  </thead>\n  <tbody>\n    <tr>\n      <th>0</th>\n      <td>1</td>\n      <td>20.0</td>\n      <td>5</td>\n      <td>9</td>\n    </tr>\n    <tr>\n      <th>1</th>\n      <td>2</td>\n      <td>30.0</td>\n      <td>6</td>\n      <td>10</td>\n    </tr>\n    <tr>\n      <th>2</th>\n      <td>3</td>\n      <td>40.0</td>\n      <td>7</td>\n      <td>11</td>\n    </tr>\n    <tr>\n      <th>3</th>\n      <td>4</td>\n      <td>NaN</td>\n      <td>8</td>\n      <td>12</td>\n    </tr>\n  </tbody>\n</table>\n</div>"
     },
     "execution_count": 16,
     "metadata": {},
     "output_type": "execute_result"
    }
   ],
   "source": [
    "var1 = pd.DataFrame({'A':[1,2,3,4],'B':[5,6,7,8],'C':[9,10,11,12]})\n",
    "var2 = pd.DataFrame({'A':[1,2,3,5],'D':[20,30,40,50]})\n",
    "df=pd.merge(var2,var1,how='right')\n",
    "df"
   ],
   "metadata": {
    "collapsed": false,
    "ExecuteTime": {
     "end_time": "2025-03-14T19:45:54.825286Z",
     "start_time": "2025-03-14T19:45:54.810095Z"
    }
   },
   "id": "2252447423b11a0f",
   "execution_count": 16
  },
  {
   "cell_type": "code",
   "outputs": [
    {
     "name": "stdout",
     "output_type": "stream",
     "text": [
      "<class 'pandas.core.frame.DataFrame'>\n",
      "RangeIndex: 10015 entries, 0 to 10014\n",
      "Data columns (total 7 columns):\n",
      " #   Column        Non-Null Count  Dtype  \n",
      "---  ------        --------------  -----  \n",
      " 0   lesion_id     10012 non-null  object \n",
      " 1   image_id      10013 non-null  object \n",
      " 2   dx            10011 non-null  object \n",
      " 3   dx_type       10008 non-null  object \n",
      " 4   age           9951 non-null   float64\n",
      " 5   sex           10012 non-null  object \n",
      " 6   localization  10010 non-null  object \n",
      "dtypes: float64(1), object(6)\n",
      "memory usage: 547.8+ KB\n"
     ]
    }
   ],
   "source": [
    "# information about the dataset\n",
    "\n",
    "\n",
    "csv_file =pd.read_csv(r\"E:\\basic python\\HAM10000_metadata.csv\")\n",
    "csv_file.info()"
   ],
   "metadata": {
    "collapsed": false,
    "ExecuteTime": {
     "end_time": "2025-03-14T19:45:54.884770Z",
     "start_time": "2025-03-14T19:45:54.826365Z"
    }
   },
   "id": "d5b6b7bb5723e610",
   "execution_count": 17
  },
  {
   "cell_type": "code",
   "outputs": [
    {
     "name": "stdout",
     "output_type": "stream",
     "text": [
      "sample data frame\n",
      "     Name  age  salary  performance level\n",
      "0  prtaik   20    1000                 10\n",
      "1     ram   30    2000                 20\n",
      "2   rohit   40    3000                 30\n",
      "3   mohit   50    4000                 40\n",
      "\n",
      "Discriptive Statistics\n",
      "             age       salary  performance level\n",
      "count   4.000000     4.000000           4.000000\n",
      "mean   35.000000  2500.000000          25.000000\n",
      "std    12.909944  1290.994449          12.909944\n",
      "min    20.000000  1000.000000          10.000000\n",
      "25%    27.500000  1750.000000          17.500000\n",
      "50%    35.000000  2500.000000          25.000000\n",
      "75%    42.500000  3250.000000          32.500000\n",
      "max    50.000000  4000.000000          40.000000\n"
     ]
    }
   ],
   "source": [
    "# Describe  statistics the data set\n",
    "\n",
    "\n",
    "data={\n",
    " 'Name':['prtaik','ram','rohit','mohit','pritam','ranit','akash'],\n",
    " 'age':[21,30,22,50,12,25,29],\n",
    " 'salary':[1045,2000,3000,4089,1235,7894,5601,],\n",
    " 'performance level':[36,26,37,40,12,45,89]\n",
    "}\n",
    "\n",
    "df = pd.DataFrame(data)\n",
    "print(\"sample data frame\")\n",
    "print(df)\n",
    "\n",
    "print()\n",
    "print(\"Discriptive Statistics\")\n",
    "print(df.describe())"
   ],
   "metadata": {
    "collapsed": false,
    "ExecuteTime": {
     "end_time": "2025-03-14T19:45:54.903772Z",
     "start_time": "2025-03-14T19:45:54.886936Z"
    }
   },
   "id": "8257bb4e0ee97325",
   "execution_count": 18
  },
  {
   "cell_type": "code",
   "outputs": [
    {
     "name": "stdout",
     "output_type": "stream",
     "text": [
      "<class 'pandas.core.frame.DataFrame'>\n",
      "RangeIndex: 10015 entries, 0 to 10014\n",
      "Data columns (total 7 columns):\n",
      " #   Column        Non-Null Count  Dtype  \n",
      "---  ------        --------------  -----  \n",
      " 0   lesion_id     10012 non-null  object \n",
      " 1   image_id      10013 non-null  object \n",
      " 2   dx            10011 non-null  object \n",
      " 3   dx_type       10008 non-null  object \n",
      " 4   age           9951 non-null   float64\n",
      " 5   sex           10012 non-null  object \n",
      " 6   localization  10010 non-null  object \n",
      "dtypes: float64(1), object(6)\n",
      "memory usage: 547.8+ KB\n"
     ]
    }
   ],
   "source": [
    "# HANDELLINH MISSING DATA\n",
    "csv_file =pd.read_csv(r\"E:\\basic python\\HAM10000_metadata.csv\")\n",
    "csv_file.info()\n",
    "\n",
    "\n"
   ],
   "metadata": {
    "collapsed": false,
    "ExecuteTime": {
     "end_time": "2025-03-14T20:00:34.217727Z",
     "start_time": "2025-03-14T20:00:34.183220Z"
    }
   },
   "id": "52fd8c49ce3bfca0",
   "execution_count": 23
  },
  {
   "cell_type": "code",
   "outputs": [
    {
     "name": "stdout",
     "output_type": "stream",
     "text": [
      "0        NaN\n",
      "1       80.0\n",
      "4       75.0\n",
      "6       60.0\n",
      "8       70.0\n",
      "10      55.0\n",
      "15      65.0\n",
      "26      40.0\n",
      "35      85.0\n",
      "43      50.0\n",
      "53      45.0\n",
      "86      35.0\n",
      "117      0.0\n",
      "479     30.0\n",
      "1035     5.0\n",
      "1165    25.0\n",
      "1800    20.0\n",
      "2326    10.0\n",
      "2332    15.0\n",
      "Name: age, dtype: float64\n"
     ]
    },
    {
     "data": {
      "text/plain": "         lesion_id      image_id     dx dx_type   age     sex localization\n0      HAM_0000118           NaN    NaN     NaN   NaN     NaN          NaN\n1      HAM_0000118  ISIC_0025030    bkl   histo  80.0    male        scalp\n2      HAM_0002730  ISIC_0026769    bkl   histo  80.0    male        scalp\n3      HAM_0002730  ISIC_0025661    bkl     NaN  80.0    male        scalp\n4      HAM_0001466  ISIC_0031633    bkl   histo  75.0    male          NaN\n...            ...           ...    ...     ...   ...     ...          ...\n10010  HAM_0002867  ISIC_0033084  akiec   histo  40.0    male      abdomen\n10011  HAM_0002867  ISIC_0033550  akiec   histo  40.0    male      abdomen\n10012  HAM_0002867  ISIC_0033536  akiec   histo  40.0    male      abdomen\n10013  HAM_0000239  ISIC_0032854  akiec   histo  80.0    male         face\n10014  HAM_0003521  ISIC_0032258    mel   histo  70.0  female         back\n\n[10015 rows x 7 columns]",
      "text/html": "<div>\n<style scoped>\n    .dataframe tbody tr th:only-of-type {\n        vertical-align: middle;\n    }\n\n    .dataframe tbody tr th {\n        vertical-align: top;\n    }\n\n    .dataframe thead th {\n        text-align: right;\n    }\n</style>\n<table border=\"1\" class=\"dataframe\">\n  <thead>\n    <tr style=\"text-align: right;\">\n      <th></th>\n      <th>lesion_id</th>\n      <th>image_id</th>\n      <th>dx</th>\n      <th>dx_type</th>\n      <th>age</th>\n      <th>sex</th>\n      <th>localization</th>\n    </tr>\n  </thead>\n  <tbody>\n    <tr>\n      <th>0</th>\n      <td>HAM_0000118</td>\n      <td>NaN</td>\n      <td>NaN</td>\n      <td>NaN</td>\n      <td>NaN</td>\n      <td>NaN</td>\n      <td>NaN</td>\n    </tr>\n    <tr>\n      <th>1</th>\n      <td>HAM_0000118</td>\n      <td>ISIC_0025030</td>\n      <td>bkl</td>\n      <td>histo</td>\n      <td>80.0</td>\n      <td>male</td>\n      <td>scalp</td>\n    </tr>\n    <tr>\n      <th>2</th>\n      <td>HAM_0002730</td>\n      <td>ISIC_0026769</td>\n      <td>bkl</td>\n      <td>histo</td>\n      <td>80.0</td>\n      <td>male</td>\n      <td>scalp</td>\n    </tr>\n    <tr>\n      <th>3</th>\n      <td>HAM_0002730</td>\n      <td>ISIC_0025661</td>\n      <td>bkl</td>\n      <td>NaN</td>\n      <td>80.0</td>\n      <td>male</td>\n      <td>scalp</td>\n    </tr>\n    <tr>\n      <th>4</th>\n      <td>HAM_0001466</td>\n      <td>ISIC_0031633</td>\n      <td>bkl</td>\n      <td>histo</td>\n      <td>75.0</td>\n      <td>male</td>\n      <td>NaN</td>\n    </tr>\n    <tr>\n      <th>...</th>\n      <td>...</td>\n      <td>...</td>\n      <td>...</td>\n      <td>...</td>\n      <td>...</td>\n      <td>...</td>\n      <td>...</td>\n    </tr>\n    <tr>\n      <th>10010</th>\n      <td>HAM_0002867</td>\n      <td>ISIC_0033084</td>\n      <td>akiec</td>\n      <td>histo</td>\n      <td>40.0</td>\n      <td>male</td>\n      <td>abdomen</td>\n    </tr>\n    <tr>\n      <th>10011</th>\n      <td>HAM_0002867</td>\n      <td>ISIC_0033550</td>\n      <td>akiec</td>\n      <td>histo</td>\n      <td>40.0</td>\n      <td>male</td>\n      <td>abdomen</td>\n    </tr>\n    <tr>\n      <th>10012</th>\n      <td>HAM_0002867</td>\n      <td>ISIC_0033536</td>\n      <td>akiec</td>\n      <td>histo</td>\n      <td>40.0</td>\n      <td>male</td>\n      <td>abdomen</td>\n    </tr>\n    <tr>\n      <th>10013</th>\n      <td>HAM_0000239</td>\n      <td>ISIC_0032854</td>\n      <td>akiec</td>\n      <td>histo</td>\n      <td>80.0</td>\n      <td>male</td>\n      <td>face</td>\n    </tr>\n    <tr>\n      <th>10014</th>\n      <td>HAM_0003521</td>\n      <td>ISIC_0032258</td>\n      <td>mel</td>\n      <td>histo</td>\n      <td>70.0</td>\n      <td>female</td>\n      <td>back</td>\n    </tr>\n  </tbody>\n</table>\n<p>10015 rows × 7 columns</p>\n</div>"
     },
     "execution_count": 28,
     "metadata": {},
     "output_type": "execute_result"
    }
   ],
   "source": [
    "# delete duplicates from a specific column\n",
    "\n",
    "result=csv_file['age'].drop_duplicates()\n",
    "print(result)\n",
    "print()\n",
    "csv_file\n"
   ],
   "metadata": {
    "collapsed": false,
    "ExecuteTime": {
     "end_time": "2025-03-14T20:04:27.378987Z",
     "start_time": "2025-03-14T20:04:27.362285Z"
    }
   },
   "id": "756960aa2c0037ff",
   "execution_count": 28
  },
  {
   "cell_type": "code",
   "outputs": [
    {
     "name": "stdout",
     "output_type": "stream",
     "text": [
      "mean value if the dataset :  51.84956285800422\n"
     ]
    }
   ],
   "source": [
    "x=csv_file['age'].mean()\n",
    "print(\"mean value if the dataset : \",x)"
   ],
   "metadata": {
    "collapsed": false,
    "ExecuteTime": {
     "end_time": "2025-03-14T20:06:40.085197Z",
     "start_time": "2025-03-14T20:06:40.079230Z"
    }
   },
   "id": "726fd21946ce7546",
   "execution_count": 30
  },
  {
   "cell_type": "code",
   "outputs": [
    {
     "data": {
      "text/plain": "         lesion_id      image_id     dx dx_type        age     sex  \\\n0      HAM_0000118           NaN    NaN     NaN  51.849563     NaN   \n1      HAM_0000118  ISIC_0025030    bkl   histo  80.000000    male   \n2      HAM_0002730  ISIC_0026769    bkl   histo  80.000000    male   \n3      HAM_0002730  ISIC_0025661    bkl     NaN  80.000000    male   \n4      HAM_0001466  ISIC_0031633    bkl   histo  75.000000    male   \n...            ...           ...    ...     ...        ...     ...   \n10010  HAM_0002867  ISIC_0033084  akiec   histo  40.000000    male   \n10011  HAM_0002867  ISIC_0033550  akiec   histo  40.000000    male   \n10012  HAM_0002867  ISIC_0033536  akiec   histo  40.000000    male   \n10013  HAM_0000239  ISIC_0032854  akiec   histo  80.000000    male   \n10014  HAM_0003521  ISIC_0032258    mel   histo  70.000000  female   \n\n      localization  \n0              NaN  \n1            scalp  \n2            scalp  \n3            scalp  \n4              NaN  \n...            ...  \n10010      abdomen  \n10011      abdomen  \n10012      abdomen  \n10013         face  \n10014         back  \n\n[10015 rows x 7 columns]",
      "text/html": "<div>\n<style scoped>\n    .dataframe tbody tr th:only-of-type {\n        vertical-align: middle;\n    }\n\n    .dataframe tbody tr th {\n        vertical-align: top;\n    }\n\n    .dataframe thead th {\n        text-align: right;\n    }\n</style>\n<table border=\"1\" class=\"dataframe\">\n  <thead>\n    <tr style=\"text-align: right;\">\n      <th></th>\n      <th>lesion_id</th>\n      <th>image_id</th>\n      <th>dx</th>\n      <th>dx_type</th>\n      <th>age</th>\n      <th>sex</th>\n      <th>localization</th>\n    </tr>\n  </thead>\n  <tbody>\n    <tr>\n      <th>0</th>\n      <td>HAM_0000118</td>\n      <td>NaN</td>\n      <td>NaN</td>\n      <td>NaN</td>\n      <td>51.849563</td>\n      <td>NaN</td>\n      <td>NaN</td>\n    </tr>\n    <tr>\n      <th>1</th>\n      <td>HAM_0000118</td>\n      <td>ISIC_0025030</td>\n      <td>bkl</td>\n      <td>histo</td>\n      <td>80.000000</td>\n      <td>male</td>\n      <td>scalp</td>\n    </tr>\n    <tr>\n      <th>2</th>\n      <td>HAM_0002730</td>\n      <td>ISIC_0026769</td>\n      <td>bkl</td>\n      <td>histo</td>\n      <td>80.000000</td>\n      <td>male</td>\n      <td>scalp</td>\n    </tr>\n    <tr>\n      <th>3</th>\n      <td>HAM_0002730</td>\n      <td>ISIC_0025661</td>\n      <td>bkl</td>\n      <td>NaN</td>\n      <td>80.000000</td>\n      <td>male</td>\n      <td>scalp</td>\n    </tr>\n    <tr>\n      <th>4</th>\n      <td>HAM_0001466</td>\n      <td>ISIC_0031633</td>\n      <td>bkl</td>\n      <td>histo</td>\n      <td>75.000000</td>\n      <td>male</td>\n      <td>NaN</td>\n    </tr>\n    <tr>\n      <th>...</th>\n      <td>...</td>\n      <td>...</td>\n      <td>...</td>\n      <td>...</td>\n      <td>...</td>\n      <td>...</td>\n      <td>...</td>\n    </tr>\n    <tr>\n      <th>10010</th>\n      <td>HAM_0002867</td>\n      <td>ISIC_0033084</td>\n      <td>akiec</td>\n      <td>histo</td>\n      <td>40.000000</td>\n      <td>male</td>\n      <td>abdomen</td>\n    </tr>\n    <tr>\n      <th>10011</th>\n      <td>HAM_0002867</td>\n      <td>ISIC_0033550</td>\n      <td>akiec</td>\n      <td>histo</td>\n      <td>40.000000</td>\n      <td>male</td>\n      <td>abdomen</td>\n    </tr>\n    <tr>\n      <th>10012</th>\n      <td>HAM_0002867</td>\n      <td>ISIC_0033536</td>\n      <td>akiec</td>\n      <td>histo</td>\n      <td>40.000000</td>\n      <td>male</td>\n      <td>abdomen</td>\n    </tr>\n    <tr>\n      <th>10013</th>\n      <td>HAM_0000239</td>\n      <td>ISIC_0032854</td>\n      <td>akiec</td>\n      <td>histo</td>\n      <td>80.000000</td>\n      <td>male</td>\n      <td>face</td>\n    </tr>\n    <tr>\n      <th>10014</th>\n      <td>HAM_0003521</td>\n      <td>ISIC_0032258</td>\n      <td>mel</td>\n      <td>histo</td>\n      <td>70.000000</td>\n      <td>female</td>\n      <td>back</td>\n    </tr>\n  </tbody>\n</table>\n<p>10015 rows × 7 columns</p>\n</div>"
     },
     "execution_count": 35,
     "metadata": {},
     "output_type": "execute_result"
    }
   ],
   "source": [
    "# NULL VALUES REPLACE BY THAT COLUMN Mean or median or mode value \n",
    "\n",
    "csv_file['age']=csv_file['age'].fillna(x)\n",
    "csv_file\n"
   ],
   "metadata": {
    "collapsed": false,
    "ExecuteTime": {
     "end_time": "2025-03-14T20:10:33.460365Z",
     "start_time": "2025-03-14T20:10:33.448382Z"
    }
   },
   "id": "90cde95476426979",
   "execution_count": 35
  },
  {
   "cell_type": "code",
   "outputs": [],
   "source": [
    "# FIXING WRONG DATA--------LET consider 'age ' should below 75 years \n",
    "\n"
   ],
   "metadata": {
    "collapsed": false
   },
   "id": "a41c3efa28d097e2"
  },
  {
   "cell_type": "code",
   "outputs": [],
   "source": [],
   "metadata": {
    "collapsed": false
   },
   "id": "eea4cdc50722954e"
  }
 ],
 "metadata": {
  "kernelspec": {
   "display_name": "Python 3",
   "language": "python",
   "name": "python3"
  },
  "language_info": {
   "codemirror_mode": {
    "name": "ipython",
    "version": 2
   },
   "file_extension": ".py",
   "mimetype": "text/x-python",
   "name": "python",
   "nbconvert_exporter": "python",
   "pygments_lexer": "ipython2",
   "version": "2.7.6"
  }
 },
 "nbformat": 4,
 "nbformat_minor": 5
}
