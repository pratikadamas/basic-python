{
 "cells": [
  {
   "cell_type": "code",
   "outputs": [
    {
     "data": {
      "text/plain": "         lesion_id      image_id     dx dx_type   age     sex localization\n0      HAM_0000118  ISIC_0027419    bkl   histo  80.0    male        scalp\n1      HAM_0000118  ISIC_0025030    bkl   histo  80.0    male        scalp\n2      HAM_0002730  ISIC_0026769    bkl   histo  80.0    male        scalp\n3      HAM_0002730  ISIC_0025661    bkl   histo  80.0    male        scalp\n4      HAM_0001466  ISIC_0031633    bkl   histo  75.0    male          ear\n...            ...           ...    ...     ...   ...     ...          ...\n10010  HAM_0002867  ISIC_0033084  akiec   histo  40.0    male      abdomen\n10011  HAM_0002867  ISIC_0033550  akiec   histo  40.0    male      abdomen\n10012  HAM_0002867  ISIC_0033536  akiec   histo  40.0    male      abdomen\n10013  HAM_0000239  ISIC_0032854  akiec   histo  80.0    male         face\n10014  HAM_0003521  ISIC_0032258    mel   histo  70.0  female         back\n\n[10015 rows x 7 columns]",
      "text/html": "<div>\n<style scoped>\n    .dataframe tbody tr th:only-of-type {\n        vertical-align: middle;\n    }\n\n    .dataframe tbody tr th {\n        vertical-align: top;\n    }\n\n    .dataframe thead th {\n        text-align: right;\n    }\n</style>\n<table border=\"1\" class=\"dataframe\">\n  <thead>\n    <tr style=\"text-align: right;\">\n      <th></th>\n      <th>lesion_id</th>\n      <th>image_id</th>\n      <th>dx</th>\n      <th>dx_type</th>\n      <th>age</th>\n      <th>sex</th>\n      <th>localization</th>\n    </tr>\n  </thead>\n  <tbody>\n    <tr>\n      <th>0</th>\n      <td>HAM_0000118</td>\n      <td>ISIC_0027419</td>\n      <td>bkl</td>\n      <td>histo</td>\n      <td>80.0</td>\n      <td>male</td>\n      <td>scalp</td>\n    </tr>\n    <tr>\n      <th>1</th>\n      <td>HAM_0000118</td>\n      <td>ISIC_0025030</td>\n      <td>bkl</td>\n      <td>histo</td>\n      <td>80.0</td>\n      <td>male</td>\n      <td>scalp</td>\n    </tr>\n    <tr>\n      <th>2</th>\n      <td>HAM_0002730</td>\n      <td>ISIC_0026769</td>\n      <td>bkl</td>\n      <td>histo</td>\n      <td>80.0</td>\n      <td>male</td>\n      <td>scalp</td>\n    </tr>\n    <tr>\n      <th>3</th>\n      <td>HAM_0002730</td>\n      <td>ISIC_0025661</td>\n      <td>bkl</td>\n      <td>histo</td>\n      <td>80.0</td>\n      <td>male</td>\n      <td>scalp</td>\n    </tr>\n    <tr>\n      <th>4</th>\n      <td>HAM_0001466</td>\n      <td>ISIC_0031633</td>\n      <td>bkl</td>\n      <td>histo</td>\n      <td>75.0</td>\n      <td>male</td>\n      <td>ear</td>\n    </tr>\n    <tr>\n      <th>...</th>\n      <td>...</td>\n      <td>...</td>\n      <td>...</td>\n      <td>...</td>\n      <td>...</td>\n      <td>...</td>\n      <td>...</td>\n    </tr>\n    <tr>\n      <th>10010</th>\n      <td>HAM_0002867</td>\n      <td>ISIC_0033084</td>\n      <td>akiec</td>\n      <td>histo</td>\n      <td>40.0</td>\n      <td>male</td>\n      <td>abdomen</td>\n    </tr>\n    <tr>\n      <th>10011</th>\n      <td>HAM_0002867</td>\n      <td>ISIC_0033550</td>\n      <td>akiec</td>\n      <td>histo</td>\n      <td>40.0</td>\n      <td>male</td>\n      <td>abdomen</td>\n    </tr>\n    <tr>\n      <th>10012</th>\n      <td>HAM_0002867</td>\n      <td>ISIC_0033536</td>\n      <td>akiec</td>\n      <td>histo</td>\n      <td>40.0</td>\n      <td>male</td>\n      <td>abdomen</td>\n    </tr>\n    <tr>\n      <th>10013</th>\n      <td>HAM_0000239</td>\n      <td>ISIC_0032854</td>\n      <td>akiec</td>\n      <td>histo</td>\n      <td>80.0</td>\n      <td>male</td>\n      <td>face</td>\n    </tr>\n    <tr>\n      <th>10014</th>\n      <td>HAM_0003521</td>\n      <td>ISIC_0032258</td>\n      <td>mel</td>\n      <td>histo</td>\n      <td>70.0</td>\n      <td>female</td>\n      <td>back</td>\n    </tr>\n  </tbody>\n</table>\n<p>10015 rows × 7 columns</p>\n</div>"
     },
     "execution_count": 6,
     "metadata": {},
     "output_type": "execute_result"
    }
   ],
   "source": [
    "import pandas as pd\n",
    "csv_file = pd.read_csv(r\"C:\\Users\\Pratik Giri\\OneDrive\\Desktop\\HAM10000_metadata.csv\")\n",
    "csv_file"
   ],
   "metadata": {
    "collapsed": true,
    "ExecuteTime": {
     "end_time": "2025-02-21T14:50:00.424934400Z",
     "start_time": "2025-02-21T14:50:00.392474600Z"
    }
   },
   "id": "initial_id",
   "execution_count": 6
  },
  {
   "cell_type": "code",
   "outputs": [
    {
     "data": {
      "text/plain": "     lesion_id      image_id   dx dx_type   age   sex localization\n0  HAM_0000118  ISIC_0027419  bkl   histo  80.0  male        scalp\n1  HAM_0000118  ISIC_0025030  bkl   histo  80.0  male        scalp\n2  HAM_0002730  ISIC_0026769  bkl   histo  80.0  male        scalp\n3  HAM_0002730  ISIC_0025661  bkl   histo  80.0  male        scalp\n4  HAM_0001466  ISIC_0031633  bkl   histo  75.0  male          ear",
      "text/html": "<div>\n<style scoped>\n    .dataframe tbody tr th:only-of-type {\n        vertical-align: middle;\n    }\n\n    .dataframe tbody tr th {\n        vertical-align: top;\n    }\n\n    .dataframe thead th {\n        text-align: right;\n    }\n</style>\n<table border=\"1\" class=\"dataframe\">\n  <thead>\n    <tr style=\"text-align: right;\">\n      <th></th>\n      <th>lesion_id</th>\n      <th>image_id</th>\n      <th>dx</th>\n      <th>dx_type</th>\n      <th>age</th>\n      <th>sex</th>\n      <th>localization</th>\n    </tr>\n  </thead>\n  <tbody>\n    <tr>\n      <th>0</th>\n      <td>HAM_0000118</td>\n      <td>ISIC_0027419</td>\n      <td>bkl</td>\n      <td>histo</td>\n      <td>80.0</td>\n      <td>male</td>\n      <td>scalp</td>\n    </tr>\n    <tr>\n      <th>1</th>\n      <td>HAM_0000118</td>\n      <td>ISIC_0025030</td>\n      <td>bkl</td>\n      <td>histo</td>\n      <td>80.0</td>\n      <td>male</td>\n      <td>scalp</td>\n    </tr>\n    <tr>\n      <th>2</th>\n      <td>HAM_0002730</td>\n      <td>ISIC_0026769</td>\n      <td>bkl</td>\n      <td>histo</td>\n      <td>80.0</td>\n      <td>male</td>\n      <td>scalp</td>\n    </tr>\n    <tr>\n      <th>3</th>\n      <td>HAM_0002730</td>\n      <td>ISIC_0025661</td>\n      <td>bkl</td>\n      <td>histo</td>\n      <td>80.0</td>\n      <td>male</td>\n      <td>scalp</td>\n    </tr>\n    <tr>\n      <th>4</th>\n      <td>HAM_0001466</td>\n      <td>ISIC_0031633</td>\n      <td>bkl</td>\n      <td>histo</td>\n      <td>75.0</td>\n      <td>male</td>\n      <td>ear</td>\n    </tr>\n  </tbody>\n</table>\n</div>"
     },
     "execution_count": 11,
     "metadata": {},
     "output_type": "execute_result"
    }
   ],
   "source": [
    "csv2=pd.read_csv(r\"C:\\Users\\Pratik Giri\\OneDrive\\Desktop\\HAM10000_metadata.csv\",nrows=5)\n",
    "csv2"
   ],
   "metadata": {
    "collapsed": false,
    "ExecuteTime": {
     "end_time": "2025-02-21T14:51:46.193372900Z",
     "start_time": "2025-02-21T14:51:46.165806100Z"
    }
   },
   "id": "8243dc1a9d589145",
   "execution_count": 11
  },
  {
   "cell_type": "code",
   "outputs": [
    {
     "data": {
      "text/plain": "           image_id   age\n0      ISIC_0027419  80.0\n1      ISIC_0025030  80.0\n2      ISIC_0026769  80.0\n3      ISIC_0025661  80.0\n4      ISIC_0031633  75.0\n...             ...   ...\n10010  ISIC_0033084  40.0\n10011  ISIC_0033550  40.0\n10012  ISIC_0033536  40.0\n10013  ISIC_0032854  80.0\n10014  ISIC_0032258  70.0\n\n[10015 rows x 2 columns]",
      "text/html": "<div>\n<style scoped>\n    .dataframe tbody tr th:only-of-type {\n        vertical-align: middle;\n    }\n\n    .dataframe tbody tr th {\n        vertical-align: top;\n    }\n\n    .dataframe thead th {\n        text-align: right;\n    }\n</style>\n<table border=\"1\" class=\"dataframe\">\n  <thead>\n    <tr style=\"text-align: right;\">\n      <th></th>\n      <th>image_id</th>\n      <th>age</th>\n    </tr>\n  </thead>\n  <tbody>\n    <tr>\n      <th>0</th>\n      <td>ISIC_0027419</td>\n      <td>80.0</td>\n    </tr>\n    <tr>\n      <th>1</th>\n      <td>ISIC_0025030</td>\n      <td>80.0</td>\n    </tr>\n    <tr>\n      <th>2</th>\n      <td>ISIC_0026769</td>\n      <td>80.0</td>\n    </tr>\n    <tr>\n      <th>3</th>\n      <td>ISIC_0025661</td>\n      <td>80.0</td>\n    </tr>\n    <tr>\n      <th>4</th>\n      <td>ISIC_0031633</td>\n      <td>75.0</td>\n    </tr>\n    <tr>\n      <th>...</th>\n      <td>...</td>\n      <td>...</td>\n    </tr>\n    <tr>\n      <th>10010</th>\n      <td>ISIC_0033084</td>\n      <td>40.0</td>\n    </tr>\n    <tr>\n      <th>10011</th>\n      <td>ISIC_0033550</td>\n      <td>40.0</td>\n    </tr>\n    <tr>\n      <th>10012</th>\n      <td>ISIC_0033536</td>\n      <td>40.0</td>\n    </tr>\n    <tr>\n      <th>10013</th>\n      <td>ISIC_0032854</td>\n      <td>80.0</td>\n    </tr>\n    <tr>\n      <th>10014</th>\n      <td>ISIC_0032258</td>\n      <td>70.0</td>\n    </tr>\n  </tbody>\n</table>\n<p>10015 rows × 2 columns</p>\n</div>"
     },
     "execution_count": 14,
     "metadata": {},
     "output_type": "execute_result"
    }
   ],
   "source": [
    "csv3=pd.read_csv(r\"C:\\Users\\Pratik Giri\\OneDrive\\Desktop\\HAM10000_metadata.csv\",usecols=[1,4])\n",
    "csv3"
   ],
   "metadata": {
    "collapsed": false,
    "ExecuteTime": {
     "end_time": "2025-02-21T15:13:07.814459400Z",
     "start_time": "2025-02-21T15:13:07.787493700Z"
    }
   },
   "id": "fab6f39d71d09cd8",
   "execution_count": 14
  },
  {
   "cell_type": "code",
   "outputs": [
    {
     "data": {
      "text/plain": "         lesion_id      image_id     dx dx_type   age     sex localization\n0      HAM_0000118  ISIC_0027419    bkl   histo  80.0    male        scalp\n1      HAM_0000118  ISIC_0025030    bkl   histo  80.0    male        scalp\n2      HAM_0002730  ISIC_0026769    bkl   histo  80.0    male        scalp\n3      HAM_0001466  ISIC_0027850    bkl   histo  75.0    male          ear\n4      HAM_0002761  ISIC_0029176    bkl   histo  60.0    male         face\n...            ...           ...    ...     ...   ...     ...          ...\n10008  HAM_0002867  ISIC_0033084  akiec   histo  40.0    male      abdomen\n10009  HAM_0002867  ISIC_0033550  akiec   histo  40.0    male      abdomen\n10010  HAM_0002867  ISIC_0033536  akiec   histo  40.0    male      abdomen\n10011  HAM_0000239  ISIC_0032854  akiec   histo  80.0    male         face\n10012  HAM_0003521  ISIC_0032258    mel   histo  70.0  female         back\n\n[10013 rows x 7 columns]",
      "text/html": "<div>\n<style scoped>\n    .dataframe tbody tr th:only-of-type {\n        vertical-align: middle;\n    }\n\n    .dataframe tbody tr th {\n        vertical-align: top;\n    }\n\n    .dataframe thead th {\n        text-align: right;\n    }\n</style>\n<table border=\"1\" class=\"dataframe\">\n  <thead>\n    <tr style=\"text-align: right;\">\n      <th></th>\n      <th>lesion_id</th>\n      <th>image_id</th>\n      <th>dx</th>\n      <th>dx_type</th>\n      <th>age</th>\n      <th>sex</th>\n      <th>localization</th>\n    </tr>\n  </thead>\n  <tbody>\n    <tr>\n      <th>0</th>\n      <td>HAM_0000118</td>\n      <td>ISIC_0027419</td>\n      <td>bkl</td>\n      <td>histo</td>\n      <td>80.0</td>\n      <td>male</td>\n      <td>scalp</td>\n    </tr>\n    <tr>\n      <th>1</th>\n      <td>HAM_0000118</td>\n      <td>ISIC_0025030</td>\n      <td>bkl</td>\n      <td>histo</td>\n      <td>80.0</td>\n      <td>male</td>\n      <td>scalp</td>\n    </tr>\n    <tr>\n      <th>2</th>\n      <td>HAM_0002730</td>\n      <td>ISIC_0026769</td>\n      <td>bkl</td>\n      <td>histo</td>\n      <td>80.0</td>\n      <td>male</td>\n      <td>scalp</td>\n    </tr>\n    <tr>\n      <th>3</th>\n      <td>HAM_0001466</td>\n      <td>ISIC_0027850</td>\n      <td>bkl</td>\n      <td>histo</td>\n      <td>75.0</td>\n      <td>male</td>\n      <td>ear</td>\n    </tr>\n    <tr>\n      <th>4</th>\n      <td>HAM_0002761</td>\n      <td>ISIC_0029176</td>\n      <td>bkl</td>\n      <td>histo</td>\n      <td>60.0</td>\n      <td>male</td>\n      <td>face</td>\n    </tr>\n    <tr>\n      <th>...</th>\n      <td>...</td>\n      <td>...</td>\n      <td>...</td>\n      <td>...</td>\n      <td>...</td>\n      <td>...</td>\n      <td>...</td>\n    </tr>\n    <tr>\n      <th>10008</th>\n      <td>HAM_0002867</td>\n      <td>ISIC_0033084</td>\n      <td>akiec</td>\n      <td>histo</td>\n      <td>40.0</td>\n      <td>male</td>\n      <td>abdomen</td>\n    </tr>\n    <tr>\n      <th>10009</th>\n      <td>HAM_0002867</td>\n      <td>ISIC_0033550</td>\n      <td>akiec</td>\n      <td>histo</td>\n      <td>40.0</td>\n      <td>male</td>\n      <td>abdomen</td>\n    </tr>\n    <tr>\n      <th>10010</th>\n      <td>HAM_0002867</td>\n      <td>ISIC_0033536</td>\n      <td>akiec</td>\n      <td>histo</td>\n      <td>40.0</td>\n      <td>male</td>\n      <td>abdomen</td>\n    </tr>\n    <tr>\n      <th>10011</th>\n      <td>HAM_0000239</td>\n      <td>ISIC_0032854</td>\n      <td>akiec</td>\n      <td>histo</td>\n      <td>80.0</td>\n      <td>male</td>\n      <td>face</td>\n    </tr>\n    <tr>\n      <th>10012</th>\n      <td>HAM_0003521</td>\n      <td>ISIC_0032258</td>\n      <td>mel</td>\n      <td>histo</td>\n      <td>70.0</td>\n      <td>female</td>\n      <td>back</td>\n    </tr>\n  </tbody>\n</table>\n<p>10013 rows × 7 columns</p>\n</div>"
     },
     "execution_count": 15,
     "metadata": {},
     "output_type": "execute_result"
    }
   ],
   "source": [
    "csv4=pd.read_csv(r\"C:\\Users\\Pratik Giri\\OneDrive\\Desktop\\HAM10000_metadata.csv\",skiprows=[5,4])\n",
    "csv4"
   ],
   "metadata": {
    "collapsed": false,
    "ExecuteTime": {
     "end_time": "2025-02-21T15:19:14.634268500Z",
     "start_time": "2025-02-21T15:19:14.603267400Z"
    }
   },
   "id": "4f344b23f36e5071",
   "execution_count": 15
  },
  {
   "cell_type": "code",
   "outputs": [
    {
     "data": {
      "text/plain": "                 0             1      2        3     4       5             6\n0        lesion_id      image_id     dx  dx_type   age     sex  localization\n1      HAM_0000118  ISIC_0027419    bkl    histo  80.0    male         scalp\n2      HAM_0000118  ISIC_0025030    bkl    histo  80.0    male         scalp\n3      HAM_0002730  ISIC_0026769    bkl    histo  80.0    male         scalp\n4      HAM_0002730  ISIC_0025661    bkl    histo  80.0    male         scalp\n...            ...           ...    ...      ...   ...     ...           ...\n10011  HAM_0002867  ISIC_0033084  akiec    histo  40.0    male       abdomen\n10012  HAM_0002867  ISIC_0033550  akiec    histo  40.0    male       abdomen\n10013  HAM_0002867  ISIC_0033536  akiec    histo  40.0    male       abdomen\n10014  HAM_0000239  ISIC_0032854  akiec    histo  80.0    male          face\n10015  HAM_0003521  ISIC_0032258    mel    histo  70.0  female          back\n\n[10016 rows x 7 columns]",
      "text/html": "<div>\n<style scoped>\n    .dataframe tbody tr th:only-of-type {\n        vertical-align: middle;\n    }\n\n    .dataframe tbody tr th {\n        vertical-align: top;\n    }\n\n    .dataframe thead th {\n        text-align: right;\n    }\n</style>\n<table border=\"1\" class=\"dataframe\">\n  <thead>\n    <tr style=\"text-align: right;\">\n      <th></th>\n      <th>0</th>\n      <th>1</th>\n      <th>2</th>\n      <th>3</th>\n      <th>4</th>\n      <th>5</th>\n      <th>6</th>\n    </tr>\n  </thead>\n  <tbody>\n    <tr>\n      <th>0</th>\n      <td>lesion_id</td>\n      <td>image_id</td>\n      <td>dx</td>\n      <td>dx_type</td>\n      <td>age</td>\n      <td>sex</td>\n      <td>localization</td>\n    </tr>\n    <tr>\n      <th>1</th>\n      <td>HAM_0000118</td>\n      <td>ISIC_0027419</td>\n      <td>bkl</td>\n      <td>histo</td>\n      <td>80.0</td>\n      <td>male</td>\n      <td>scalp</td>\n    </tr>\n    <tr>\n      <th>2</th>\n      <td>HAM_0000118</td>\n      <td>ISIC_0025030</td>\n      <td>bkl</td>\n      <td>histo</td>\n      <td>80.0</td>\n      <td>male</td>\n      <td>scalp</td>\n    </tr>\n    <tr>\n      <th>3</th>\n      <td>HAM_0002730</td>\n      <td>ISIC_0026769</td>\n      <td>bkl</td>\n      <td>histo</td>\n      <td>80.0</td>\n      <td>male</td>\n      <td>scalp</td>\n    </tr>\n    <tr>\n      <th>4</th>\n      <td>HAM_0002730</td>\n      <td>ISIC_0025661</td>\n      <td>bkl</td>\n      <td>histo</td>\n      <td>80.0</td>\n      <td>male</td>\n      <td>scalp</td>\n    </tr>\n    <tr>\n      <th>...</th>\n      <td>...</td>\n      <td>...</td>\n      <td>...</td>\n      <td>...</td>\n      <td>...</td>\n      <td>...</td>\n      <td>...</td>\n    </tr>\n    <tr>\n      <th>10011</th>\n      <td>HAM_0002867</td>\n      <td>ISIC_0033084</td>\n      <td>akiec</td>\n      <td>histo</td>\n      <td>40.0</td>\n      <td>male</td>\n      <td>abdomen</td>\n    </tr>\n    <tr>\n      <th>10012</th>\n      <td>HAM_0002867</td>\n      <td>ISIC_0033550</td>\n      <td>akiec</td>\n      <td>histo</td>\n      <td>40.0</td>\n      <td>male</td>\n      <td>abdomen</td>\n    </tr>\n    <tr>\n      <th>10013</th>\n      <td>HAM_0002867</td>\n      <td>ISIC_0033536</td>\n      <td>akiec</td>\n      <td>histo</td>\n      <td>40.0</td>\n      <td>male</td>\n      <td>abdomen</td>\n    </tr>\n    <tr>\n      <th>10014</th>\n      <td>HAM_0000239</td>\n      <td>ISIC_0032854</td>\n      <td>akiec</td>\n      <td>histo</td>\n      <td>80.0</td>\n      <td>male</td>\n      <td>face</td>\n    </tr>\n    <tr>\n      <th>10015</th>\n      <td>HAM_0003521</td>\n      <td>ISIC_0032258</td>\n      <td>mel</td>\n      <td>histo</td>\n      <td>70.0</td>\n      <td>female</td>\n      <td>back</td>\n    </tr>\n  </tbody>\n</table>\n<p>10016 rows × 7 columns</p>\n</div>"
     },
     "execution_count": 16,
     "metadata": {},
     "output_type": "execute_result"
    }
   ],
   "source": [
    "csv4=pd.read_csv(r\"C:\\Users\\Pratik Giri\\OneDrive\\Desktop\\HAM10000_metadata.csv\",header=None)\n",
    "csv4"
   ],
   "metadata": {
    "collapsed": false,
    "ExecuteTime": {
     "end_time": "2025-02-21T15:47:29.644639Z",
     "start_time": "2025-02-21T15:47:29.620286100Z"
    }
   },
   "id": "b3ed9561e4ec14ce",
   "execution_count": 16
  },
  {
   "cell_type": "code",
   "outputs": [
    {
     "data": {
      "text/plain": "         lesion_id      image_id     dx dx_type   age     sex localization\n0      HAM_0000118  ISIC_0027419    bkl   histo  80.0    male        scalp\n1      HAM_0000118  ISIC_0025030    bkl   histo  80.0    male        scalp\n2      HAM_0002730  ISIC_0026769    bkl   histo  80.0    male        scalp\n3      HAM_0002730  ISIC_0025661    bkl   histo  80.0    male        scalp\n4      HAM_0001466  ISIC_0031633    bkl   histo  75.0    male          ear\n...            ...           ...    ...     ...   ...     ...          ...\n10010  HAM_0002867  ISIC_0033084  akiec   histo  40.0    male      abdomen\n10011  HAM_0002867  ISIC_0033550  akiec   histo  40.0    male      abdomen\n10012  HAM_0002867  ISIC_0033536  akiec   histo  40.0    male      abdomen\n10013  HAM_0000239  ISIC_0032854  akiec   histo  80.0    male         face\n10014  HAM_0003521  ISIC_0032258    mel   histo  70.0  female         back\n\n[10015 rows x 7 columns]",
      "text/html": "<div>\n<style scoped>\n    .dataframe tbody tr th:only-of-type {\n        vertical-align: middle;\n    }\n\n    .dataframe tbody tr th {\n        vertical-align: top;\n    }\n\n    .dataframe thead th {\n        text-align: right;\n    }\n</style>\n<table border=\"1\" class=\"dataframe\">\n  <thead>\n    <tr style=\"text-align: right;\">\n      <th></th>\n      <th>lesion_id</th>\n      <th>image_id</th>\n      <th>dx</th>\n      <th>dx_type</th>\n      <th>age</th>\n      <th>sex</th>\n      <th>localization</th>\n    </tr>\n  </thead>\n  <tbody>\n    <tr>\n      <th>0</th>\n      <td>HAM_0000118</td>\n      <td>ISIC_0027419</td>\n      <td>bkl</td>\n      <td>histo</td>\n      <td>80.0</td>\n      <td>male</td>\n      <td>scalp</td>\n    </tr>\n    <tr>\n      <th>1</th>\n      <td>HAM_0000118</td>\n      <td>ISIC_0025030</td>\n      <td>bkl</td>\n      <td>histo</td>\n      <td>80.0</td>\n      <td>male</td>\n      <td>scalp</td>\n    </tr>\n    <tr>\n      <th>2</th>\n      <td>HAM_0002730</td>\n      <td>ISIC_0026769</td>\n      <td>bkl</td>\n      <td>histo</td>\n      <td>80.0</td>\n      <td>male</td>\n      <td>scalp</td>\n    </tr>\n    <tr>\n      <th>3</th>\n      <td>HAM_0002730</td>\n      <td>ISIC_0025661</td>\n      <td>bkl</td>\n      <td>histo</td>\n      <td>80.0</td>\n      <td>male</td>\n      <td>scalp</td>\n    </tr>\n    <tr>\n      <th>4</th>\n      <td>HAM_0001466</td>\n      <td>ISIC_0031633</td>\n      <td>bkl</td>\n      <td>histo</td>\n      <td>75.0</td>\n      <td>male</td>\n      <td>ear</td>\n    </tr>\n    <tr>\n      <th>...</th>\n      <td>...</td>\n      <td>...</td>\n      <td>...</td>\n      <td>...</td>\n      <td>...</td>\n      <td>...</td>\n      <td>...</td>\n    </tr>\n    <tr>\n      <th>10010</th>\n      <td>HAM_0002867</td>\n      <td>ISIC_0033084</td>\n      <td>akiec</td>\n      <td>histo</td>\n      <td>40.0</td>\n      <td>male</td>\n      <td>abdomen</td>\n    </tr>\n    <tr>\n      <th>10011</th>\n      <td>HAM_0002867</td>\n      <td>ISIC_0033550</td>\n      <td>akiec</td>\n      <td>histo</td>\n      <td>40.0</td>\n      <td>male</td>\n      <td>abdomen</td>\n    </tr>\n    <tr>\n      <th>10012</th>\n      <td>HAM_0002867</td>\n      <td>ISIC_0033536</td>\n      <td>akiec</td>\n      <td>histo</td>\n      <td>40.0</td>\n      <td>male</td>\n      <td>abdomen</td>\n    </tr>\n    <tr>\n      <th>10013</th>\n      <td>HAM_0000239</td>\n      <td>ISIC_0032854</td>\n      <td>akiec</td>\n      <td>histo</td>\n      <td>80.0</td>\n      <td>male</td>\n      <td>face</td>\n    </tr>\n    <tr>\n      <th>10014</th>\n      <td>HAM_0003521</td>\n      <td>ISIC_0032258</td>\n      <td>mel</td>\n      <td>histo</td>\n      <td>70.0</td>\n      <td>female</td>\n      <td>back</td>\n    </tr>\n  </tbody>\n</table>\n<p>10015 rows × 7 columns</p>\n</div>"
     },
     "execution_count": 25,
     "metadata": {},
     "output_type": "execute_result"
    }
   ],
   "source": [
    "csv4=pd.read_csv(r\"C:\\Users\\Pratik Giri\\OneDrive\\Desktop\\HAM10000_metadata.csv\")\n",
    "csv4"
   ],
   "metadata": {
    "collapsed": false,
    "ExecuteTime": {
     "end_time": "2025-02-21T16:09:48.933065300Z",
     "start_time": "2025-02-21T16:09:48.902813900Z"
    }
   },
   "id": "e73c3cad504e4881",
   "execution_count": 25
  },
  {
   "cell_type": "code",
   "outputs": [],
   "source": [
    "# PANDAS FUNCTION"
   ],
   "metadata": {
    "collapsed": false
   },
   "id": "a70c5a42293f3a55"
  },
  {
   "cell_type": "code",
   "outputs": [
    {
     "data": {
      "text/plain": "RangeIndex(start=0, stop=10016, step=1)"
     },
     "execution_count": 23,
     "metadata": {},
     "output_type": "execute_result"
    }
   ],
   "source": [
    "csv4.index"
   ],
   "metadata": {
    "collapsed": false,
    "ExecuteTime": {
     "end_time": "2025-02-21T16:09:06.278415500Z",
     "start_time": "2025-02-21T16:09:06.266424500Z"
    }
   },
   "id": "1dc960635dee89fc",
   "execution_count": 23
  },
  {
   "cell_type": "code",
   "outputs": [
    {
     "data": {
      "text/plain": "Index(['lesion_id', 'image_id', 'dx', 'dx_type', 'age', 'sex', 'localization'], dtype='object')"
     },
     "execution_count": 26,
     "metadata": {},
     "output_type": "execute_result"
    }
   ],
   "source": [
    "csv4.columns\n"
   ],
   "metadata": {
    "collapsed": false,
    "ExecuteTime": {
     "end_time": "2025-02-21T16:09:57.851077300Z",
     "start_time": "2025-02-21T16:09:57.815110600Z"
    }
   },
   "id": "891ab21c2f61b2fc",
   "execution_count": 26
  },
  {
   "cell_type": "code",
   "outputs": [
    {
     "data": {
      "text/plain": "               age\ncount  9958.000000\nmean     51.863828\nstd      16.968614\nmin       0.000000\n25%      40.000000\n50%      50.000000\n75%      65.000000\nmax      85.000000",
      "text/html": "<div>\n<style scoped>\n    .dataframe tbody tr th:only-of-type {\n        vertical-align: middle;\n    }\n\n    .dataframe tbody tr th {\n        vertical-align: top;\n    }\n\n    .dataframe thead th {\n        text-align: right;\n    }\n</style>\n<table border=\"1\" class=\"dataframe\">\n  <thead>\n    <tr style=\"text-align: right;\">\n      <th></th>\n      <th>age</th>\n    </tr>\n  </thead>\n  <tbody>\n    <tr>\n      <th>count</th>\n      <td>9958.000000</td>\n    </tr>\n    <tr>\n      <th>mean</th>\n      <td>51.863828</td>\n    </tr>\n    <tr>\n      <th>std</th>\n      <td>16.968614</td>\n    </tr>\n    <tr>\n      <th>min</th>\n      <td>0.000000</td>\n    </tr>\n    <tr>\n      <th>25%</th>\n      <td>40.000000</td>\n    </tr>\n    <tr>\n      <th>50%</th>\n      <td>50.000000</td>\n    </tr>\n    <tr>\n      <th>75%</th>\n      <td>65.000000</td>\n    </tr>\n    <tr>\n      <th>max</th>\n      <td>85.000000</td>\n    </tr>\n  </tbody>\n</table>\n</div>"
     },
     "execution_count": 28,
     "metadata": {},
     "output_type": "execute_result"
    }
   ],
   "source": [
    "csv4.describe()"
   ],
   "metadata": {
    "collapsed": false,
    "ExecuteTime": {
     "end_time": "2025-02-21T16:17:27.152077800Z",
     "start_time": "2025-02-21T16:17:27.115067100Z"
    }
   },
   "id": "6ea3a9c8255364ae",
   "execution_count": 28
  },
  {
   "cell_type": "code",
   "outputs": [
    {
     "data": {
      "text/plain": "         lesion_id      image_id     dx dx_type   age     sex localization\n0      HAM_0000118  ISIC_0027419    bkl   histo  80.0    male        scalp\n1      HAM_0000118  ISIC_0025030    bkl   histo  80.0    male        scalp\n2      HAM_0002730  ISIC_0026769    bkl   histo  80.0    male        scalp\n3      HAM_0002730  ISIC_0025661    bkl   histo  80.0    male        scalp\n4      HAM_0001466  ISIC_0031633    bkl   histo  75.0    male          ear\n...            ...           ...    ...     ...   ...     ...          ...\n10010  HAM_0002867  ISIC_0033084  akiec   histo  40.0    male      abdomen\n10011  HAM_0002867  ISIC_0033550  akiec   histo  40.0    male      abdomen\n10012  HAM_0002867  ISIC_0033536  akiec   histo  40.0    male      abdomen\n10013  HAM_0000239  ISIC_0032854  akiec   histo  80.0    male         face\n10014  HAM_0003521  ISIC_0032258    mel   histo  70.0  female         back\n\n[10015 rows x 7 columns]",
      "text/html": "<div>\n<style scoped>\n    .dataframe tbody tr th:only-of-type {\n        vertical-align: middle;\n    }\n\n    .dataframe tbody tr th {\n        vertical-align: top;\n    }\n\n    .dataframe thead th {\n        text-align: right;\n    }\n</style>\n<table border=\"1\" class=\"dataframe\">\n  <thead>\n    <tr style=\"text-align: right;\">\n      <th></th>\n      <th>lesion_id</th>\n      <th>image_id</th>\n      <th>dx</th>\n      <th>dx_type</th>\n      <th>age</th>\n      <th>sex</th>\n      <th>localization</th>\n    </tr>\n  </thead>\n  <tbody>\n    <tr>\n      <th>0</th>\n      <td>HAM_0000118</td>\n      <td>ISIC_0027419</td>\n      <td>bkl</td>\n      <td>histo</td>\n      <td>80.0</td>\n      <td>male</td>\n      <td>scalp</td>\n    </tr>\n    <tr>\n      <th>1</th>\n      <td>HAM_0000118</td>\n      <td>ISIC_0025030</td>\n      <td>bkl</td>\n      <td>histo</td>\n      <td>80.0</td>\n      <td>male</td>\n      <td>scalp</td>\n    </tr>\n    <tr>\n      <th>2</th>\n      <td>HAM_0002730</td>\n      <td>ISIC_0026769</td>\n      <td>bkl</td>\n      <td>histo</td>\n      <td>80.0</td>\n      <td>male</td>\n      <td>scalp</td>\n    </tr>\n    <tr>\n      <th>3</th>\n      <td>HAM_0002730</td>\n      <td>ISIC_0025661</td>\n      <td>bkl</td>\n      <td>histo</td>\n      <td>80.0</td>\n      <td>male</td>\n      <td>scalp</td>\n    </tr>\n    <tr>\n      <th>4</th>\n      <td>HAM_0001466</td>\n      <td>ISIC_0031633</td>\n      <td>bkl</td>\n      <td>histo</td>\n      <td>75.0</td>\n      <td>male</td>\n      <td>ear</td>\n    </tr>\n    <tr>\n      <th>...</th>\n      <td>...</td>\n      <td>...</td>\n      <td>...</td>\n      <td>...</td>\n      <td>...</td>\n      <td>...</td>\n      <td>...</td>\n    </tr>\n    <tr>\n      <th>10010</th>\n      <td>HAM_0002867</td>\n      <td>ISIC_0033084</td>\n      <td>akiec</td>\n      <td>histo</td>\n      <td>40.0</td>\n      <td>male</td>\n      <td>abdomen</td>\n    </tr>\n    <tr>\n      <th>10011</th>\n      <td>HAM_0002867</td>\n      <td>ISIC_0033550</td>\n      <td>akiec</td>\n      <td>histo</td>\n      <td>40.0</td>\n      <td>male</td>\n      <td>abdomen</td>\n    </tr>\n    <tr>\n      <th>10012</th>\n      <td>HAM_0002867</td>\n      <td>ISIC_0033536</td>\n      <td>akiec</td>\n      <td>histo</td>\n      <td>40.0</td>\n      <td>male</td>\n      <td>abdomen</td>\n    </tr>\n    <tr>\n      <th>10013</th>\n      <td>HAM_0000239</td>\n      <td>ISIC_0032854</td>\n      <td>akiec</td>\n      <td>histo</td>\n      <td>80.0</td>\n      <td>male</td>\n      <td>face</td>\n    </tr>\n    <tr>\n      <th>10014</th>\n      <td>HAM_0003521</td>\n      <td>ISIC_0032258</td>\n      <td>mel</td>\n      <td>histo</td>\n      <td>70.0</td>\n      <td>female</td>\n      <td>back</td>\n    </tr>\n  </tbody>\n</table>\n<p>10015 rows × 7 columns</p>\n</div>"
     },
     "execution_count": 29,
     "metadata": {},
     "output_type": "execute_result"
    }
   ],
   "source": [
    "df = pd.DataFrame(csv4)\n",
    "df"
   ],
   "metadata": {
    "collapsed": false,
    "ExecuteTime": {
     "end_time": "2025-02-21T16:23:06.640915300Z",
     "start_time": "2025-02-21T16:23:06.614124600Z"
    }
   },
   "id": "9e2874e241407d7f",
   "execution_count": 29
  },
  {
   "cell_type": "code",
   "outputs": [
    {
     "data": {
      "text/plain": "        lesion_id      image_id     dx    dx_type   age     sex  \\\n86    HAM_0002092  ISIC_0031624    bkl      histo  35.0  female   \n87    HAM_0002092  ISIC_0025510    bkl      histo  35.0  female   \n117   HAM_0007179  ISIC_0025906    bkl      histo   0.0  female   \n118   HAM_0007179  ISIC_0027151    bkl      histo   0.0  female   \n216   HAM_0003265  ISIC_0025180    bkl      histo  35.0  female   \n...           ...           ...    ...        ...   ...     ...   \n9681  HAM_0003965  ISIC_0028380     nv  consensus  15.0  female   \n9682  HAM_0006283  ISIC_0027924     nv  consensus  20.0    male   \n9683  HAM_0000102  ISIC_0031547     nv  consensus  20.0    male   \n9684  HAM_0000102  ISIC_0032221     nv  consensus  20.0    male   \n9980  HAM_0003910  ISIC_0026194  akiec      histo  30.0    male   \n\n         localization  \n86    lower extremity  \n87    lower extremity  \n117              back  \n118              back  \n216             chest  \n...               ...  \n9681             back  \n9682            chest  \n9683             back  \n9684             back  \n9980             face  \n\n[1876 rows x 7 columns]",
      "text/html": "<div>\n<style scoped>\n    .dataframe tbody tr th:only-of-type {\n        vertical-align: middle;\n    }\n\n    .dataframe tbody tr th {\n        vertical-align: top;\n    }\n\n    .dataframe thead th {\n        text-align: right;\n    }\n</style>\n<table border=\"1\" class=\"dataframe\">\n  <thead>\n    <tr style=\"text-align: right;\">\n      <th></th>\n      <th>lesion_id</th>\n      <th>image_id</th>\n      <th>dx</th>\n      <th>dx_type</th>\n      <th>age</th>\n      <th>sex</th>\n      <th>localization</th>\n    </tr>\n  </thead>\n  <tbody>\n    <tr>\n      <th>86</th>\n      <td>HAM_0002092</td>\n      <td>ISIC_0031624</td>\n      <td>bkl</td>\n      <td>histo</td>\n      <td>35.0</td>\n      <td>female</td>\n      <td>lower extremity</td>\n    </tr>\n    <tr>\n      <th>87</th>\n      <td>HAM_0002092</td>\n      <td>ISIC_0025510</td>\n      <td>bkl</td>\n      <td>histo</td>\n      <td>35.0</td>\n      <td>female</td>\n      <td>lower extremity</td>\n    </tr>\n    <tr>\n      <th>117</th>\n      <td>HAM_0007179</td>\n      <td>ISIC_0025906</td>\n      <td>bkl</td>\n      <td>histo</td>\n      <td>0.0</td>\n      <td>female</td>\n      <td>back</td>\n    </tr>\n    <tr>\n      <th>118</th>\n      <td>HAM_0007179</td>\n      <td>ISIC_0027151</td>\n      <td>bkl</td>\n      <td>histo</td>\n      <td>0.0</td>\n      <td>female</td>\n      <td>back</td>\n    </tr>\n    <tr>\n      <th>216</th>\n      <td>HAM_0003265</td>\n      <td>ISIC_0025180</td>\n      <td>bkl</td>\n      <td>histo</td>\n      <td>35.0</td>\n      <td>female</td>\n      <td>chest</td>\n    </tr>\n    <tr>\n      <th>...</th>\n      <td>...</td>\n      <td>...</td>\n      <td>...</td>\n      <td>...</td>\n      <td>...</td>\n      <td>...</td>\n      <td>...</td>\n    </tr>\n    <tr>\n      <th>9681</th>\n      <td>HAM_0003965</td>\n      <td>ISIC_0028380</td>\n      <td>nv</td>\n      <td>consensus</td>\n      <td>15.0</td>\n      <td>female</td>\n      <td>back</td>\n    </tr>\n    <tr>\n      <th>9682</th>\n      <td>HAM_0006283</td>\n      <td>ISIC_0027924</td>\n      <td>nv</td>\n      <td>consensus</td>\n      <td>20.0</td>\n      <td>male</td>\n      <td>chest</td>\n    </tr>\n    <tr>\n      <th>9683</th>\n      <td>HAM_0000102</td>\n      <td>ISIC_0031547</td>\n      <td>nv</td>\n      <td>consensus</td>\n      <td>20.0</td>\n      <td>male</td>\n      <td>back</td>\n    </tr>\n    <tr>\n      <th>9684</th>\n      <td>HAM_0000102</td>\n      <td>ISIC_0032221</td>\n      <td>nv</td>\n      <td>consensus</td>\n      <td>20.0</td>\n      <td>male</td>\n      <td>back</td>\n    </tr>\n    <tr>\n      <th>9980</th>\n      <td>HAM_0003910</td>\n      <td>ISIC_0026194</td>\n      <td>akiec</td>\n      <td>histo</td>\n      <td>30.0</td>\n      <td>male</td>\n      <td>face</td>\n    </tr>\n  </tbody>\n</table>\n<p>1876 rows × 7 columns</p>\n</div>"
     },
     "execution_count": 31,
     "metadata": {},
     "output_type": "execute_result"
    }
   ],
   "source": [
    "reasult = df[df[\"age\"]<40]\n",
    "reasult"
   ],
   "metadata": {
    "collapsed": false,
    "ExecuteTime": {
     "end_time": "2025-02-21T16:31:04.257921900Z",
     "start_time": "2025-02-21T16:31:04.232436600Z"
    }
   },
   "id": "70922cae61284596",
   "execution_count": 31
  },
  {
   "cell_type": "code",
   "outputs": [
    {
     "data": {
      "text/plain": "     lesion_id      image_id   dx dx_type   age   sex localization\n0  HAM_0000118  ISIC_0027419  bkl   histo  80.0  male        scalp\n1  HAM_0000118  ISIC_0025030  bkl   histo  80.0  male        scalp\n2  HAM_0002730  ISIC_0026769  bkl   histo  80.0  male        scalp\n3  HAM_0002730  ISIC_0025661  bkl   histo  80.0  male        scalp\n4  HAM_0001466  ISIC_0031633  bkl   histo  75.0  male          ear\n5  HAM_0001466  ISIC_0027850  bkl   histo  75.0  male          ear\n6  HAM_0002761  ISIC_0029176  bkl   histo  60.0  male         face",
      "text/html": "<div>\n<style scoped>\n    .dataframe tbody tr th:only-of-type {\n        vertical-align: middle;\n    }\n\n    .dataframe tbody tr th {\n        vertical-align: top;\n    }\n\n    .dataframe thead th {\n        text-align: right;\n    }\n</style>\n<table border=\"1\" class=\"dataframe\">\n  <thead>\n    <tr style=\"text-align: right;\">\n      <th></th>\n      <th>lesion_id</th>\n      <th>image_id</th>\n      <th>dx</th>\n      <th>dx_type</th>\n      <th>age</th>\n      <th>sex</th>\n      <th>localization</th>\n    </tr>\n  </thead>\n  <tbody>\n    <tr>\n      <th>0</th>\n      <td>HAM_0000118</td>\n      <td>ISIC_0027419</td>\n      <td>bkl</td>\n      <td>histo</td>\n      <td>80.0</td>\n      <td>male</td>\n      <td>scalp</td>\n    </tr>\n    <tr>\n      <th>1</th>\n      <td>HAM_0000118</td>\n      <td>ISIC_0025030</td>\n      <td>bkl</td>\n      <td>histo</td>\n      <td>80.0</td>\n      <td>male</td>\n      <td>scalp</td>\n    </tr>\n    <tr>\n      <th>2</th>\n      <td>HAM_0002730</td>\n      <td>ISIC_0026769</td>\n      <td>bkl</td>\n      <td>histo</td>\n      <td>80.0</td>\n      <td>male</td>\n      <td>scalp</td>\n    </tr>\n    <tr>\n      <th>3</th>\n      <td>HAM_0002730</td>\n      <td>ISIC_0025661</td>\n      <td>bkl</td>\n      <td>histo</td>\n      <td>80.0</td>\n      <td>male</td>\n      <td>scalp</td>\n    </tr>\n    <tr>\n      <th>4</th>\n      <td>HAM_0001466</td>\n      <td>ISIC_0031633</td>\n      <td>bkl</td>\n      <td>histo</td>\n      <td>75.0</td>\n      <td>male</td>\n      <td>ear</td>\n    </tr>\n    <tr>\n      <th>5</th>\n      <td>HAM_0001466</td>\n      <td>ISIC_0027850</td>\n      <td>bkl</td>\n      <td>histo</td>\n      <td>75.0</td>\n      <td>male</td>\n      <td>ear</td>\n    </tr>\n    <tr>\n      <th>6</th>\n      <td>HAM_0002761</td>\n      <td>ISIC_0029176</td>\n      <td>bkl</td>\n      <td>histo</td>\n      <td>60.0</td>\n      <td>male</td>\n      <td>face</td>\n    </tr>\n  </tbody>\n</table>\n</div>"
     },
     "execution_count": 32,
     "metadata": {},
     "output_type": "execute_result"
    }
   ],
   "source": [
    "csv4.head(7)"
   ],
   "metadata": {
    "collapsed": false,
    "ExecuteTime": {
     "end_time": "2025-02-21T16:34:00.162831900Z",
     "start_time": "2025-02-21T16:34:00.131667700Z"
    }
   },
   "id": "d7b506c2778160b9",
   "execution_count": 32
  },
  {
   "cell_type": "code",
   "outputs": [
    {
     "data": {
      "text/plain": "         lesion_id      image_id     dx dx_type   age     sex localization\n10011  HAM_0002867  ISIC_0033550  akiec   histo  40.0    male      abdomen\n10012  HAM_0002867  ISIC_0033536  akiec   histo  40.0    male      abdomen\n10013  HAM_0000239  ISIC_0032854  akiec   histo  80.0    male         face\n10014  HAM_0003521  ISIC_0032258    mel   histo  70.0  female         back",
      "text/html": "<div>\n<style scoped>\n    .dataframe tbody tr th:only-of-type {\n        vertical-align: middle;\n    }\n\n    .dataframe tbody tr th {\n        vertical-align: top;\n    }\n\n    .dataframe thead th {\n        text-align: right;\n    }\n</style>\n<table border=\"1\" class=\"dataframe\">\n  <thead>\n    <tr style=\"text-align: right;\">\n      <th></th>\n      <th>lesion_id</th>\n      <th>image_id</th>\n      <th>dx</th>\n      <th>dx_type</th>\n      <th>age</th>\n      <th>sex</th>\n      <th>localization</th>\n    </tr>\n  </thead>\n  <tbody>\n    <tr>\n      <th>10011</th>\n      <td>HAM_0002867</td>\n      <td>ISIC_0033550</td>\n      <td>akiec</td>\n      <td>histo</td>\n      <td>40.0</td>\n      <td>male</td>\n      <td>abdomen</td>\n    </tr>\n    <tr>\n      <th>10012</th>\n      <td>HAM_0002867</td>\n      <td>ISIC_0033536</td>\n      <td>akiec</td>\n      <td>histo</td>\n      <td>40.0</td>\n      <td>male</td>\n      <td>abdomen</td>\n    </tr>\n    <tr>\n      <th>10013</th>\n      <td>HAM_0000239</td>\n      <td>ISIC_0032854</td>\n      <td>akiec</td>\n      <td>histo</td>\n      <td>80.0</td>\n      <td>male</td>\n      <td>face</td>\n    </tr>\n    <tr>\n      <th>10014</th>\n      <td>HAM_0003521</td>\n      <td>ISIC_0032258</td>\n      <td>mel</td>\n      <td>histo</td>\n      <td>70.0</td>\n      <td>female</td>\n      <td>back</td>\n    </tr>\n  </tbody>\n</table>\n</div>"
     },
     "execution_count": 33,
     "metadata": {},
     "output_type": "execute_result"
    }
   ],
   "source": [
    "csv4.tail(4)"
   ],
   "metadata": {
    "collapsed": false,
    "ExecuteTime": {
     "end_time": "2025-02-21T16:36:15.965370300Z",
     "start_time": "2025-02-21T16:36:15.931024500Z"
    }
   },
   "id": "3d44d3572426b184",
   "execution_count": 33
  },
  {
   "cell_type": "code",
   "outputs": [
    {
     "data": {
      "text/plain": "      lesion_id      image_id   dx dx_type   age     sex localization\n10  HAM_0001396  ISIC_0025276  bkl   histo  55.0  female        trunk\n11  HAM_0004234  ISIC_0029396  bkl   histo  85.0  female        chest\n12  HAM_0004234  ISIC_0025984  bkl   histo  85.0  female        chest\n13  HAM_0001949  ISIC_0025767  bkl   histo  70.0    male        trunk\n14  HAM_0001949  ISIC_0032417  bkl   histo  70.0    male        trunk",
      "text/html": "<div>\n<style scoped>\n    .dataframe tbody tr th:only-of-type {\n        vertical-align: middle;\n    }\n\n    .dataframe tbody tr th {\n        vertical-align: top;\n    }\n\n    .dataframe thead th {\n        text-align: right;\n    }\n</style>\n<table border=\"1\" class=\"dataframe\">\n  <thead>\n    <tr style=\"text-align: right;\">\n      <th></th>\n      <th>lesion_id</th>\n      <th>image_id</th>\n      <th>dx</th>\n      <th>dx_type</th>\n      <th>age</th>\n      <th>sex</th>\n      <th>localization</th>\n    </tr>\n  </thead>\n  <tbody>\n    <tr>\n      <th>10</th>\n      <td>HAM_0001396</td>\n      <td>ISIC_0025276</td>\n      <td>bkl</td>\n      <td>histo</td>\n      <td>55.0</td>\n      <td>female</td>\n      <td>trunk</td>\n    </tr>\n    <tr>\n      <th>11</th>\n      <td>HAM_0004234</td>\n      <td>ISIC_0029396</td>\n      <td>bkl</td>\n      <td>histo</td>\n      <td>85.0</td>\n      <td>female</td>\n      <td>chest</td>\n    </tr>\n    <tr>\n      <th>12</th>\n      <td>HAM_0004234</td>\n      <td>ISIC_0025984</td>\n      <td>bkl</td>\n      <td>histo</td>\n      <td>85.0</td>\n      <td>female</td>\n      <td>chest</td>\n    </tr>\n    <tr>\n      <th>13</th>\n      <td>HAM_0001949</td>\n      <td>ISIC_0025767</td>\n      <td>bkl</td>\n      <td>histo</td>\n      <td>70.0</td>\n      <td>male</td>\n      <td>trunk</td>\n    </tr>\n    <tr>\n      <th>14</th>\n      <td>HAM_0001949</td>\n      <td>ISIC_0032417</td>\n      <td>bkl</td>\n      <td>histo</td>\n      <td>70.0</td>\n      <td>male</td>\n      <td>trunk</td>\n    </tr>\n  </tbody>\n</table>\n</div>"
     },
     "execution_count": 34,
     "metadata": {},
     "output_type": "execute_result"
    }
   ],
   "source": [
    "csv4[10:15:1]"
   ],
   "metadata": {
    "collapsed": false,
    "ExecuteTime": {
     "end_time": "2025-02-21T16:44:31.499390600Z",
     "start_time": "2025-02-21T16:44:31.471970200Z"
    }
   },
   "id": "4df15635f4d1db88",
   "execution_count": 34
  },
  {
   "cell_type": "code",
   "outputs": [
    {
     "data": {
      "text/plain": "         lesion_id      image_id     dx dx_type   age     sex localization\n10014  HAM_0003521  ISIC_0032258    mel   histo  70.0  female         back\n10013  HAM_0000239  ISIC_0032854  akiec   histo  80.0    male         face\n10012  HAM_0002867  ISIC_0033536  akiec   histo  40.0    male      abdomen\n10011  HAM_0002867  ISIC_0033550  akiec   histo  40.0    male      abdomen\n10010  HAM_0002867  ISIC_0033084  akiec   histo  40.0    male      abdomen\n...            ...           ...    ...     ...   ...     ...          ...\n4      HAM_0001466  ISIC_0031633    bkl   histo  75.0    male          ear\n3      HAM_0002730  ISIC_0025661    bkl   histo  80.0    male        scalp\n2      HAM_0002730  ISIC_0026769    bkl   histo  80.0    male        scalp\n1      HAM_0000118  ISIC_0025030    bkl   histo  80.0    male        scalp\n0      HAM_0000118  ISIC_0027419    bkl   histo  80.0    male        scalp\n\n[10015 rows x 7 columns]",
      "text/html": "<div>\n<style scoped>\n    .dataframe tbody tr th:only-of-type {\n        vertical-align: middle;\n    }\n\n    .dataframe tbody tr th {\n        vertical-align: top;\n    }\n\n    .dataframe thead th {\n        text-align: right;\n    }\n</style>\n<table border=\"1\" class=\"dataframe\">\n  <thead>\n    <tr style=\"text-align: right;\">\n      <th></th>\n      <th>lesion_id</th>\n      <th>image_id</th>\n      <th>dx</th>\n      <th>dx_type</th>\n      <th>age</th>\n      <th>sex</th>\n      <th>localization</th>\n    </tr>\n  </thead>\n  <tbody>\n    <tr>\n      <th>10014</th>\n      <td>HAM_0003521</td>\n      <td>ISIC_0032258</td>\n      <td>mel</td>\n      <td>histo</td>\n      <td>70.0</td>\n      <td>female</td>\n      <td>back</td>\n    </tr>\n    <tr>\n      <th>10013</th>\n      <td>HAM_0000239</td>\n      <td>ISIC_0032854</td>\n      <td>akiec</td>\n      <td>histo</td>\n      <td>80.0</td>\n      <td>male</td>\n      <td>face</td>\n    </tr>\n    <tr>\n      <th>10012</th>\n      <td>HAM_0002867</td>\n      <td>ISIC_0033536</td>\n      <td>akiec</td>\n      <td>histo</td>\n      <td>40.0</td>\n      <td>male</td>\n      <td>abdomen</td>\n    </tr>\n    <tr>\n      <th>10011</th>\n      <td>HAM_0002867</td>\n      <td>ISIC_0033550</td>\n      <td>akiec</td>\n      <td>histo</td>\n      <td>40.0</td>\n      <td>male</td>\n      <td>abdomen</td>\n    </tr>\n    <tr>\n      <th>10010</th>\n      <td>HAM_0002867</td>\n      <td>ISIC_0033084</td>\n      <td>akiec</td>\n      <td>histo</td>\n      <td>40.0</td>\n      <td>male</td>\n      <td>abdomen</td>\n    </tr>\n    <tr>\n      <th>...</th>\n      <td>...</td>\n      <td>...</td>\n      <td>...</td>\n      <td>...</td>\n      <td>...</td>\n      <td>...</td>\n      <td>...</td>\n    </tr>\n    <tr>\n      <th>4</th>\n      <td>HAM_0001466</td>\n      <td>ISIC_0031633</td>\n      <td>bkl</td>\n      <td>histo</td>\n      <td>75.0</td>\n      <td>male</td>\n      <td>ear</td>\n    </tr>\n    <tr>\n      <th>3</th>\n      <td>HAM_0002730</td>\n      <td>ISIC_0025661</td>\n      <td>bkl</td>\n      <td>histo</td>\n      <td>80.0</td>\n      <td>male</td>\n      <td>scalp</td>\n    </tr>\n    <tr>\n      <th>2</th>\n      <td>HAM_0002730</td>\n      <td>ISIC_0026769</td>\n      <td>bkl</td>\n      <td>histo</td>\n      <td>80.0</td>\n      <td>male</td>\n      <td>scalp</td>\n    </tr>\n    <tr>\n      <th>1</th>\n      <td>HAM_0000118</td>\n      <td>ISIC_0025030</td>\n      <td>bkl</td>\n      <td>histo</td>\n      <td>80.0</td>\n      <td>male</td>\n      <td>scalp</td>\n    </tr>\n    <tr>\n      <th>0</th>\n      <td>HAM_0000118</td>\n      <td>ISIC_0027419</td>\n      <td>bkl</td>\n      <td>histo</td>\n      <td>80.0</td>\n      <td>male</td>\n      <td>scalp</td>\n    </tr>\n  </tbody>\n</table>\n<p>10015 rows × 7 columns</p>\n</div>"
     },
     "execution_count": 35,
     "metadata": {},
     "output_type": "execute_result"
    }
   ],
   "source": [
    "csv4.sort_index(axis=0,ascending=False)"
   ],
   "metadata": {
    "collapsed": false,
    "ExecuteTime": {
     "end_time": "2025-02-21T16:50:03.014018100Z",
     "start_time": "2025-02-21T16:50:02.977264300Z"
    }
   },
   "id": "8433f38bb9aa2abe",
   "execution_count": 35
  },
  {
   "cell_type": "code",
   "outputs": [],
   "source": [],
   "metadata": {
    "collapsed": false
   },
   "id": "3d84b769f19c4698"
  }
 ],
 "metadata": {
  "kernelspec": {
   "display_name": "Python 3",
   "language": "python",
   "name": "python3"
  },
  "language_info": {
   "codemirror_mode": {
    "name": "ipython",
    "version": 2
   },
   "file_extension": ".py",
   "mimetype": "text/x-python",
   "name": "python",
   "nbconvert_exporter": "python",
   "pygments_lexer": "ipython2",
   "version": "2.7.6"
  }
 },
 "nbformat": 4,
 "nbformat_minor": 5
}
